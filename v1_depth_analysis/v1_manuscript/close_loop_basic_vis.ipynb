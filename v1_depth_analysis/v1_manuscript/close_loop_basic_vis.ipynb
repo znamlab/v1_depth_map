{
 "cells": [
  {
   "attachments": {},
   "cell_type": "markdown",
   "metadata": {},
   "source": [
    "This notebook generates the following panels:\n",
    "- ( ) Example of 1 neuron - Closed loop: example raster, PSTH, depth tuning\n",
    "\n",
    "use env 2p_analysis_cottage"
   ]
  },
  {
   "cell_type": "code",
   "execution_count": null,
   "metadata": {},
   "outputs": [],
   "source": [
    "VERSION = 1\n"
   ]
  },
  {
   "cell_type": "code",
   "execution_count": null,
   "metadata": {},
   "outputs": [],
   "source": [
    "%reload_ext autoreload\n",
    "%autoreload 2\n",
    "\n",
    "\n",
    "from functools import partial\n",
    "\n",
    "print = partial(print, flush=True)\n",
    "\n",
    "import functools\n",
    "print = functools.partial(print, flush=True)\n",
    "\n",
    "import os\n",
    "import numpy as np\n",
    "import pandas as pd\n",
    "import matplotlib.pyplot as plt\n",
    "from pathlib import Path\n",
    "import pickle\n",
    "from tqdm import tqdm\n",
    "import scipy\n",
    "\n",
    "import flexiznam as flz\n",
    "from cottage_analysis.preprocessing import synchronisation\n",
    "from cottage_analysis.analysis import spheres, find_depth_neurons, pipeline_utils, common_utils, fit_gaussian_blob, size_control\n",
    "from cottage_analysis.plotting import basic_vis_plots"
   ]
  },
  {
   "cell_type": "code",
   "execution_count": null,
   "metadata": {},
   "outputs": [],
   "source": [
    "# example neurons:\n",
    "# 'PZAH8.2f_S20230109': [409, 571,238,724]\n",
    "# 'PZAH8.2h_S20230113': [174, 261, 249, 54, 86, 88]"
   ]
  },
  {
   "cell_type": "code",
   "execution_count": null,
   "metadata": {},
   "outputs": [],
   "source": [
    "project='hey2_3d-vision_foodres_20220101'\n",
    "session_name='PZAH8.2h_S20230116'\n",
    "flexilims_session = flz.get_flexilims_session(project)\n",
    "\n",
    "vs_df_all, trials_df_all = spheres.sync_all_recordings(\n",
    "    session_name=session_name,\n",
    "    flexilims_session=flexilims_session,\n",
    "    project=project,\n",
    "    filter_datasets={'anatomical_only':3},\n",
    "    recording_type=\"two_photon\",\n",
    "    protocol_base=\"SpheresPermTubeReward\",\n",
    "    photodiode_protocol=5,\n",
    "    return_volumes=True,\n",
    ")\n",
    "\n",
    "neurons_ds = pipeline_utils.create_neurons_ds(\n",
    "    session_name=session_name, flexilims_session=flexilims_session, project=None, conflicts=\"skip\"\n",
    ")\n",
    "neurons_df = pd.read_pickle(neurons_ds.path_full)\n",
    "\n"
   ]
  },
  {
   "cell_type": "code",
   "execution_count": null,
   "metadata": {},
   "outputs": [],
   "source": [
    "# RASTER PLOT OF AN EXAMPLE NEURON\n",
    "plt.figure(figsize=(2*8,5))\n",
    "basic_vis_plots.plot_raster_all_depths(\n",
    "    neurons_df=neurons_df,\n",
    "    trials_df=trials_df_all,\n",
    "    roi=54,\n",
    "    is_closed_loop=True,\n",
    "    max_distance=6,\n",
    "    nbins=100,\n",
    "    frame_rate=15,\n",
    "    vmax=1,\n",
    "    plot=True,\n",
    "    fontsize_dict={'title':15, 'label':10, 'tick':10},\n",
    ");"
   ]
  },
  {
   "cell_type": "code",
   "execution_count": null,
   "metadata": {},
   "outputs": [],
   "source": [
    "# DEPTH TUNING & PSTH OF 4 EXAMPLE NEURONS\n",
    "plt.figure(figsize=(5*4,5*2))\n",
    "fontsize_dict={'title':15, 'label':10, 'tick':10}\n",
    "rois = [249, 54, 250, 88]\n",
    "for i, roi in enumerate(rois):\n",
    "    plt.subplot2grid((2,4),(0,i))\n",
    "    basic_vis_plots.plot_depth_tuning_curve(\n",
    "        neurons_df=neurons_df,\n",
    "        trials_df=trials_df_all,\n",
    "        roi=roi,\n",
    "        rs_thr=0.2,\n",
    "        plot_fit=False,\n",
    "        linewidth=3,\n",
    "        linecolor=\"k\",\n",
    "        fit_linecolor=\"r\",\n",
    "        closed_loop=1,\n",
    "        fontsize_dict=fontsize_dict\n",
    "    )\n",
    "    \n",
    "\n",
    "    plt.subplot2grid((2,4),(1,i))\n",
    "    basic_vis_plots.plot_PSTH(\n",
    "        neurons_df=neurons_df,\n",
    "        trials_df=trials_df_all,\n",
    "        roi=roi,\n",
    "        is_closed_loop=True,\n",
    "        max_distance=6,\n",
    "        nbins=15,\n",
    "        frame_rate=15,\n",
    "        linewidth=3,\n",
    "        fontsize_dict=fontsize_dict\n",
    "    )"
   ]
  },
  {
   "cell_type": "code",
   "execution_count": null,
   "metadata": {},
   "outputs": [],
   "source": [
    "# DEPTH TUNING & SPEED TUNINGS & RSOF matrices OF 3 EXAMPLE NEURONS\n",
    "plt.figure(figsize=(5*4,5*3))\n",
    "fontsize_dict={'title':15, 'label':10, 'tick':10}\n",
    "rois = [249, 250, 88]\n",
    "for i, roi in enumerate(rois):\n",
    "    plt.subplot2grid((3,4),(i,0))\n",
    "    basic_vis_plots.plot_depth_tuning_curve(\n",
    "        neurons_df=neurons_df,\n",
    "        trials_df=trials_df_all,\n",
    "        roi=roi,\n",
    "        rs_thr=0.2,\n",
    "        plot_fit=False,\n",
    "        linewidth=3,\n",
    "        linecolor=\"k\",\n",
    "        fit_linecolor=\"r\",\n",
    "        closed_loop=1,\n",
    "        fontsize_dict=fontsize_dict\n",
    "    )\n",
    "    \n",
    "    plt.subplot2grid((3,4),(i,1))\n",
    "    basic_vis_plots.plot_speed_tuning(\n",
    "        neurons_df=neurons_df,\n",
    "        trials_df=trials_df_all,\n",
    "        roi=roi,\n",
    "        is_closed_loop=1,\n",
    "        nbins=10,\n",
    "        which_speed=\"RS\",\n",
    "        speed_min=0.01,\n",
    "        speed_max=1.5,\n",
    "        speed_thr=0.01,\n",
    "        smoothing_sd = 1\n",
    "    )\n",
    "    \n",
    "    plt.subplot2grid((3,4),(i,2))\n",
    "    basic_vis_plots.plot_speed_tuning(\n",
    "        neurons_df=neurons_df,\n",
    "        trials_df=trials_df_all,\n",
    "        roi=roi,\n",
    "        is_closed_loop=1,\n",
    "        nbins=10,\n",
    "        which_speed=\"OF\",\n",
    "        speed_min=0.01,\n",
    "        speed_max=1.5,\n",
    "        speed_thr=0.01,\n",
    "        smoothing_sd = 1\n",
    "    )\n",
    "    \n",
    "    plt.subplot2grid((3,4),(i,3))\n",
    "    basic_vis_plots.plot_RS_OF_matrix(trials_df=trials_df_all, \n",
    "                                      roi=roi, \n",
    "                                      log_range=log_range, \n",
    "                                      fontsize_dict=fontsize_dict);"
   ]
  }
 ],
 "metadata": {
  "kernelspec": {
   "display_name": "cottage_eye",
   "language": "python",
   "name": "python3"
  },
  "language_info": {
   "codemirror_mode": {
    "name": "ipython",
    "version": 3
   },
   "file_extension": ".py",
   "mimetype": "text/x-python",
   "name": "python",
   "nbconvert_exporter": "python",
   "pygments_lexer": "ipython3",
   "version": "3.9.5"
  },
  "orig_nbformat": 4,
  "vscode": {
   "interpreter": {
    "hash": "6f379f14f554b5908c89078a779246902196c66e33ef5358781a357c6bf6c72d"
   }
  }
 },
 "nbformat": 4,
 "nbformat_minor": 2
}
