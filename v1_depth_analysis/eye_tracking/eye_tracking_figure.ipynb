{
 "cells": [
  {
   "cell_type": "code",
   "execution_count": null,
   "metadata": {},
   "outputs": [],
   "source": [
    "%load_ext autoreload\n",
    "%autoreload 2"
   ]
  },
  {
   "cell_type": "code",
   "execution_count": null,
   "metadata": {},
   "outputs": [],
   "source": [
    "# %%\n",
    "import flexiznam as flz\n",
    "from v1_depth_analysis.v1_manuscript_2023 import get_session_list\n",
    "from v1_depth_analysis.eye_tracking.analysis import get_data\n",
    "import pandas as pd\n",
    "import numpy as np\n",
    "from matplotlib import pyplot as plt\n",
    "\n",
    "# %%\n",
    "PROJECT = \"hey2_3d-vision_foodres_20220101\"\n",
    "valid_mice = ['PZAH6.4b', 'PZAG3.4f']\n",
    "example_session = \"PZAH6.4b_S20220419\""
   ]
  },
  {
   "cell_type": "code",
   "execution_count": null,
   "metadata": {},
   "outputs": [],
   "source": [
    "flexilims_session = flz.get_flexilims_session(project_id=PROJECT)\n",
    "sessions = get_session_list.get_sessions(\n",
    "    flexilims_session=flexilims_session,\n",
    "    exclude_sessions=(),\n",
    "    exclude_openloop=True,\n",
    "    exclude_pure_closedloop=False,\n",
    "    v1_only=True,\n",
    ")\n",
    "print(f\"Found {len(sessions)} sessions for closed loop only\")\n"
   ]
  },
  {
   "cell_type": "code",
   "execution_count": null,
   "metadata": {},
   "outputs": [],
   "source": [
    "\n",
    "sessions = [s for s in sessions if s.split('_')[0] in valid_mice]\n",
    "print(f\"Found {len(sessions)} sessions for valid mice\")\n"
   ]
  },
  {
   "cell_type": "code",
   "execution_count": null,
   "metadata": {},
   "outputs": [],
   "source": [
    "reload_from_disk = True\n",
    "\n",
    "target_folder = flz.get_data_root(which='processed', project=PROJECT) / PROJECT / 'Analysis' / 'eye_tracking'\n",
    "target_folder.mkdir(exist_ok=True, parents=True)\n",
    "if reload_from_disk:\n",
    "    all_data = pd.read_pickle(target_folder / 'all_data.pkl')\n",
    "    example_dlc_res = pd.read_pickle(target_folder / 'example_dlc_res.pkl')\n",
    "else:\n",
    "    project_recordings = flz.get_entities(datatype='recording', flexilims_session=flexilims_session)\n",
    "    sessions_df = pd.DataFrame([flz.get_entity(name=s, flexilims_session=flexilims_session) for s in sessions])\n",
    "    all_data = {}\n",
    "    example_dlc_res = None\n",
    "    problematic_sessions = []\n",
    "    for sess, sess_df in sessions_df.iterrows():\n",
    "        print(sess_df['name'])\n",
    "        recording = project_recordings[project_recordings.origin_id==sess_df['id']]\n",
    "        recording = recording[recording.protocol=='SpheresPermTubeReward'].iloc[0]\n",
    "        try:\n",
    "            gaze_data, dlc_res = get_data(\n",
    "                project=PROJECT,\n",
    "                mouse=sess_df.genealogy[0],\n",
    "                session=sess_df.genealogy[-1],\n",
    "                recording=recording.genealogy[-1],\n",
    "                filt_window=3,\n",
    "                verbose=False,)\n",
    "            gaze_data['session']  = sess_df['name']\n",
    "            all_data[sess_df['name']] = gaze_data\n",
    "        except Exception as e:\n",
    "            print(f\"Problem with {sess_df['name']}: {e}\")\n",
    "            problematic_sessions.append(sess_df['name'])\n",
    "        if sess == example_session:\n",
    "            example_dlc_res = dlc_res\n",
    "    all_data = pd.concat(all_data, names=['session'], ignore_index=True)\n",
    "    all_data.to_pickle(target_folder / 'all_data.pkl')\n",
    "    example_dlc_res.to_pickle(target_folder / 'example_dlc_res.pkl')\n",
    "\n"
   ]
  },
  {
   "cell_type": "code",
   "execution_count": null,
   "metadata": {},
   "outputs": [],
   "source": [
    "from v1_depth_analysis.eye_tracking.analysis import get_saccades\n",
    "saccades_by_sess = {}\n",
    "filter_window = 5\n",
    "threshold = 70\n",
    "for sess_name, gaze_data in all_data.groupby('session'):\n",
    "    saccades_by_sess[sess_name] = get_saccades(gaze_data, threshold=threshold, filter_window=filter_window)\n"
   ]
  },
  {
   "cell_type": "code",
   "execution_count": null,
   "metadata": {},
   "outputs": [],
   "source": [
    "# Make a dataframe of number of saccade per trial\n",
    "sacc_by_trials = []\n",
    "for sess_name, sess_df in all_data.groupby('session'):\n",
    "    sacc_df = saccades_by_sess[sess_name]\n",
    "    trials = sess_df['trial'].dropna().unique()\n",
    "    for trial in trials:\n",
    "        trial_df = sess_df[sess_df['trial']==trial]\n",
    "        tdict = dict(trial=trial, session =sess_name, depth=int(trial_df.depth.iloc[1] * 100),\n",
    "                     trial_start=trial_df.harptime.iloc[0], trial_end=trial_df.harptime.iloc[-1])\n",
    "        tdict['nsaccades'] = sacc_df[(sacc_df['start_time']>=tdict['trial_start']) & (sacc_df['start_time']<=tdict['trial_end'])].shape[0]\n",
    "        sacc_by_trials.append(tdict)\n",
    "sacc_by_trials = pd.DataFrame(sacc_by_trials)\n",
    "sacc_by_trials['trial_duration'] = sacc_by_trials['trial_end'] - sacc_by_trials['trial_start']\n",
    "sacc_by_trials['saccade_rate'] = sacc_by_trials['nsaccades'] / sacc_by_trials['trial_duration']\n",
    "\n"
   ]
  },
  {
   "cell_type": "code",
   "execution_count": null,
   "metadata": {},
   "outputs": [],
   "source": [
    "all_data.dtypes"
   ]
  },
  {
   "cell_type": "code",
   "execution_count": null,
   "metadata": {},
   "outputs": [],
   "source": [
    "bytrialbydepth = all_data.groupby(['session', 'trial', 'depth'])[is_num].aggregate('median').reset_index()\n",
    "bytrialbydepth"
   ]
  },
  {
   "cell_type": "code",
   "execution_count": null,
   "metadata": {},
   "outputs": [],
   "source": [
    "bytrialbydepth = all_data.groupby(['session', 'trial', 'depth'])[is_num].aggregate('median')\n",
    "bytrialbydepth"
   ]
  },
  {
   "cell_type": "code",
   "execution_count": null,
   "metadata": {},
   "outputs": [],
   "source": [
    "bytrialbydepth.reset_index().shape"
   ]
  },
  {
   "cell_type": "code",
   "execution_count": null,
   "metadata": {},
   "outputs": [],
   "source": [
    "bysess.shape"
   ]
  },
  {
   "cell_type": "code",
   "execution_count": null,
   "metadata": {},
   "outputs": [],
   "source": [
    "import seaborn as sns\n",
    "bysess = sacc_by_trials.groupby(['depth', 'session']).aggregate('mean')\n",
    "bysess.reset_index(inplace=True)\n",
    "fig = plt.figure(figsize=(6, 6))\n",
    "ax = fig.add_subplot(2,2,4)\n",
    "dtypes = all_data.dtypes \n",
    "is_num = dtypes[dtypes== 'float64'].index.copy()\n",
    "is_num = is_num.drop('trial')\n",
    "is_num = is_num.drop('depth')\n",
    "bytrialbydepth = all_data.groupby(['session', 'trial', 'depth'])[is_num].aggregate('median').reset_index()\n",
    "bytrialbydepth = bytrialbydepth.groupby(['session', 'depth']).aggregate('mean').reset_index()\n",
    "bytrialbydepth['depth'] = (bytrialbydepth['depth'] * 100).astype(int)\n",
    "sns.boxplot(ax=ax,data=bytrialbydepth, x='depth', y='velocity', hue='depth', palette=sns.color_palette('cool_r', 5), saturation=1, legend=False,\n",
    "showfliers=False)\n",
    "sns.stripplot(ax=ax, data=bytrialbydepth, x='depth', y='velocity', hue='depth', palette=sns.color_palette('cool_r', 5), \n",
    "              legend=False, edgecolor='k', linewidth=1, alpha=0.5)\n",
    "ax.set_ylabel('Velocity (degrees/s)')\n",
    "ax.set_xlabel('Depth (cm)')\n",
    "ax = fig.add_subplot(2,2,3)\n",
    "sns.boxplot(ax=ax,data=bysess, x='depth', y='saccade_rate', hue='depth', palette=sns.color_palette('cool_r', 5), saturation=1)\n",
    "sns.stripplot(ax=ax, data=bysess, x='depth', y='saccade_rate', hue='depth', palette=sns.color_palette('cool_r', 5), \n",
    "              legend=False, edgecolor='k', linewidth=1, alpha=0.5)\n",
    "ax.set_ylabel('Saccade Rate (Hz)')\n",
    "ax.set_xlabel('Depth (cm)')\n",
    "ax.get_legend().remove()\n",
    "ax.legend(loc='upper left', ncol=5, columnspacing=0.2, bbox_to_anchor=(-0.2,1.2,0,0))\n",
    "fig.subplots_adjust(wspace=0.3)\n"
   ]
  },
  {
   "cell_type": "code",
   "execution_count": null,
   "metadata": {},
   "outputs": [],
   "source": [
    "trial_df.iloc[0]"
   ]
  },
  {
   "cell_type": "code",
   "execution_count": null,
   "metadata": {},
   "outputs": [],
   "source": []
  },
  {
   "cell_type": "code",
   "execution_count": null,
   "metadata": {},
   "outputs": [],
   "source": []
  },
  {
   "cell_type": "code",
   "execution_count": null,
   "metadata": {},
   "outputs": [],
   "source": []
  },
  {
   "cell_type": "code",
   "execution_count": null,
   "metadata": {},
   "outputs": [],
   "source": []
  },
  {
   "cell_type": "code",
   "execution_count": null,
   "metadata": {},
   "outputs": [],
   "source": [
    "sessions = list(sorted(all_data['session'].unique()))\n",
    "rates = np.zeros(len(sessions))\n",
    "for isess, sess_name in enumerate(sessions):\n",
    "    gaze_data = all_data[all_data['session']==sess_name]\n",
    "    frame_rate = 1/np.nanmedian(np.diff(gaze_data['harptime']))\n",
    "    rec_length = gaze_data['harptime'].max() - gaze_data['harptime'].min()\n",
    "    saccade_rate = len(saccades[sess_name]) / rec_length\n",
    "    print(f\"{sess_name}: {frame_rate:.2f} Hz, {rec_length:.2f} s, {saccade_rate:.2f} saccades/s\")\n",
    "    rates[isess] = frame_rate\n"
   ]
  },
  {
   "cell_type": "code",
   "execution_count": null,
   "metadata": {},
   "outputs": [],
   "source": [
    "\n",
    "gaze_data = all_data[all_data['session']=='PZAG3.4f_S20220421']\n",
    "t0 = gaze_data['harptime'].min()\n",
    "vel = gaze_data['velocity'].interpolate()\n",
    "azi = gaze_data['azimuth'].interpolate()\n",
    "filt_azi = azi.rolling(window=filter_window, center=True).median().interpolate()\n",
    "ele = gaze_data['elevation']\n",
    "filt_ele = ele.rolling(window=filter_window, center=True).median().interpolate()\n",
    "\n",
    "displacement = np.sqrt(filt_azi.diff()**2 + filt_ele.diff()**2)\n",
    "velocity = pd.Series(displacement) / gaze_data['harptime'].diff()\n",
    "\n",
    "saccades = get_saccades(gaze_data, threshold=threshold, filter_window = filter_window)\n"
   ]
  },
  {
   "cell_type": "code",
   "execution_count": null,
   "metadata": {},
   "outputs": [],
   "source": [
    "from plotly.subplots import make_subplots\n",
    "import plotly.graph_objects as go\n",
    "\n",
    "fig = make_subplots(rows=2, cols=1, shared_xaxes=True)\n",
    "\n",
    "if False:\n",
    "    fig.add_trace(go.Scatter(\n",
    "        x=gaze_data['harptime']-t0,\n",
    "        y=gaze_data['velocity'],\n",
    "    ), row=1, col=1)\n",
    "    fig.add_trace(go.Scatter(\n",
    "        x=gaze_data['harptime']-t0,\n",
    "    y=velocity,\n",
    "    ), row=1, col=1)\n",
    "\n",
    "fig.add_trace(go.Scatter(\n",
    "    x=gaze_data['harptime']-t0,\n",
    "    y=gaze_data['azimuth']-filt_azi.mean(),\n",
    "), row=2, col=1)\n",
    "fig.add_trace(go.Scatter(\n",
    "    x=gaze_data['harptime']-t0,\n",
    "    y=filt_azi-filt_azi.mean(),\n",
    "), row=2, col=1)\n",
    "\n",
    "fig.add_trace(go.Scatter(\n",
    "    x=gaze_data['harptime']-t0,\n",
    "    y=displacement,\n",
    "), row=2, col=1)\n",
    "fig.add_trace(go.Scatter(\n",
    "    x=gaze_data['harptime']-t0,\n",
    "    y=velocity,\n",
    "    name='velocity',\n",
    "), row=1, col=1)\n",
    "fig.add_trace(go.Scatter(\n",
    "    x=gaze_data['harptime']-t0,\n",
    "    y=np.ones_like(displacement) * threshold,\n",
    "    line=dict(color='black', width=1)\n",
    "), row=1, col=1)\n",
    "fig.add_scatter(x=saccades.start_time - t0,\n",
    "                y=saccades.peak_velocity,\n",
    "                mode='markers',\n",
    "                marker=dict(size=10, color='red'),\n",
    "                name='saccades',\n",
    "                row=1, col=1)\n",
    "fig.add_scatter(x=saccades.start_time - t0,\n",
    "                y=np.ones(len(saccades)) * 10,\n",
    "                mode='markers',\n",
    "                marker=dict(size=10, color='red'),\n",
    "                name='saccades',\n",
    "                row=2, col=1)\n",
    "\n",
    "fig.update_layout(height=600, width=1200)\n",
    "# fig.update_yaxes(range=[0, 240], row=1, col=1)\n",
    "fig.update_yaxes(range=[-20, 20], row=2, col=1)\n",
    "fig.update_yaxes(range=[0, threshold*3], row=1, col=1)\n",
    "fig.update_xaxes(range=[900, 1100], row=2, col=1)\n",
    "fig.show()"
   ]
  },
  {
   "cell_type": "code",
   "execution_count": null,
   "metadata": {},
   "outputs": [],
   "source": [
    "saccades"
   ]
  },
  {
   "cell_type": "code",
   "execution_count": null,
   "metadata": {},
   "outputs": [],
   "source": []
  }
 ],
 "metadata": {
  "kernelspec": {
   "language": "python"
  },
  "language_info": {
   "codemirror_mode": {
    "name": "ipython",
    "version": 3
   },
   "file_extension": ".py",
   "mimetype": "text/x-python",
   "name": "python",
   "nbconvert_exporter": "python",
   "pygments_lexer": "ipython3"
  }
 },
 "nbformat": 4,
 "nbformat_minor": 2
}
