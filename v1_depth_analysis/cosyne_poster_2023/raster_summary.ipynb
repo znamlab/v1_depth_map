{
 "cells": [
  {
   "attachments": {},
   "cell_type": "markdown",
   "metadata": {},
   "source": [
    "This notebook generates the following panels:\n",
    "- ( ) Summary - Raster: PSTH average of all depth neurons, sorted by fitted preferred depth\n",
    "\n",
    "use env 2p_analysis_cottage"
   ]
  },
  {
   "cell_type": "code",
   "execution_count": 1,
   "metadata": {},
   "outputs": [],
   "source": [
    "VERSION = 1"
   ]
  },
  {
   "cell_type": "code",
   "execution_count": 11,
   "metadata": {},
   "outputs": [
    {
     "name": "stderr",
     "output_type": "stream",
     "text": [
      "/camp/home/hey2/.conda/envs/2p_analysis_cottage/lib/python3.9/site-packages/ipykernel/ipkernel.py:287: DeprecationWarning: `should_run_async` will not call `transform_cell` automatically in the future. Please pass the result to `transformed_cell` argument and any exception that happen during thetransform in `preprocessing_exc_tuple` in IPython 7.17 and above.\n",
      "  and should_run_async(code)\n"
     ]
    }
   ],
   "source": [
    "%reload_ext autoreload\n",
    "%autoreload 2\n",
    "import os\n",
    "import sys\n",
    "import defopt\n",
    "import pickle\n",
    "import numpy as np\n",
    "import pandas as pd\n",
    "import scipy.stats\n",
    "from scipy.optimize import curve_fit\n",
    "import matplotlib.pyplot as plt\n",
    "from matplotlib.patches import Circle\n",
    "import matplotlib as mpl\n",
    "mpl.rcParams['pdf.fonttype'] = 42 # save text as text not outlines\n",
    "from matplotlib.backends.backend_pdf import PdfPages\n",
    "from matplotlib.colors import ListedColormap\n",
    "from matplotlib import cm\n",
    "from mpl_toolkits.axes_grid1 import make_axes_locatable\n",
    "import warnings\n",
    "\n",
    "from cottage_analysis.depth_analysis.filepath import generate_filepaths\n",
    "from cottage_analysis.stimulus_structure.sphere_structure import *\n",
    "from cottage_analysis.depth_analysis.depth_preprocess.process_params import create_speed_arr, create_trace_arr_per_roi, calculate_OF, thr\n",
    "from cottage_analysis.depth_analysis.plotting.plotting_utils import *\n",
    "from cottage_analysis.depth_analysis.plotting.basic_vis_plots import *"
   ]
  },
  {
   "cell_type": "code",
   "execution_count": 12,
   "metadata": {},
   "outputs": [
    {
     "name": "stderr",
     "output_type": "stream",
     "text": [
      "/camp/home/hey2/.conda/envs/2p_analysis_cottage/lib/python3.9/site-packages/ipykernel/ipkernel.py:287: DeprecationWarning: `should_run_async` will not call `transform_cell` automatically in the future. Please pass the result to `transformed_cell` argument and any exception that happen during thetransform in `preprocessing_exc_tuple` in IPython 7.17 and above.\n",
      "  and should_run_async(code)\n",
      "<ipython-input-12-a3d3d0b5a26f>:36: DeprecationWarning: rawdata_root will be read from flexiznam config. Remove parameter\n",
      "  original_files['trace_folder'] = generate_filepaths.generate_file_folders(\n",
      "<ipython-input-12-a3d3d0b5a26f>:36: DeprecationWarning: root will be read from flexiznam config. Remove parameter\n",
      "  original_files['trace_folder'] = generate_filepaths.generate_file_folders(\n",
      "/nemo/lab/znamenskiyp/home/users/hey2/codes/cottage_analysis/cottage_analysis/depth_analysis/filepath/generate_filepaths.py:129: DeprecationWarning: flexilims_session will become mandatory\n",
      "  sess_children = get_session_children(\n"
     ]
    },
    {
     "name": "stdout",
     "output_type": "stream",
     "text": [
      "PZAH6.4b S20220512\n"
     ]
    },
    {
     "name": "stderr",
     "output_type": "stream",
     "text": [
      "/nemo/lab/znamenskiyp/home/users/hey2/codes/cottage_analysis/cottage_analysis/depth_analysis/filepath/generate_filepaths.py:134: DeprecationWarning: flexilims_session will become mandatory\n",
      "  recording_entries, recording_path = get_recording_entries(\n",
      "<ipython-input-12-a3d3d0b5a26f>:115: RuntimeWarning: Mean of empty slice\n",
      "  speed_arr_mean_original = np.nanmean(speed_arr_original,axis=1)\n",
      "<ipython-input-12-a3d3d0b5a26f>:117: RuntimeWarning: Mean of empty slice\n",
      "  speed_arr_noblank_mean_original = np.nanmean(speed_arr_noblank_original,axis=1)\n"
     ]
    },
    {
     "name": "stdout",
     "output_type": "stream",
     "text": [
      "Finish appending for this session.\n",
      "PZAH6.4b S20220511\n"
     ]
    },
    {
     "name": "stderr",
     "output_type": "stream",
     "text": [
      "<ipython-input-12-a3d3d0b5a26f>:36: DeprecationWarning: rawdata_root will be read from flexiznam config. Remove parameter\n",
      "  original_files['trace_folder'] = generate_filepaths.generate_file_folders(\n",
      "<ipython-input-12-a3d3d0b5a26f>:36: DeprecationWarning: root will be read from flexiznam config. Remove parameter\n",
      "  original_files['trace_folder'] = generate_filepaths.generate_file_folders(\n",
      "/nemo/lab/znamenskiyp/home/users/hey2/codes/cottage_analysis/cottage_analysis/depth_analysis/filepath/generate_filepaths.py:129: DeprecationWarning: flexilims_session will become mandatory\n",
      "  sess_children = get_session_children(\n",
      "/nemo/lab/znamenskiyp/home/users/hey2/codes/cottage_analysis/cottage_analysis/depth_analysis/filepath/generate_filepaths.py:134: DeprecationWarning: flexilims_session will become mandatory\n",
      "  recording_entries, recording_path = get_recording_entries(\n"
     ]
    },
    {
     "name": "stdout",
     "output_type": "stream",
     "text": [
      "Finish appending for this session.\n",
      "PZAH6.4b S20220429\n"
     ]
    },
    {
     "name": "stderr",
     "output_type": "stream",
     "text": [
      "<ipython-input-12-a3d3d0b5a26f>:36: DeprecationWarning: rawdata_root will be read from flexiznam config. Remove parameter\n",
      "  original_files['trace_folder'] = generate_filepaths.generate_file_folders(\n",
      "<ipython-input-12-a3d3d0b5a26f>:36: DeprecationWarning: root will be read from flexiznam config. Remove parameter\n",
      "  original_files['trace_folder'] = generate_filepaths.generate_file_folders(\n",
      "/nemo/lab/znamenskiyp/home/users/hey2/codes/cottage_analysis/cottage_analysis/depth_analysis/filepath/generate_filepaths.py:129: DeprecationWarning: flexilims_session will become mandatory\n",
      "  sess_children = get_session_children(\n",
      "/nemo/lab/znamenskiyp/home/users/hey2/codes/cottage_analysis/cottage_analysis/depth_analysis/filepath/generate_filepaths.py:134: DeprecationWarning: flexilims_session will become mandatory\n",
      "  recording_entries, recording_path = get_recording_entries(\n"
     ]
    },
    {
     "name": "stdout",
     "output_type": "stream",
     "text": [
      "Finish appending for this session.\n",
      "PZAH6.4b S20220419\n"
     ]
    },
    {
     "name": "stderr",
     "output_type": "stream",
     "text": [
      "<ipython-input-12-a3d3d0b5a26f>:36: DeprecationWarning: rawdata_root will be read from flexiznam config. Remove parameter\n",
      "  original_files['trace_folder'] = generate_filepaths.generate_file_folders(\n",
      "<ipython-input-12-a3d3d0b5a26f>:36: DeprecationWarning: root will be read from flexiznam config. Remove parameter\n",
      "  original_files['trace_folder'] = generate_filepaths.generate_file_folders(\n",
      "/nemo/lab/znamenskiyp/home/users/hey2/codes/cottage_analysis/cottage_analysis/depth_analysis/filepath/generate_filepaths.py:129: DeprecationWarning: flexilims_session will become mandatory\n",
      "  sess_children = get_session_children(\n",
      "/nemo/lab/znamenskiyp/home/users/hey2/codes/cottage_analysis/cottage_analysis/depth_analysis/filepath/generate_filepaths.py:134: DeprecationWarning: flexilims_session will become mandatory\n",
      "  recording_entries, recording_path = get_recording_entries(\n"
     ]
    },
    {
     "name": "stdout",
     "output_type": "stream",
     "text": [
      "Finish appending for this session.\n",
      "PZAH6.4b S20220426\n"
     ]
    },
    {
     "name": "stderr",
     "output_type": "stream",
     "text": [
      "<ipython-input-12-a3d3d0b5a26f>:36: DeprecationWarning: rawdata_root will be read from flexiznam config. Remove parameter\n",
      "  original_files['trace_folder'] = generate_filepaths.generate_file_folders(\n",
      "<ipython-input-12-a3d3d0b5a26f>:36: DeprecationWarning: root will be read from flexiznam config. Remove parameter\n",
      "  original_files['trace_folder'] = generate_filepaths.generate_file_folders(\n",
      "/nemo/lab/znamenskiyp/home/users/hey2/codes/cottage_analysis/cottage_analysis/depth_analysis/filepath/generate_filepaths.py:129: DeprecationWarning: flexilims_session will become mandatory\n",
      "  sess_children = get_session_children(\n",
      "/nemo/lab/znamenskiyp/home/users/hey2/codes/cottage_analysis/cottage_analysis/depth_analysis/filepath/generate_filepaths.py:134: DeprecationWarning: flexilims_session will become mandatory\n",
      "  recording_entries, recording_path = get_recording_entries(\n"
     ]
    },
    {
     "name": "stdout",
     "output_type": "stream",
     "text": [
      "Finish appending for this session.\n",
      "PZAH6.4b S20220506\n"
     ]
    },
    {
     "name": "stderr",
     "output_type": "stream",
     "text": [
      "<ipython-input-12-a3d3d0b5a26f>:36: DeprecationWarning: rawdata_root will be read from flexiznam config. Remove parameter\n",
      "  original_files['trace_folder'] = generate_filepaths.generate_file_folders(\n",
      "<ipython-input-12-a3d3d0b5a26f>:36: DeprecationWarning: root will be read from flexiznam config. Remove parameter\n",
      "  original_files['trace_folder'] = generate_filepaths.generate_file_folders(\n",
      "/nemo/lab/znamenskiyp/home/users/hey2/codes/cottage_analysis/cottage_analysis/depth_analysis/filepath/generate_filepaths.py:129: DeprecationWarning: flexilims_session will become mandatory\n",
      "  sess_children = get_session_children(\n",
      "/nemo/lab/znamenskiyp/home/users/hey2/codes/cottage_analysis/cottage_analysis/depth_analysis/filepath/generate_filepaths.py:134: DeprecationWarning: flexilims_session will become mandatory\n",
      "  recording_entries, recording_path = get_recording_entries(\n"
     ]
    },
    {
     "name": "stdout",
     "output_type": "stream",
     "text": [
      "Finish appending for this session.\n",
      "PZAH6.4b S20220503\n"
     ]
    },
    {
     "name": "stderr",
     "output_type": "stream",
     "text": [
      "<ipython-input-12-a3d3d0b5a26f>:36: DeprecationWarning: rawdata_root will be read from flexiznam config. Remove parameter\n",
      "  original_files['trace_folder'] = generate_filepaths.generate_file_folders(\n",
      "<ipython-input-12-a3d3d0b5a26f>:36: DeprecationWarning: root will be read from flexiznam config. Remove parameter\n",
      "  original_files['trace_folder'] = generate_filepaths.generate_file_folders(\n",
      "/nemo/lab/znamenskiyp/home/users/hey2/codes/cottage_analysis/cottage_analysis/depth_analysis/filepath/generate_filepaths.py:129: DeprecationWarning: flexilims_session will become mandatory\n",
      "  sess_children = get_session_children(\n",
      "/nemo/lab/znamenskiyp/home/users/hey2/codes/cottage_analysis/cottage_analysis/depth_analysis/filepath/generate_filepaths.py:134: DeprecationWarning: flexilims_session will become mandatory\n",
      "  recording_entries, recording_path = get_recording_entries(\n"
     ]
    },
    {
     "name": "stdout",
     "output_type": "stream",
     "text": [
      "Finish appending for this session.\n",
      "PZAH6.4b S20220505\n"
     ]
    },
    {
     "name": "stderr",
     "output_type": "stream",
     "text": [
      "<ipython-input-12-a3d3d0b5a26f>:36: DeprecationWarning: rawdata_root will be read from flexiznam config. Remove parameter\n",
      "  original_files['trace_folder'] = generate_filepaths.generate_file_folders(\n",
      "<ipython-input-12-a3d3d0b5a26f>:36: DeprecationWarning: root will be read from flexiznam config. Remove parameter\n",
      "  original_files['trace_folder'] = generate_filepaths.generate_file_folders(\n",
      "/nemo/lab/znamenskiyp/home/users/hey2/codes/cottage_analysis/cottage_analysis/depth_analysis/filepath/generate_filepaths.py:129: DeprecationWarning: flexilims_session will become mandatory\n",
      "  sess_children = get_session_children(\n",
      "/nemo/lab/znamenskiyp/home/users/hey2/codes/cottage_analysis/cottage_analysis/depth_analysis/filepath/generate_filepaths.py:134: DeprecationWarning: flexilims_session will become mandatory\n",
      "  recording_entries, recording_path = get_recording_entries(\n"
     ]
    },
    {
     "name": "stdout",
     "output_type": "stream",
     "text": [
      "Finish appending for this session.\n",
      "PZAH6.4b S20220516\n"
     ]
    },
    {
     "name": "stderr",
     "output_type": "stream",
     "text": [
      "<ipython-input-12-a3d3d0b5a26f>:36: DeprecationWarning: rawdata_root will be read from flexiznam config. Remove parameter\n",
      "  original_files['trace_folder'] = generate_filepaths.generate_file_folders(\n",
      "<ipython-input-12-a3d3d0b5a26f>:36: DeprecationWarning: root will be read from flexiznam config. Remove parameter\n",
      "  original_files['trace_folder'] = generate_filepaths.generate_file_folders(\n",
      "/nemo/lab/znamenskiyp/home/users/hey2/codes/cottage_analysis/cottage_analysis/depth_analysis/filepath/generate_filepaths.py:129: DeprecationWarning: flexilims_session will become mandatory\n",
      "  sess_children = get_session_children(\n",
      "/nemo/lab/znamenskiyp/home/users/hey2/codes/cottage_analysis/cottage_analysis/depth_analysis/filepath/generate_filepaths.py:134: DeprecationWarning: flexilims_session will become mandatory\n",
      "  recording_entries, recording_path = get_recording_entries(\n"
     ]
    },
    {
     "name": "stdout",
     "output_type": "stream",
     "text": [
      "Finish appending for this session.\n",
      "PZAG3.4f S20220504\n"
     ]
    },
    {
     "name": "stderr",
     "output_type": "stream",
     "text": [
      "<ipython-input-12-a3d3d0b5a26f>:36: DeprecationWarning: rawdata_root will be read from flexiznam config. Remove parameter\n",
      "  original_files['trace_folder'] = generate_filepaths.generate_file_folders(\n",
      "<ipython-input-12-a3d3d0b5a26f>:36: DeprecationWarning: root will be read from flexiznam config. Remove parameter\n",
      "  original_files['trace_folder'] = generate_filepaths.generate_file_folders(\n",
      "/nemo/lab/znamenskiyp/home/users/hey2/codes/cottage_analysis/cottage_analysis/depth_analysis/filepath/generate_filepaths.py:129: DeprecationWarning: flexilims_session will become mandatory\n",
      "  sess_children = get_session_children(\n",
      "/nemo/lab/znamenskiyp/home/users/hey2/codes/cottage_analysis/cottage_analysis/depth_analysis/filepath/generate_filepaths.py:134: DeprecationWarning: flexilims_session will become mandatory\n",
      "  recording_entries, recording_path = get_recording_entries(\n"
     ]
    },
    {
     "name": "stdout",
     "output_type": "stream",
     "text": [
      "Finish appending for this session.\n",
      "PZAG3.4f S20220426\n"
     ]
    },
    {
     "name": "stderr",
     "output_type": "stream",
     "text": [
      "<ipython-input-12-a3d3d0b5a26f>:36: DeprecationWarning: rawdata_root will be read from flexiznam config. Remove parameter\n",
      "  original_files['trace_folder'] = generate_filepaths.generate_file_folders(\n",
      "<ipython-input-12-a3d3d0b5a26f>:36: DeprecationWarning: root will be read from flexiznam config. Remove parameter\n",
      "  original_files['trace_folder'] = generate_filepaths.generate_file_folders(\n",
      "/nemo/lab/znamenskiyp/home/users/hey2/codes/cottage_analysis/cottage_analysis/depth_analysis/filepath/generate_filepaths.py:129: DeprecationWarning: flexilims_session will become mandatory\n",
      "  sess_children = get_session_children(\n",
      "/nemo/lab/znamenskiyp/home/users/hey2/codes/cottage_analysis/cottage_analysis/depth_analysis/filepath/generate_filepaths.py:134: DeprecationWarning: flexilims_session will become mandatory\n",
      "  recording_entries, recording_path = get_recording_entries(\n"
     ]
    },
    {
     "name": "stdout",
     "output_type": "stream",
     "text": [
      "Finish appending for this session.\n",
      "PZAG3.4f S20220421\n"
     ]
    },
    {
     "name": "stderr",
     "output_type": "stream",
     "text": [
      "<ipython-input-12-a3d3d0b5a26f>:36: DeprecationWarning: rawdata_root will be read from flexiznam config. Remove parameter\n",
      "  original_files['trace_folder'] = generate_filepaths.generate_file_folders(\n",
      "<ipython-input-12-a3d3d0b5a26f>:36: DeprecationWarning: root will be read from flexiznam config. Remove parameter\n",
      "  original_files['trace_folder'] = generate_filepaths.generate_file_folders(\n",
      "/nemo/lab/znamenskiyp/home/users/hey2/codes/cottage_analysis/cottage_analysis/depth_analysis/filepath/generate_filepaths.py:129: DeprecationWarning: flexilims_session will become mandatory\n",
      "  sess_children = get_session_children(\n",
      "/nemo/lab/znamenskiyp/home/users/hey2/codes/cottage_analysis/cottage_analysis/depth_analysis/filepath/generate_filepaths.py:134: DeprecationWarning: flexilims_session will become mandatory\n",
      "  recording_entries, recording_path = get_recording_entries(\n"
     ]
    },
    {
     "name": "stdout",
     "output_type": "stream",
     "text": [
      "Finish appending for this session.\n",
      "PZAG3.4f S20220419\n"
     ]
    },
    {
     "name": "stderr",
     "output_type": "stream",
     "text": [
      "<ipython-input-12-a3d3d0b5a26f>:36: DeprecationWarning: rawdata_root will be read from flexiznam config. Remove parameter\n",
      "  original_files['trace_folder'] = generate_filepaths.generate_file_folders(\n",
      "<ipython-input-12-a3d3d0b5a26f>:36: DeprecationWarning: root will be read from flexiznam config. Remove parameter\n",
      "  original_files['trace_folder'] = generate_filepaths.generate_file_folders(\n",
      "/nemo/lab/znamenskiyp/home/users/hey2/codes/cottage_analysis/cottage_analysis/depth_analysis/filepath/generate_filepaths.py:129: DeprecationWarning: flexilims_session will become mandatory\n",
      "  sess_children = get_session_children(\n",
      "/nemo/lab/znamenskiyp/home/users/hey2/codes/cottage_analysis/cottage_analysis/depth_analysis/filepath/generate_filepaths.py:134: DeprecationWarning: flexilims_session will become mandatory\n",
      "  recording_entries, recording_path = get_recording_entries(\n"
     ]
    },
    {
     "name": "stdout",
     "output_type": "stream",
     "text": [
      "Finish appending for this session.\n",
      "PZAG3.4f S20220505\n"
     ]
    },
    {
     "name": "stderr",
     "output_type": "stream",
     "text": [
      "<ipython-input-12-a3d3d0b5a26f>:36: DeprecationWarning: rawdata_root will be read from flexiznam config. Remove parameter\n",
      "  original_files['trace_folder'] = generate_filepaths.generate_file_folders(\n",
      "<ipython-input-12-a3d3d0b5a26f>:36: DeprecationWarning: root will be read from flexiznam config. Remove parameter\n",
      "  original_files['trace_folder'] = generate_filepaths.generate_file_folders(\n",
      "/nemo/lab/znamenskiyp/home/users/hey2/codes/cottage_analysis/cottage_analysis/depth_analysis/filepath/generate_filepaths.py:129: DeprecationWarning: flexilims_session will become mandatory\n",
      "  sess_children = get_session_children(\n",
      "/nemo/lab/znamenskiyp/home/users/hey2/codes/cottage_analysis/cottage_analysis/depth_analysis/filepath/generate_filepaths.py:134: DeprecationWarning: flexilims_session will become mandatory\n",
      "  recording_entries, recording_path = get_recording_entries(\n"
     ]
    },
    {
     "name": "stdout",
     "output_type": "stream",
     "text": [
      "Finish appending for this session.\n",
      "PZAG3.4f S20220503\n"
     ]
    },
    {
     "name": "stderr",
     "output_type": "stream",
     "text": [
      "<ipython-input-12-a3d3d0b5a26f>:36: DeprecationWarning: rawdata_root will be read from flexiznam config. Remove parameter\n",
      "  original_files['trace_folder'] = generate_filepaths.generate_file_folders(\n",
      "<ipython-input-12-a3d3d0b5a26f>:36: DeprecationWarning: root will be read from flexiznam config. Remove parameter\n",
      "  original_files['trace_folder'] = generate_filepaths.generate_file_folders(\n",
      "/nemo/lab/znamenskiyp/home/users/hey2/codes/cottage_analysis/cottage_analysis/depth_analysis/filepath/generate_filepaths.py:129: DeprecationWarning: flexilims_session will become mandatory\n",
      "  sess_children = get_session_children(\n",
      "/nemo/lab/znamenskiyp/home/users/hey2/codes/cottage_analysis/cottage_analysis/depth_analysis/filepath/generate_filepaths.py:134: DeprecationWarning: flexilims_session will become mandatory\n",
      "  recording_entries, recording_path = get_recording_entries(\n"
     ]
    },
    {
     "name": "stdout",
     "output_type": "stream",
     "text": [
      "Finish appending for this session.\n",
      "PZAG3.4f S20220510\n"
     ]
    },
    {
     "name": "stderr",
     "output_type": "stream",
     "text": [
      "<ipython-input-12-a3d3d0b5a26f>:36: DeprecationWarning: rawdata_root will be read from flexiznam config. Remove parameter\n",
      "  original_files['trace_folder'] = generate_filepaths.generate_file_folders(\n",
      "<ipython-input-12-a3d3d0b5a26f>:36: DeprecationWarning: root will be read from flexiznam config. Remove parameter\n",
      "  original_files['trace_folder'] = generate_filepaths.generate_file_folders(\n",
      "/nemo/lab/znamenskiyp/home/users/hey2/codes/cottage_analysis/cottage_analysis/depth_analysis/filepath/generate_filepaths.py:129: DeprecationWarning: flexilims_session will become mandatory\n",
      "  sess_children = get_session_children(\n",
      "/nemo/lab/znamenskiyp/home/users/hey2/codes/cottage_analysis/cottage_analysis/depth_analysis/filepath/generate_filepaths.py:134: DeprecationWarning: flexilims_session will become mandatory\n",
      "  recording_entries, recording_path = get_recording_entries(\n"
     ]
    },
    {
     "name": "stdout",
     "output_type": "stream",
     "text": [
      "Finish appending for this session.\n",
      "PZAG3.4f S20220512\n"
     ]
    },
    {
     "name": "stderr",
     "output_type": "stream",
     "text": [
      "<ipython-input-12-a3d3d0b5a26f>:36: DeprecationWarning: rawdata_root will be read from flexiznam config. Remove parameter\n",
      "  original_files['trace_folder'] = generate_filepaths.generate_file_folders(\n",
      "<ipython-input-12-a3d3d0b5a26f>:36: DeprecationWarning: root will be read from flexiznam config. Remove parameter\n",
      "  original_files['trace_folder'] = generate_filepaths.generate_file_folders(\n",
      "/nemo/lab/znamenskiyp/home/users/hey2/codes/cottage_analysis/cottage_analysis/depth_analysis/filepath/generate_filepaths.py:129: DeprecationWarning: flexilims_session will become mandatory\n",
      "  sess_children = get_session_children(\n",
      "/nemo/lab/znamenskiyp/home/users/hey2/codes/cottage_analysis/cottage_analysis/depth_analysis/filepath/generate_filepaths.py:134: DeprecationWarning: flexilims_session will become mandatory\n",
      "  recording_entries, recording_path = get_recording_entries(\n"
     ]
    },
    {
     "name": "stdout",
     "output_type": "stream",
     "text": [
      "Finish appending for this session.\n",
      "PZAG3.4f S20220511\n"
     ]
    },
    {
     "name": "stderr",
     "output_type": "stream",
     "text": [
      "<ipython-input-12-a3d3d0b5a26f>:36: DeprecationWarning: rawdata_root will be read from flexiznam config. Remove parameter\n",
      "  original_files['trace_folder'] = generate_filepaths.generate_file_folders(\n",
      "<ipython-input-12-a3d3d0b5a26f>:36: DeprecationWarning: root will be read from flexiznam config. Remove parameter\n",
      "  original_files['trace_folder'] = generate_filepaths.generate_file_folders(\n",
      "/nemo/lab/znamenskiyp/home/users/hey2/codes/cottage_analysis/cottage_analysis/depth_analysis/filepath/generate_filepaths.py:129: DeprecationWarning: flexilims_session will become mandatory\n",
      "  sess_children = get_session_children(\n",
      "/nemo/lab/znamenskiyp/home/users/hey2/codes/cottage_analysis/cottage_analysis/depth_analysis/filepath/generate_filepaths.py:134: DeprecationWarning: flexilims_session will become mandatory\n",
      "  recording_entries, recording_path = get_recording_entries(\n"
     ]
    },
    {
     "name": "stdout",
     "output_type": "stream",
     "text": [
      "Finish appending for this session.\n"
     ]
    }
   ],
   "source": [
    "save_root = '/camp/lab/znamenskiyp/home/shared/presentations/Cosyne2023/ver'+str(VERSION)+'/close_raster_summary/'\n",
    "if not os.path.exists(save_root):\n",
    "    os.makedirs(save_root)\n",
    "    \n",
    "rawdata_root = '/camp/lab/znamenskiyp/data/instruments/raw_data/projects/'\n",
    "root = '/camp/lab/znamenskiyp/home/shared/projects/'\n",
    "\n",
    "project='hey2_3d-vision_foodres_20220101'\n",
    "mouses = ['PZAH6.4b','PZAG3.4f']\n",
    "V1_sessions = [['S20220512','S20220511','S20220429','S20220419','S20220426','S20220506','S20220503','S20220505','S20220516'],['S20220504','S20220426','S20220421','S20220419','S20220505','S20220503','S20220510','S20220512','S20220511']]\n",
    "protocol='SpheresPermTubeReward'\n",
    "playback=False\n",
    "\n",
    "# COMBINE PSTH FROM ALL DEPTH NEURONS OF ALL SESSIONS INTO A GIANT LIST\n",
    "all_neurons_psth = []\n",
    "all_neurons_preferred_depths = []\n",
    "for k in range(len(V1_sessions)):\n",
    "    mouse = mouses[k]\n",
    "    for session in V1_sessions[k]:\n",
    "        print(mouse, session)\n",
    "        depth_list = [0.06, 0.19, 0.6, 1.9, 6]\n",
    "        choose_trials = 50\n",
    "        frame_rate = 15\n",
    "        speed_thr_cal = 0.2  # m/s, threshold for running speed when calculating depth neurons\n",
    "        speed_thr = 0.01  #m/s\n",
    "        manual_choose_rois = True\n",
    "        manually_chosen_rois = [1]\n",
    "        distance_max = 6\n",
    "\n",
    "        # Generate file path\n",
    "        original_files = {}\n",
    "        original_files['rawdata_folder'], \\\n",
    "        original_files['protocol_folder'], \\\n",
    "        original_files['analysis_folder'], \\\n",
    "        original_files['suite2p_folder'], \\\n",
    "        original_files['trace_folder'] = generate_filepaths.generate_file_folders(\n",
    "            project=project,\n",
    "            mouse=mouse,\n",
    "            session=session,\n",
    "            protocol=protocol,\n",
    "            rawdata_root=rawdata_root,\n",
    "            root=root)\n",
    "\n",
    "        if playback:\n",
    "            playback_files = {}\n",
    "            playback_files['rawdata_folder'], \\\n",
    "            playback_files['protocol_folder'], \\\n",
    "            playback_files['analysis_folder'], \\\n",
    "            playback_files['suite2p_folder'], \\\n",
    "            playback_files['trace_folder'] = generate_filepaths.generate_file_folders(\n",
    "                project=project,\n",
    "                mouse=mouse,\n",
    "                session=session,\n",
    "                protocol=protocol+'Playback',\n",
    "                rawdata_root=rawdata_root,\n",
    "                root=root)\n",
    "\n",
    "        # Load files\n",
    "        # Load suite2p files\n",
    "        ops = np.load(original_files['suite2p_folder']/'ops.npy', allow_pickle=True)\n",
    "        ops = ops.item()\n",
    "        iscell = np.load(original_files['suite2p_folder']/'iscell.npy', allow_pickle=True)[:, 0]\n",
    "        F = np.load(original_files['trace_folder']/'F.npy', allow_pickle=True)\n",
    "        # Fast = np.load(trace_folder + 'Fast.npy', allow_pickle=True)\n",
    "        # Fneu = np.load(trace_folder + 'Fneu.npy', allow_pickle=True)\n",
    "        # spks = np.load(trace_folder + 'spks.npy', allow_pickle=True)\n",
    "\n",
    "        # All_rois\n",
    "        which_rois = (np.arange(F.shape[0]))[iscell.astype('bool')]\n",
    "\n",
    "        # dffs_ast\n",
    "        dffs_original = np.load(original_files['trace_folder']/'dffs_ast.npy')\n",
    "        if playback:\n",
    "            dffs_playback = np.load(playback_files['trace_folder']/'dffs_ast.npy')\n",
    "\n",
    "        # Load stim structure file\n",
    "        with open(original_files['protocol_folder']/'img_VS.pickle', 'rb') as handle:\n",
    "            img_VS_original = pickle.load(handle)\n",
    "        if os.path.exists(original_files['protocol_folder']/'stim_dict.pickle'):\n",
    "            with open(original_files['protocol_folder']/'stim_dict.pickle', 'rb') as handle:\n",
    "                stim_dict_original = pickle.load(handle)\n",
    "        else:\n",
    "            stim_dict_original = create_stim_dict(depth_list=depth_list, img_VS=img_VS_original, choose_trials=choose_trials)\n",
    "        with open(original_files['analysis_folder']/'plane0/gaussian_depth_tuning_fit_new_0.5.pickle', 'rb') as handle:\n",
    "            gaussian_depth_original = pickle.load(handle)\n",
    "\n",
    "        if playback:\n",
    "            with open(playback_files['protocol_folder']/'img_VS.pickle', 'rb') as handle:\n",
    "                img_VS_playback = pickle.load(handle)\n",
    "            if os.path.exists(playback_files['protocol_folder']/'stim_dict.pickle'):\n",
    "                with open(playback_files['protocol_folder']/'stim_dict.pickle', 'rb') as handle:\n",
    "                    stim_dict_playback = pickle.load(handle)\n",
    "            else:\n",
    "                stim_dict_playback = create_stim_dict(depth_list=depth_list, img_VS=img_VS_playback, choose_trials=choose_trials)\n",
    "            with open(playback_files['analysis_folder']/'plane0/gaussian_depth_tuning_fit_new_0.5.pickle', 'rb') as handle:\n",
    "                gaussian_depth_playback = pickle.load(handle)\n",
    "\n",
    "        # Load depth neurons\n",
    "        depth_neurons = np.load(original_files['analysis_folder']/'plane0/depth_neurons.npy')\n",
    "        max_depths_original = np.load(original_files['analysis_folder']/'plane0/max_depths_index.npy')\n",
    "        # max_depths_gaussian_fit = np.load(original_files['analysis_folder'] + 'plane0/max_LogDepth_gaussianfit.npy')\n",
    "        if playback:\n",
    "            max_depths_playback = np.load(playback_files['analysis_folder']/'plane0/max_depths_index.npy')\n",
    "            # max_depths_gaussian_fit = np.load(playback_files['analysis_folder'] + 'plane0/max_LogDepth_gaussianfit.npy')\n",
    "\n",
    "        # PARAMS PROCESSING\n",
    "        # Speed array\n",
    "        # Running speed is thresholded with a small threshold to get rid of non-zero values (default threshold 0.01)\n",
    "        # Closeloop\n",
    "        speeds_original = img_VS_original.MouseZ.diff() / img_VS_original.HarpTime.diff() # with no playback. EyeZ and MouseZ should be the same.\n",
    "        speeds_original[0] = 0\n",
    "        speeds_original = thr(speeds_original, speed_thr)\n",
    "        speed_arr_original, _ = create_speed_arr(speeds_original, depth_list, stim_dict_original, mode='sort_by_depth', protocol='fix_length',\n",
    "                                        blank_period=0, frame_rate=frame_rate)\n",
    "        speed_arr_mean_original = np.nanmean(speed_arr_original,axis=1)\n",
    "        speed_arr_noblank_original,_ = create_speed_arr(speeds_original, depth_list, stim_dict_original, mode='sort_by_depth', protocol='fix_length', blank_period=0, frame_rate=frame_rate)\n",
    "        speed_arr_noblank_mean_original = np.nanmean(speed_arr_noblank_original,axis=1)\n",
    "        speed_arr_blank_original,_ = create_speed_arr(speeds_original, depth_list, stim_dict_original, mode='sort_by_depth', protocol='fix_length', isStim=False, blank_period=0, frame_rate=frame_rate)\n",
    "        frame_num_pertrial_max_original = speed_arr_noblank_original.shape[2]\n",
    "        total_trials_original = speed_arr_noblank_original.shape[1]\n",
    "        optics_original = calculate_OF(rs=speeds_original, img_VS=img_VS_original, mode='no_RF')\n",
    "\n",
    "        # Array of distance travelled from each trial start (m)\n",
    "        distance_arr_original, _ = create_speed_arr(img_VS_original['EyeZ'], depth_list, stim_dict_original, mode='sort_by_depth',\n",
    "                                            protocol='fix_length', blank_period=0, frame_rate=frame_rate)\n",
    "        for idepth in range(distance_arr_original.shape[0]):\n",
    "            for itrial in range(distance_arr_original.shape[1]):\n",
    "                distance_arr_original[idepth, itrial, :] = distance_arr_original[idepth, itrial, :] - distance_arr_original[idepth, itrial, 0]\n",
    "\n",
    "        # Openloop\n",
    "        if playback:\n",
    "            speeds_playback = img_VS_playback.MouseZ.diff() / img_VS_playback.HarpTime.diff() # with no playback. EyeZ and MouseZ should be the same.\n",
    "            speeds_playback[0] = 0\n",
    "            speeds_playback = thr(speeds_playback, speed_thr)\n",
    "            speed_arr_playback, _ = create_speed_arr(speeds_playback, depth_list, stim_dict_playback, mode='sort_by_depth', protocol='fix_length',\n",
    "                                            blank_period=0, frame_rate=frame_rate)\n",
    "            speed_arr_mean_playback = np.nanmean(speed_arr_playback,axis=1)\n",
    "            speed_arr_noblank_playback,_ = create_speed_arr(speeds_playback, depth_list, stim_dict_playback, mode='sort_by_depth', protocol='fix_length', blank_period=0, frame_rate=frame_rate)\n",
    "            speed_arr_noblank_mean_playback = np.nanmean(speed_arr_noblank_playback,axis=1)\n",
    "            speed_arr_blank_playback,_ = create_speed_arr(speeds_playback, depth_list, stim_dict_playback, mode='sort_by_depth', protocol='fix_length', isStim=False, blank_period=0, frame_rate=frame_rate)\n",
    "            frame_num_pertrial_max_playback = speed_arr_noblank_playback.shape[2]\n",
    "            total_trials_playback = speed_arr_noblank_playback.shape[1]\n",
    "\n",
    "            speeds_eye_playback = img_VS_playback.EyeZ.diff() / img_VS_playback.HarpTime.diff()  # EyeZ is how the perspective of animal moves\n",
    "            speeds_eye_playback[0] = 0\n",
    "            speeds_eye_playback = thr(speeds_eye_playback, speed_thr)\n",
    "            optics_playback = calculate_OF(rs=speeds_eye_playback, img_VS=img_VS_playback, mode='no_RF')\n",
    "\n",
    "\n",
    "            # Array of distance travelled from each trial start (m)\n",
    "            distance_arr_playback, _ = create_speed_arr(img_VS_playback['EyeZ'], depth_list, stim_dict_playback, mode='sort_by_depth',\n",
    "                                                protocol='fix_length', blank_period=0, frame_rate=frame_rate)\n",
    "            for idepth in range(distance_arr_playback.shape[0]):\n",
    "                for itrial in range(distance_arr_playback.shape[1]):\n",
    "                    distance_arr_playback[idepth, itrial, :] = distance_arr_playback[idepth, itrial, :] - distance_arr_playback[idepth, itrial, 0]\n",
    "\n",
    "\n",
    "\n",
    "        # Get PSTH for all depth neurons\n",
    "        for roi in depth_neurons:\n",
    "            binned_stats = get_PSTH(values = dffs_original, \n",
    "            dffs=dffs_original,  \n",
    "            depth_list=depth_list, \n",
    "            stim_dict=stim_dict_original,\n",
    "            roi=roi,\n",
    "            distance_arr=distance_arr_original, \n",
    "            distance_bins=60,\n",
    "            is_trace=True)\n",
    "            PSTH_ave = np.nanmean(binned_stats['binned_yrr'], axis=1).flatten()\n",
    "\n",
    "            all_neurons_psth.append(PSTH_ave)\n",
    "        \n",
    "        all_neurons_preferred_depths.append(np.array(np.exp(gaussian_depth_original.x0_logged.values.astype('float32'))).tolist())\n",
    "        print('Finish appending for this session.')\n",
    "print('Finish appending for ALL sessions.')"
   ]
  },
  {
   "cell_type": "code",
   "execution_count": 13,
   "metadata": {},
   "outputs": [
    {
     "name": "stderr",
     "output_type": "stream",
     "text": [
      "/camp/home/hey2/.conda/envs/2p_analysis_cottage/lib/python3.9/site-packages/ipykernel/ipkernel.py:287: DeprecationWarning: `should_run_async` will not call `transform_cell` automatically in the future. Please pass the result to `transformed_cell` argument and any exception that happen during thetransform in `preprocessing_exc_tuple` in IPython 7.17 and above.\n",
      "  and should_run_async(code)\n"
     ]
    }
   ],
   "source": [
    "all_neurons_psth = np.array(all_neurons_psth)\n",
    "all_neurons_preferred_depths = np.array([j for i in all_neurons_preferred_depths for j in i])\n",
    "np.save(save_root+'all_neurons_psth.npy',all_neurons_psth)\n",
    "np.save(save_root+'all_neurons_preferred_depths.npy',all_neurons_preferred_depths)"
   ]
  },
  {
   "cell_type": "code",
   "execution_count": 34,
   "metadata": {},
   "outputs": [
    {
     "name": "stderr",
     "output_type": "stream",
     "text": [
      "/camp/home/hey2/.conda/envs/2p_analysis_cottage/lib/python3.9/site-packages/ipykernel/ipkernel.py:287: DeprecationWarning: `should_run_async` will not call `transform_cell` automatically in the future. Please pass the result to `transformed_cell` argument and any exception that happen during thetransform in `preprocessing_exc_tuple` in IPython 7.17 and above.\n",
      "  and should_run_async(code)\n"
     ]
    },
    {
     "data": {
      "image/png": "[encoded data removed]",
      "text/plain": [
       "<Figure size 360x360 with 2 Axes>"
      ]
     },
     "metadata": {
      "needs_background": "light"
     },
     "output_type": "display_data"
    }
   ],
   "source": [
    "# -- FIG 1: Raster plot of all neurons -- \n",
    "save_root = '/camp/lab/znamenskiyp/home/shared/presentations/Cosyne2023/ver'+str(VERSION)+'/close_raster_summary/'\n",
    "all_neurons_psth = np.load(save_root+'all_neurons_psth.npy')\n",
    "all_neurons_preferred_depths = np.load(save_root+'all_neurons_preferred_depths.npy')\n",
    "\n",
    "# Colormap\n",
    "N = 256\n",
    "vals = np.ones((N, 4))\n",
    "vals[:, 0] = np.linspace(1, 1, N)\n",
    "vals[:, 1] = np.linspace(1, 0, N)\n",
    "vals[:, 2] = np.linspace(1, 0, N)\n",
    "WhRdcmap = ListedColormap(vals)\n",
    "\n",
    "# Sort all neurons based on their preferred depth\n",
    "inds = all_neurons_preferred_depths.argsort()\n",
    "sortedPSTH = all_neurons_psth[inds,:]\n",
    "\n",
    "# Normalize each neuron \n",
    "sortedPSTH_normed = (sortedPSTH - ((np.nanmin(sortedPSTH, axis=1)).reshape(-1,1))) \\\n",
    "    /((np.nanmax(sortedPSTH, axis=1)).reshape(-1,1)-(np.nanmin(sortedPSTH, axis=1)).reshape(-1,1))\n",
    "sortedPSTH_normed = np.delete(sortedPSTH_normed, [4514, 7519], axis=0) # delete two cells that have negative response, get rid of these two cells from depth neurons\n",
    "\n",
    "plt.figure(figsize=(5,5))\n",
    "plt.imshow(sortedPSTH_normed, aspect='auto', cmap=WhRdcmap)\n",
    "plt.xticks(np.arange(sortedPSTH.shape[1])[30::60],(np.array(depth_list)*100).astype('int'), fontsize=15)\n",
    "plt.yticks(fontsize=15)\n",
    "plt.ylabel('Neuron number', fontsize=15)\n",
    "plt.xlabel('Corridor depth (cm)', fontsize=15)\n",
    "cbar = plt.colorbar()\n",
    "cbar.ax.tick_params(labelsize=12)\n",
    "despine()\n",
    "plt.tight_layout(pad=1)\n",
    "plt.savefig(save_root+'all_depth_neurons_raster.pdf')"
   ]
  }
 ],
 "metadata": {
  "kernelspec": {
   "display_name": "2p_analysis_cottage",
   "language": "python",
   "name": "python3"
  },
  "language_info": {
   "codemirror_mode": {
    "name": "ipython",
    "version": 3
   },
   "file_extension": ".py",
   "mimetype": "text/x-python",
   "name": "python",
   "nbconvert_exporter": "python",
   "pygments_lexer": "ipython3",
   "version": "3.9.5"
  },
  "orig_nbformat": 4,
  "vscode": {
   "interpreter": {
    "hash": "939011bda4ac240316e77cd9a4c8c2e7aac31e833bb6d639fcef3c3405a9852b"
   }
  }
 },
 "nbformat": 4,
 "nbformat_minor": 2
}
