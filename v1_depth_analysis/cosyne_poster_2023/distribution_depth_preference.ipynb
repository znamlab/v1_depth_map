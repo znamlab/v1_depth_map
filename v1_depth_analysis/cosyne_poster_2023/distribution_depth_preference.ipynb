{
 "cells": [
  {
   "attachments": {},
   "cell_type": "markdown",
   "metadata": {},
   "source": [
    "This notebook generates the following panels:\n",
    "- ( ) Summary: distribution of depth preferences of all cells\n",
    "\n",
    "use env 2p_analysis_cottage"
   ]
  },
  {
   "cell_type": "code",
   "execution_count": 2,
   "metadata": {},
   "outputs": [],
   "source": [
    "VERSION = 1"
   ]
  },
  {
   "cell_type": "code",
   "execution_count": 3,
   "metadata": {},
   "outputs": [],
   "source": [
    "%reload_ext autoreload\n",
    "%autoreload 2\n",
    "\n",
    "import os\n",
    "import sys\n",
    "import defopt\n",
    "import pickle\n",
    "import numpy as np\n",
    "import pandas as pd\n",
    "import scipy.stats\n",
    "from scipy.optimize import curve_fit\n",
    "import matplotlib as mpl\n",
    "from matplotlib import cm\n",
    "import matplotlib.pyplot as plt\n",
    "from matplotlib.patches import Circle\n",
    "mpl.rcParams['pdf.fonttype'] = 42 # save text as text not outlines\n",
    "from matplotlib.backends.backend_pdf import PdfPages\n",
    "from matplotlib.colors import ListedColormap\n",
    "# from mpl_toolkits.axes_grid1 import make_axes_locatable\n",
    "import warnings\n",
    "\n",
    "from cottage_analysis.depth_analysis.filepath import generate_filepaths\n",
    "from cottage_analysis.stimulus_structure.sphere_structure import *\n",
    "from cottage_analysis.depth_analysis.depth_preprocess.process_params import create_speed_arr, create_trace_arr_per_roi, calculate_OF, thr\n",
    "from cottage_analysis.depth_analysis.plotting.plotting_utils import *\n",
    "from cottage_analysis.depth_analysis.plotting.basic_vis_plots import *"
   ]
  },
  {
   "cell_type": "code",
   "execution_count": 6,
   "metadata": {},
   "outputs": [
    {
     "name": "stderr",
     "output_type": "stream",
     "text": [
      "/camp/home/hey2/.conda/envs/2p_analysis_cottage/lib/python3.9/site-packages/ipykernel/ipkernel.py:287: DeprecationWarning: `should_run_async` will not call `transform_cell` automatically in the future. Please pass the result to `transformed_cell` argument and any exception that happen during thetransform in `preprocessing_exc_tuple` in IPython 7.17 and above.\n",
      "  and should_run_async(code)\n"
     ]
    },
    {
     "name": "stdout",
     "output_type": "stream",
     "text": [
      "---START STEP 1--- \n",
      " Getting data filepaths...\n"
     ]
    },
    {
     "name": "stderr",
     "output_type": "stream",
     "text": [
      "<ipython-input-6-80a7731c9d60>:27: DeprecationWarning: rawdata_root will be read from flexiznam config. Remove parameter\n",
      "  rawdata_folder, protocol_folder, analysis_folder, suite2p_folder, trace_folder = generate_filepaths.generate_file_folders(\n",
      "<ipython-input-6-80a7731c9d60>:27: DeprecationWarning: root will be read from flexiznam config. Remove parameter\n",
      "  rawdata_folder, protocol_folder, analysis_folder, suite2p_folder, trace_folder = generate_filepaths.generate_file_folders(\n",
      "/nemo/lab/znamenskiyp/home/users/hey2/codes/cottage_analysis/cottage_analysis/depth_analysis/filepath/generate_filepaths.py:160: DeprecationWarning: flexilims_session will become mandatory\n",
      "  sess_children = get_session_children(\n",
      "/nemo/lab/znamenskiyp/home/users/hey2/codes/cottage_analysis/cottage_analysis/depth_analysis/filepath/generate_filepaths.py:165: DeprecationWarning: flexilims_session will become mandatory\n",
      "  recording_entries, recording_path = get_recording_entries(\n"
     ]
    },
    {
     "name": "stdout",
     "output_type": "stream",
     "text": [
      "S20220512\n",
      "---START STEP 1--- \n",
      " Getting data filepaths...\n"
     ]
    },
    {
     "name": "stderr",
     "output_type": "stream",
     "text": [
      "<ipython-input-6-80a7731c9d60>:27: DeprecationWarning: rawdata_root will be read from flexiznam config. Remove parameter\n",
      "  rawdata_folder, protocol_folder, analysis_folder, suite2p_folder, trace_folder = generate_filepaths.generate_file_folders(\n",
      "<ipython-input-6-80a7731c9d60>:27: DeprecationWarning: root will be read from flexiznam config. Remove parameter\n",
      "  rawdata_folder, protocol_folder, analysis_folder, suite2p_folder, trace_folder = generate_filepaths.generate_file_folders(\n",
      "/nemo/lab/znamenskiyp/home/users/hey2/codes/cottage_analysis/cottage_analysis/depth_analysis/filepath/generate_filepaths.py:160: DeprecationWarning: flexilims_session will become mandatory\n",
      "  sess_children = get_session_children(\n",
      "/nemo/lab/znamenskiyp/home/users/hey2/codes/cottage_analysis/cottage_analysis/depth_analysis/filepath/generate_filepaths.py:165: DeprecationWarning: flexilims_session will become mandatory\n",
      "  recording_entries, recording_path = get_recording_entries(\n"
     ]
    },
    {
     "name": "stdout",
     "output_type": "stream",
     "text": [
      "S20220511\n",
      "---START STEP 1--- \n",
      " Getting data filepaths...\n"
     ]
    },
    {
     "name": "stderr",
     "output_type": "stream",
     "text": [
      "<ipython-input-6-80a7731c9d60>:27: DeprecationWarning: rawdata_root will be read from flexiznam config. Remove parameter\n",
      "  rawdata_folder, protocol_folder, analysis_folder, suite2p_folder, trace_folder = generate_filepaths.generate_file_folders(\n",
      "<ipython-input-6-80a7731c9d60>:27: DeprecationWarning: root will be read from flexiznam config. Remove parameter\n",
      "  rawdata_folder, protocol_folder, analysis_folder, suite2p_folder, trace_folder = generate_filepaths.generate_file_folders(\n",
      "/nemo/lab/znamenskiyp/home/users/hey2/codes/cottage_analysis/cottage_analysis/depth_analysis/filepath/generate_filepaths.py:160: DeprecationWarning: flexilims_session will become mandatory\n",
      "  sess_children = get_session_children(\n",
      "/nemo/lab/znamenskiyp/home/users/hey2/codes/cottage_analysis/cottage_analysis/depth_analysis/filepath/generate_filepaths.py:165: DeprecationWarning: flexilims_session will become mandatory\n",
      "  recording_entries, recording_path = get_recording_entries(\n"
     ]
    },
    {
     "name": "stdout",
     "output_type": "stream",
     "text": [
      "S20220429\n",
      "---START STEP 1--- \n",
      " Getting data filepaths...\n"
     ]
    },
    {
     "name": "stderr",
     "output_type": "stream",
     "text": [
      "<ipython-input-6-80a7731c9d60>:27: DeprecationWarning: rawdata_root will be read from flexiznam config. Remove parameter\n",
      "  rawdata_folder, protocol_folder, analysis_folder, suite2p_folder, trace_folder = generate_filepaths.generate_file_folders(\n",
      "<ipython-input-6-80a7731c9d60>:27: DeprecationWarning: root will be read from flexiznam config. Remove parameter\n",
      "  rawdata_folder, protocol_folder, analysis_folder, suite2p_folder, trace_folder = generate_filepaths.generate_file_folders(\n",
      "/nemo/lab/znamenskiyp/home/users/hey2/codes/cottage_analysis/cottage_analysis/depth_analysis/filepath/generate_filepaths.py:160: DeprecationWarning: flexilims_session will become mandatory\n",
      "  sess_children = get_session_children(\n",
      "/nemo/lab/znamenskiyp/home/users/hey2/codes/cottage_analysis/cottage_analysis/depth_analysis/filepath/generate_filepaths.py:165: DeprecationWarning: flexilims_session will become mandatory\n",
      "  recording_entries, recording_path = get_recording_entries(\n"
     ]
    },
    {
     "name": "stdout",
     "output_type": "stream",
     "text": [
      "S20220419\n",
      "---START STEP 1--- \n",
      " Getting data filepaths...\n"
     ]
    },
    {
     "name": "stderr",
     "output_type": "stream",
     "text": [
      "<ipython-input-6-80a7731c9d60>:27: DeprecationWarning: rawdata_root will be read from flexiznam config. Remove parameter\n",
      "  rawdata_folder, protocol_folder, analysis_folder, suite2p_folder, trace_folder = generate_filepaths.generate_file_folders(\n",
      "<ipython-input-6-80a7731c9d60>:27: DeprecationWarning: root will be read from flexiznam config. Remove parameter\n",
      "  rawdata_folder, protocol_folder, analysis_folder, suite2p_folder, trace_folder = generate_filepaths.generate_file_folders(\n",
      "/nemo/lab/znamenskiyp/home/users/hey2/codes/cottage_analysis/cottage_analysis/depth_analysis/filepath/generate_filepaths.py:160: DeprecationWarning: flexilims_session will become mandatory\n",
      "  sess_children = get_session_children(\n",
      "/nemo/lab/znamenskiyp/home/users/hey2/codes/cottage_analysis/cottage_analysis/depth_analysis/filepath/generate_filepaths.py:165: DeprecationWarning: flexilims_session will become mandatory\n",
      "  recording_entries, recording_path = get_recording_entries(\n"
     ]
    },
    {
     "name": "stdout",
     "output_type": "stream",
     "text": [
      "S20220426\n",
      "---START STEP 1--- \n",
      " Getting data filepaths...\n"
     ]
    },
    {
     "name": "stderr",
     "output_type": "stream",
     "text": [
      "<ipython-input-6-80a7731c9d60>:27: DeprecationWarning: rawdata_root will be read from flexiznam config. Remove parameter\n",
      "  rawdata_folder, protocol_folder, analysis_folder, suite2p_folder, trace_folder = generate_filepaths.generate_file_folders(\n",
      "<ipython-input-6-80a7731c9d60>:27: DeprecationWarning: root will be read from flexiznam config. Remove parameter\n",
      "  rawdata_folder, protocol_folder, analysis_folder, suite2p_folder, trace_folder = generate_filepaths.generate_file_folders(\n",
      "/nemo/lab/znamenskiyp/home/users/hey2/codes/cottage_analysis/cottage_analysis/depth_analysis/filepath/generate_filepaths.py:160: DeprecationWarning: flexilims_session will become mandatory\n",
      "  sess_children = get_session_children(\n",
      "/nemo/lab/znamenskiyp/home/users/hey2/codes/cottage_analysis/cottage_analysis/depth_analysis/filepath/generate_filepaths.py:165: DeprecationWarning: flexilims_session will become mandatory\n",
      "  recording_entries, recording_path = get_recording_entries(\n"
     ]
    },
    {
     "name": "stdout",
     "output_type": "stream",
     "text": [
      "S20220506\n",
      "---START STEP 1--- \n",
      " Getting data filepaths...\n"
     ]
    },
    {
     "name": "stderr",
     "output_type": "stream",
     "text": [
      "<ipython-input-6-80a7731c9d60>:27: DeprecationWarning: rawdata_root will be read from flexiznam config. Remove parameter\n",
      "  rawdata_folder, protocol_folder, analysis_folder, suite2p_folder, trace_folder = generate_filepaths.generate_file_folders(\n",
      "<ipython-input-6-80a7731c9d60>:27: DeprecationWarning: root will be read from flexiznam config. Remove parameter\n",
      "  rawdata_folder, protocol_folder, analysis_folder, suite2p_folder, trace_folder = generate_filepaths.generate_file_folders(\n",
      "/nemo/lab/znamenskiyp/home/users/hey2/codes/cottage_analysis/cottage_analysis/depth_analysis/filepath/generate_filepaths.py:160: DeprecationWarning: flexilims_session will become mandatory\n",
      "  sess_children = get_session_children(\n",
      "/nemo/lab/znamenskiyp/home/users/hey2/codes/cottage_analysis/cottage_analysis/depth_analysis/filepath/generate_filepaths.py:165: DeprecationWarning: flexilims_session will become mandatory\n",
      "  recording_entries, recording_path = get_recording_entries(\n"
     ]
    },
    {
     "name": "stdout",
     "output_type": "stream",
     "text": [
      "S20220503\n",
      "---START STEP 1--- \n",
      " Getting data filepaths...\n"
     ]
    },
    {
     "name": "stderr",
     "output_type": "stream",
     "text": [
      "<ipython-input-6-80a7731c9d60>:27: DeprecationWarning: rawdata_root will be read from flexiznam config. Remove parameter\n",
      "  rawdata_folder, protocol_folder, analysis_folder, suite2p_folder, trace_folder = generate_filepaths.generate_file_folders(\n",
      "<ipython-input-6-80a7731c9d60>:27: DeprecationWarning: root will be read from flexiznam config. Remove parameter\n",
      "  rawdata_folder, protocol_folder, analysis_folder, suite2p_folder, trace_folder = generate_filepaths.generate_file_folders(\n",
      "/nemo/lab/znamenskiyp/home/users/hey2/codes/cottage_analysis/cottage_analysis/depth_analysis/filepath/generate_filepaths.py:160: DeprecationWarning: flexilims_session will become mandatory\n",
      "  sess_children = get_session_children(\n",
      "/nemo/lab/znamenskiyp/home/users/hey2/codes/cottage_analysis/cottage_analysis/depth_analysis/filepath/generate_filepaths.py:165: DeprecationWarning: flexilims_session will become mandatory\n",
      "  recording_entries, recording_path = get_recording_entries(\n"
     ]
    },
    {
     "name": "stdout",
     "output_type": "stream",
     "text": [
      "S20220505\n",
      "---START STEP 1--- \n",
      " Getting data filepaths...\n"
     ]
    },
    {
     "name": "stderr",
     "output_type": "stream",
     "text": [
      "<ipython-input-6-80a7731c9d60>:27: DeprecationWarning: rawdata_root will be read from flexiznam config. Remove parameter\n",
      "  rawdata_folder, protocol_folder, analysis_folder, suite2p_folder, trace_folder = generate_filepaths.generate_file_folders(\n",
      "<ipython-input-6-80a7731c9d60>:27: DeprecationWarning: root will be read from flexiznam config. Remove parameter\n",
      "  rawdata_folder, protocol_folder, analysis_folder, suite2p_folder, trace_folder = generate_filepaths.generate_file_folders(\n",
      "/nemo/lab/znamenskiyp/home/users/hey2/codes/cottage_analysis/cottage_analysis/depth_analysis/filepath/generate_filepaths.py:160: DeprecationWarning: flexilims_session will become mandatory\n",
      "  sess_children = get_session_children(\n",
      "/nemo/lab/znamenskiyp/home/users/hey2/codes/cottage_analysis/cottage_analysis/depth_analysis/filepath/generate_filepaths.py:165: DeprecationWarning: flexilims_session will become mandatory\n",
      "  recording_entries, recording_path = get_recording_entries(\n"
     ]
    },
    {
     "name": "stdout",
     "output_type": "stream",
     "text": [
      "S20220516\n",
      "---START STEP 1--- \n",
      " Getting data filepaths...\n"
     ]
    },
    {
     "name": "stderr",
     "output_type": "stream",
     "text": [
      "<ipython-input-6-80a7731c9d60>:27: DeprecationWarning: rawdata_root will be read from flexiznam config. Remove parameter\n",
      "  rawdata_folder, protocol_folder, analysis_folder, suite2p_folder, trace_folder = generate_filepaths.generate_file_folders(\n",
      "<ipython-input-6-80a7731c9d60>:27: DeprecationWarning: root will be read from flexiznam config. Remove parameter\n",
      "  rawdata_folder, protocol_folder, analysis_folder, suite2p_folder, trace_folder = generate_filepaths.generate_file_folders(\n",
      "/nemo/lab/znamenskiyp/home/users/hey2/codes/cottage_analysis/cottage_analysis/depth_analysis/filepath/generate_filepaths.py:160: DeprecationWarning: flexilims_session will become mandatory\n",
      "  sess_children = get_session_children(\n",
      "/nemo/lab/znamenskiyp/home/users/hey2/codes/cottage_analysis/cottage_analysis/depth_analysis/filepath/generate_filepaths.py:165: DeprecationWarning: flexilims_session will become mandatory\n",
      "  recording_entries, recording_path = get_recording_entries(\n"
     ]
    },
    {
     "name": "stdout",
     "output_type": "stream",
     "text": [
      "S20220504\n",
      "---START STEP 1--- \n",
      " Getting data filepaths...\n"
     ]
    },
    {
     "name": "stderr",
     "output_type": "stream",
     "text": [
      "<ipython-input-6-80a7731c9d60>:27: DeprecationWarning: rawdata_root will be read from flexiznam config. Remove parameter\n",
      "  rawdata_folder, protocol_folder, analysis_folder, suite2p_folder, trace_folder = generate_filepaths.generate_file_folders(\n",
      "<ipython-input-6-80a7731c9d60>:27: DeprecationWarning: root will be read from flexiznam config. Remove parameter\n",
      "  rawdata_folder, protocol_folder, analysis_folder, suite2p_folder, trace_folder = generate_filepaths.generate_file_folders(\n",
      "/nemo/lab/znamenskiyp/home/users/hey2/codes/cottage_analysis/cottage_analysis/depth_analysis/filepath/generate_filepaths.py:160: DeprecationWarning: flexilims_session will become mandatory\n",
      "  sess_children = get_session_children(\n",
      "/nemo/lab/znamenskiyp/home/users/hey2/codes/cottage_analysis/cottage_analysis/depth_analysis/filepath/generate_filepaths.py:165: DeprecationWarning: flexilims_session will become mandatory\n",
      "  recording_entries, recording_path = get_recording_entries(\n"
     ]
    },
    {
     "name": "stdout",
     "output_type": "stream",
     "text": [
      "S20220426\n",
      "---START STEP 1--- \n",
      " Getting data filepaths...\n"
     ]
    },
    {
     "name": "stderr",
     "output_type": "stream",
     "text": [
      "<ipython-input-6-80a7731c9d60>:27: DeprecationWarning: rawdata_root will be read from flexiznam config. Remove parameter\n",
      "  rawdata_folder, protocol_folder, analysis_folder, suite2p_folder, trace_folder = generate_filepaths.generate_file_folders(\n",
      "<ipython-input-6-80a7731c9d60>:27: DeprecationWarning: root will be read from flexiznam config. Remove parameter\n",
      "  rawdata_folder, protocol_folder, analysis_folder, suite2p_folder, trace_folder = generate_filepaths.generate_file_folders(\n",
      "/nemo/lab/znamenskiyp/home/users/hey2/codes/cottage_analysis/cottage_analysis/depth_analysis/filepath/generate_filepaths.py:160: DeprecationWarning: flexilims_session will become mandatory\n",
      "  sess_children = get_session_children(\n",
      "/nemo/lab/znamenskiyp/home/users/hey2/codes/cottage_analysis/cottage_analysis/depth_analysis/filepath/generate_filepaths.py:165: DeprecationWarning: flexilims_session will become mandatory\n",
      "  recording_entries, recording_path = get_recording_entries(\n"
     ]
    },
    {
     "name": "stdout",
     "output_type": "stream",
     "text": [
      "S20220421\n",
      "---START STEP 1--- \n",
      " Getting data filepaths...\n"
     ]
    },
    {
     "name": "stderr",
     "output_type": "stream",
     "text": [
      "<ipython-input-6-80a7731c9d60>:27: DeprecationWarning: rawdata_root will be read from flexiznam config. Remove parameter\n",
      "  rawdata_folder, protocol_folder, analysis_folder, suite2p_folder, trace_folder = generate_filepaths.generate_file_folders(\n",
      "<ipython-input-6-80a7731c9d60>:27: DeprecationWarning: root will be read from flexiznam config. Remove parameter\n",
      "  rawdata_folder, protocol_folder, analysis_folder, suite2p_folder, trace_folder = generate_filepaths.generate_file_folders(\n",
      "/nemo/lab/znamenskiyp/home/users/hey2/codes/cottage_analysis/cottage_analysis/depth_analysis/filepath/generate_filepaths.py:160: DeprecationWarning: flexilims_session will become mandatory\n",
      "  sess_children = get_session_children(\n",
      "/nemo/lab/znamenskiyp/home/users/hey2/codes/cottage_analysis/cottage_analysis/depth_analysis/filepath/generate_filepaths.py:165: DeprecationWarning: flexilims_session will become mandatory\n",
      "  recording_entries, recording_path = get_recording_entries(\n"
     ]
    },
    {
     "name": "stdout",
     "output_type": "stream",
     "text": [
      "S20220419\n",
      "---START STEP 1--- \n",
      " Getting data filepaths...\n"
     ]
    },
    {
     "name": "stderr",
     "output_type": "stream",
     "text": [
      "<ipython-input-6-80a7731c9d60>:27: DeprecationWarning: rawdata_root will be read from flexiznam config. Remove parameter\n",
      "  rawdata_folder, protocol_folder, analysis_folder, suite2p_folder, trace_folder = generate_filepaths.generate_file_folders(\n",
      "<ipython-input-6-80a7731c9d60>:27: DeprecationWarning: root will be read from flexiznam config. Remove parameter\n",
      "  rawdata_folder, protocol_folder, analysis_folder, suite2p_folder, trace_folder = generate_filepaths.generate_file_folders(\n",
      "/nemo/lab/znamenskiyp/home/users/hey2/codes/cottage_analysis/cottage_analysis/depth_analysis/filepath/generate_filepaths.py:160: DeprecationWarning: flexilims_session will become mandatory\n",
      "  sess_children = get_session_children(\n",
      "/nemo/lab/znamenskiyp/home/users/hey2/codes/cottage_analysis/cottage_analysis/depth_analysis/filepath/generate_filepaths.py:165: DeprecationWarning: flexilims_session will become mandatory\n",
      "  recording_entries, recording_path = get_recording_entries(\n"
     ]
    },
    {
     "name": "stdout",
     "output_type": "stream",
     "text": [
      "S20220505\n",
      "---START STEP 1--- \n",
      " Getting data filepaths...\n"
     ]
    },
    {
     "name": "stderr",
     "output_type": "stream",
     "text": [
      "<ipython-input-6-80a7731c9d60>:27: DeprecationWarning: rawdata_root will be read from flexiznam config. Remove parameter\n",
      "  rawdata_folder, protocol_folder, analysis_folder, suite2p_folder, trace_folder = generate_filepaths.generate_file_folders(\n",
      "<ipython-input-6-80a7731c9d60>:27: DeprecationWarning: root will be read from flexiznam config. Remove parameter\n",
      "  rawdata_folder, protocol_folder, analysis_folder, suite2p_folder, trace_folder = generate_filepaths.generate_file_folders(\n",
      "/nemo/lab/znamenskiyp/home/users/hey2/codes/cottage_analysis/cottage_analysis/depth_analysis/filepath/generate_filepaths.py:160: DeprecationWarning: flexilims_session will become mandatory\n",
      "  sess_children = get_session_children(\n",
      "/nemo/lab/znamenskiyp/home/users/hey2/codes/cottage_analysis/cottage_analysis/depth_analysis/filepath/generate_filepaths.py:165: DeprecationWarning: flexilims_session will become mandatory\n",
      "  recording_entries, recording_path = get_recording_entries(\n"
     ]
    },
    {
     "name": "stdout",
     "output_type": "stream",
     "text": [
      "S20220503\n",
      "---START STEP 1--- \n",
      " Getting data filepaths...\n"
     ]
    },
    {
     "name": "stderr",
     "output_type": "stream",
     "text": [
      "<ipython-input-6-80a7731c9d60>:27: DeprecationWarning: rawdata_root will be read from flexiznam config. Remove parameter\n",
      "  rawdata_folder, protocol_folder, analysis_folder, suite2p_folder, trace_folder = generate_filepaths.generate_file_folders(\n",
      "<ipython-input-6-80a7731c9d60>:27: DeprecationWarning: root will be read from flexiznam config. Remove parameter\n",
      "  rawdata_folder, protocol_folder, analysis_folder, suite2p_folder, trace_folder = generate_filepaths.generate_file_folders(\n",
      "/nemo/lab/znamenskiyp/home/users/hey2/codes/cottage_analysis/cottage_analysis/depth_analysis/filepath/generate_filepaths.py:160: DeprecationWarning: flexilims_session will become mandatory\n",
      "  sess_children = get_session_children(\n",
      "/nemo/lab/znamenskiyp/home/users/hey2/codes/cottage_analysis/cottage_analysis/depth_analysis/filepath/generate_filepaths.py:165: DeprecationWarning: flexilims_session will become mandatory\n",
      "  recording_entries, recording_path = get_recording_entries(\n"
     ]
    },
    {
     "name": "stdout",
     "output_type": "stream",
     "text": [
      "S20220510\n",
      "---START STEP 1--- \n",
      " Getting data filepaths...\n"
     ]
    },
    {
     "name": "stderr",
     "output_type": "stream",
     "text": [
      "<ipython-input-6-80a7731c9d60>:27: DeprecationWarning: rawdata_root will be read from flexiznam config. Remove parameter\n",
      "  rawdata_folder, protocol_folder, analysis_folder, suite2p_folder, trace_folder = generate_filepaths.generate_file_folders(\n",
      "<ipython-input-6-80a7731c9d60>:27: DeprecationWarning: root will be read from flexiznam config. Remove parameter\n",
      "  rawdata_folder, protocol_folder, analysis_folder, suite2p_folder, trace_folder = generate_filepaths.generate_file_folders(\n",
      "/nemo/lab/znamenskiyp/home/users/hey2/codes/cottage_analysis/cottage_analysis/depth_analysis/filepath/generate_filepaths.py:160: DeprecationWarning: flexilims_session will become mandatory\n",
      "  sess_children = get_session_children(\n",
      "/nemo/lab/znamenskiyp/home/users/hey2/codes/cottage_analysis/cottage_analysis/depth_analysis/filepath/generate_filepaths.py:165: DeprecationWarning: flexilims_session will become mandatory\n",
      "  recording_entries, recording_path = get_recording_entries(\n"
     ]
    },
    {
     "name": "stdout",
     "output_type": "stream",
     "text": [
      "S20220512\n",
      "---START STEP 1--- \n",
      " Getting data filepaths...\n"
     ]
    },
    {
     "name": "stderr",
     "output_type": "stream",
     "text": [
      "<ipython-input-6-80a7731c9d60>:27: DeprecationWarning: rawdata_root will be read from flexiznam config. Remove parameter\n",
      "  rawdata_folder, protocol_folder, analysis_folder, suite2p_folder, trace_folder = generate_filepaths.generate_file_folders(\n",
      "<ipython-input-6-80a7731c9d60>:27: DeprecationWarning: root will be read from flexiznam config. Remove parameter\n",
      "  rawdata_folder, protocol_folder, analysis_folder, suite2p_folder, trace_folder = generate_filepaths.generate_file_folders(\n",
      "/nemo/lab/znamenskiyp/home/users/hey2/codes/cottage_analysis/cottage_analysis/depth_analysis/filepath/generate_filepaths.py:160: DeprecationWarning: flexilims_session will become mandatory\n",
      "  sess_children = get_session_children(\n",
      "/nemo/lab/znamenskiyp/home/users/hey2/codes/cottage_analysis/cottage_analysis/depth_analysis/filepath/generate_filepaths.py:165: DeprecationWarning: flexilims_session will become mandatory\n",
      "  recording_entries, recording_path = get_recording_entries(\n"
     ]
    },
    {
     "name": "stdout",
     "output_type": "stream",
     "text": [
      "S20220511\n"
     ]
    }
   ],
   "source": [
    "save_root = '/camp/lab/znamenskiyp/home/shared/presentations/Cosyne2023/ver'+str(VERSION)+'/preferred_depth_distribution/'\n",
    "if not os.path.exists(save_root):\n",
    "    os.makedirs(save_root)\n",
    "\n",
    "rawdata_root = '/camp/lab/znamenskiyp/data/instruments/raw_data/projects/'\n",
    "root = '/camp/lab/znamenskiyp/home/shared/projects/'\n",
    "project = 'hey2_3d-vision_foodres_20220101'\n",
    "protocol = 'SpheresPermTubeReward'\n",
    "V1_sessions = [['S20220512','S20220511','S20220429','S20220419','S20220426','S20220506','S20220503','S20220505','S20220516'],['S20220504','S20220426','S20220421','S20220419','S20220505','S20220503','S20220510','S20220512','S20220511']]\n",
    "summary_dir = root+'/'+project+'/Analysis/summary/'\n",
    "# V1 150: ['S20220512','S20220511','S20220429']['S20220504','S20220426','S20220421']\n",
    "# V1 200: ['S20220419','S20220426','S20220506']['S20220419','S20220505','S20220503']\n",
    "# V1 250: ['S20220503','S20220505','S20220516']['S20220510','S20220512','S20220511']\n",
    "\n",
    "mouses = ['PZAH6.4b','PZAG3.4f']\n",
    "depth_list = [0.06, 0.19, 0.6, 1.9, 6]\n",
    "depth_thr_min = 0.019\n",
    "depth_thr_max = 19\n",
    "\n",
    "all_results = pd.DataFrame(columns=['ROI','preferred_depth_idx','log_amplitude','xo_logged','yo_logged','log_sigma_x2','log_sigma_y2','theta','offset','r_sq','preferred_depth_max','preferred_depth_gaussian'])\n",
    "for k in range(len(V1_sessions)):\n",
    "    mouse = mouses[k]\n",
    "    for session in V1_sessions[k]:\n",
    "            \n",
    "            # ----- STEP1: Generate file path -----\n",
    "            print('---START STEP 1---', '\\n', 'Getting data filepaths...', flush=True)\n",
    "            rawdata_folder, protocol_folder, analysis_folder, suite2p_folder, trace_folder = generate_filepaths.generate_file_folders(\n",
    "                project=project,\n",
    "                mouse=mouse,\n",
    "                session=session,\n",
    "                protocol=protocol,\n",
    "                rawdata_root=rawdata_root,\n",
    "                root=root)\n",
    "#             print(rawdata_folder, protocol_folder, analysis_folder, suite2p_folder, trace_folder, flush=True)\n",
    "\n",
    "            filename = analysis_folder/('plane0/gaussian_blob_fit_new_'+str(0.1)+'.pickle')\n",
    "            filename2 = analysis_folder/('plane0/gaussian_depth_tuning_fit_new_'+str(0.5)+'.pickle')\n",
    "            with open(filename, 'rb') as handle:\n",
    "                results_blob = pickle.load(handle)\n",
    "            with open(filename2, 'rb') as handle:\n",
    "                results_depth = pickle.load(handle)\n",
    "\n",
    "            # Load suite2p files\n",
    "            ops = np.load(suite2p_folder/'ops.npy', allow_pickle=True)\n",
    "            ops = ops.item()\n",
    "            iscell = np.load(suite2p_folder/'iscell.npy', allow_pickle=True)[:, 0]\n",
    "            F = np.load(trace_folder/'F.npy', allow_pickle=True)\n",
    "            Fast = np.load(trace_folder/'Fast.npy', allow_pickle=True)\n",
    "\n",
    "            # All_rois\n",
    "            which_rois = (np.arange(F.shape[0]))[iscell.astype('bool')]\n",
    "\n",
    "            # Load depth neurons\n",
    "            depth_neurons = np.load(analysis_folder/('plane0/depth_neurons.npy'))\n",
    "            max_depths = np.load(analysis_folder/('plane0/max_depths_index.npy'))\n",
    "            \n",
    "            \n",
    "            # Append info to all_results\n",
    "            results_blob['preferred_depth_gaussian']=np.exp(results_depth['x0_logged'].astype('float64'))\n",
    "            results_blob['preferred_depth_max'] = [depth_list[int(max_depth)]*100 for max_depth in results_blob['preferred_depth_idx']]\n",
    "            all_results = pd.concat([all_results,results_blob], ignore_index=True)\n",
    "            print(session)\n",
    "            \n",
    "with open(save_root+'gaussian_fit_summary.pickle', 'wb') as handle:\n",
    "    pickle.dump(all_results, handle, protocol=pickle.HIGHEST_PROTOCOL)"
   ]
  },
  {
   "cell_type": "code",
   "execution_count": 16,
   "metadata": {},
   "outputs": [
    {
     "name": "stderr",
     "output_type": "stream",
     "text": [
      "/camp/home/hey2/.conda/envs/2p_analysis_cottage/lib/python3.9/site-packages/ipykernel/ipkernel.py:287: DeprecationWarning: `should_run_async` will not call `transform_cell` automatically in the future. Please pass the result to `transformed_cell` argument and any exception that happen during thetransform in `preprocessing_exc_tuple` in IPython 7.17 and above.\n",
      "  and should_run_async(code)\n"
     ]
    },
    {
     "data": {
      "image/png": "[encoded data removed]",
      "text/plain": [
       "<Figure size 360x360 with 1 Axes>"
      ]
     },
     "metadata": {
      "needs_background": "light"
     },
     "output_type": "display_data"
    }
   ],
   "source": [
    "save_root = '/camp/lab/znamenskiyp/home/shared/presentations/Cosyne2023/ver'+str(VERSION)+'/preferred_depth_distribution/'\n",
    "with open(save_root+'gaussian_fit_summary.pickle', 'rb') as handle:\n",
    "    all_results = pickle.load(handle)\n",
    "\n",
    "fontsize_dict = {\n",
    "    'xlabel':20,\n",
    "    'ylabel':20,\n",
    "    'xticks':20,\n",
    "    'yticks':20,\n",
    "    'title':20,\n",
    "    'legend':10\n",
    "    }\n",
    "\n",
    "plt.figure(figsize=(5,5))\n",
    "depth_min = 1.9\n",
    "depth_max = 1900\n",
    "bin_num = 50\n",
    "depth_bins = np.logspace(np.log(depth_min),np.log(depth_max),num=bin_num,base=np.e)\n",
    "n, _, _ = plt.hist(all_results['preferred_depth_gaussian'], bins=depth_bins, weights=np.ones(len(all_results)) / len(all_results), color='dimgrey')\n",
    "# plt.vlines(x=np.array(depth_list)*100,ymin=0,ymax=3/100,colors='r',linestyles='dashed')\n",
    "plt.xscale('log')\n",
    "plt.ylabel('Proportion of neurons', fontsize = fontsize_dict['ylabel'])\n",
    "plt.xlabel('Preferred depth (cm)', fontsize = fontsize_dict['xlabel'])\n",
    "plt.xticks(fontsize=fontsize_dict['xticks'])\n",
    "plt.yticks(fontsize=fontsize_dict['yticks'])\n",
    "despine()\n",
    "\n",
    "plt.savefig(save_root+'hist_preferred_depth.pdf')"
   ]
  },
  {
   "cell_type": "code",
   "execution_count": null,
   "metadata": {},
   "outputs": [],
   "source": []
  }
 ],
 "metadata": {
  "kernelspec": {
   "display_name": "2p_analysis_cottage",
   "language": "python",
   "name": "python3"
  },
  "language_info": {
   "codemirror_mode": {
    "name": "ipython",
    "version": 3
   },
   "file_extension": ".py",
   "mimetype": "text/x-python",
   "name": "python",
   "nbconvert_exporter": "python",
   "pygments_lexer": "ipython3",
   "version": "3.9.5"
  },
  "orig_nbformat": 4,
  "vscode": {
   "interpreter": {
    "hash": "939011bda4ac240316e77cd9a4c8c2e7aac31e833bb6d639fcef3c3405a9852b"
   }
  }
 },
 "nbformat": 4,
 "nbformat_minor": 2
}
