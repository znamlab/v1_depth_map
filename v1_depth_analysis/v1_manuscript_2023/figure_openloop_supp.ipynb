{
 "cells": [
  {
   "cell_type": "code",
   "execution_count": null,
   "metadata": {},
   "outputs": [],
   "source": [
    "%reload_ext autoreload\n",
    "%autoreload 2\n",
    "import numpy as np\n",
    "import pandas as pd\n",
    "import matplotlib\n",
    "matplotlib.rcParams['pdf.fonttype'] = 42 # for pdfs\n",
    "import matplotlib.pyplot as plt\n",
    "from pathlib import Path\n",
    "\n",
    "import flexiznam as flz\n",
    "from cottage_analysis.analysis import spheres\n",
    "from cottage_analysis.pipelines import pipeline_utils\n",
    "from v1_depth_analysis.v1_manuscript_2023 import depth_selectivity, closed_loop_rsof, get_session_list\n",
    "from v1_depth_analysis.v1_manuscript_2023 import common_utils as v1_common_utils"
   ]
  },
  {
   "cell_type": "code",
   "execution_count": null,
   "metadata": {},
   "outputs": [],
   "source": [
    "VERSION = 3\n",
    "SAVE_ROOT = (\n",
    "    Path(\n",
    "        f\"/camp/lab/znamenskiyp/home/shared/presentations/v1_manuscript_2023/ver{VERSION}\"\n",
    "    )\n",
    "    / \"fig4\"\n",
    ")\n",
    "SAVE_ROOT.mkdir(parents=True, exist_ok=True)"
   ]
  },
  {
   "cell_type": "code",
   "execution_count": null,
   "metadata": {},
   "outputs": [],
   "source": [
    "# Concatenate all sessions\n",
    "project = \"hey2_3d-vision_foodres_20220101\"\n",
    "flexilims_session = flz.get_flexilims_session(project)\n",
    "results_all = v1_common_utils.concatenate_all_neurons_df(\n",
    "    flexilims_session=flexilims_session,\n",
    "    session_list=get_session_list.get_sessions(\n",
    "        flexilims_session,\n",
    "        closedloop_only=False,\n",
    "        openloop_only=True,\n",
    "    ),\n",
    "    filename=\"neurons_df_openclosed.pickle\",\n",
    "    cols=[\n",
    "        \"roi\",\n",
    "        \"best_depth\",\n",
    "        \"preferred_depth_closedloop\",\n",
    "        \"preferred_depth_closedloop_crossval\",\n",
    "        \"depth_tuning_test_rsq_closedloop\",\n",
    "        \"depth_tuning_test_spearmanr_pval_closedloop\",\n",
    "        \"depth_tuning_test_spearmanr_rval_closedloop\",\n",
    "        \"preferred_RS_closedloop_g2d_openclosed0\",\n",
    "        \"preferred_OF_closedloop_g2d_openclosed0\",\n",
    "        \"rsof_rsq_closedloop_g2d_openclosed0\",\n",
    "        \"preferred_RS_openloop_actual_g2d_openclosed0\",\n",
    "        \"preferred_OF_openloop_actual_g2d_openclosed0\",\n",
    "        \"rsof_rsq_openloop_actual_g2d_openclosed0\",\n",
    "        \"rsof_popt_closedloop_g2d_openclosed0\",\n",
    "        \"rsof_popt_openloop_actual_g2d_openclosed0\",\n",
    "    ],\n",
    "    read_iscell=True,\n",
    "    verbose=True,\n",
    ")\n",
    "# results_all[\"preferred_RS_closedloop_g2d\"] = (\n",
    "#     results_all[\"preferred_RS_closedloop_g2d\"] * 100\n",
    "# )\n",
    "# results_all[\"preferred_depth_closedloop\"] = (\n",
    "#     results_all[\"preferred_depth_closedloop\"] * 100\n",
    "# )\n",
    "# results_all[\"preferred_OF_closedloop_g2d\"] = np.degrees(\n",
    "#     results_all[\"preferred_OF_closedloop_g2d\"]\n",
    "# )\n",
    "# results_all[\"preferred_RS_openloop_actual_g2d\"] = (\n",
    "#     results_all[\"preferred_RS_openloop_actual_g2d\"] * 100\n",
    "# )\n",
    "# results_all[\"preferred_OF_openloop_actual_g2d\"] = np.degrees(\n",
    "#     results_all[\"preferred_OF_openloop_actual_g2d\"]\n",
    "# )"
   ]
  },
  {
   "cell_type": "code",
   "execution_count": null,
   "metadata": {},
   "outputs": [],
   "source": [
    "closedloop_popt = np.stack(results_all.rsof_popt_closedloop_g2d_openclosed0)\n",
    "closedloop_amp = np.exp(closedloop_popt[:, 0])\n",
    "openloop_popt = np.stack(results_all.rsof_popt_openloop_actual_g2d_openclosed0)\n",
    "openloop_amp = np.exp(openloop_popt[:, 0])"
   ]
  },
  {
   "cell_type": "code",
   "execution_count": null,
   "metadata": {},
   "outputs": [],
   "source": [
    "select_neurons = (results_all.iscell==1) & (results_all.depth_tuning_test_spearmanr_pval_closedloop<0.05) & (results_all.depth_tuning_test_spearmanr_rval_closedloop>0)\n",
    "plt.subplot(121)\n",
    "plt.scatter(closedloop_amp[select_neurons], openloop_amp[select_neurons], s=1, alpha=0.5, c='k')\n",
    "plt.plot(np.arange(100), np.arange(100), 'r--')\n",
    "plt.xscale('log')\n",
    "plt.yscale('log')\n",
    "plt.gca().set_aspect('equal', adjustable='box')\n",
    "plt.xlabel('Closed-loop amplitude')\n",
    "plt.ylabel('Open-loop amplitude')\n",
    "\n",
    "plt.subplot(122)\n",
    "select_neurons = (results_all.iscell==1) & (results_all.depth_tuning_test_spearmanr_pval_closedloop<0.05) & (results_all.depth_tuning_test_spearmanr_rval_closedloop>0.2)\n",
    "plt.scatter(closedloop_amp[select_neurons], openloop_amp[select_neurons], s=1, alpha=0.5, c='k')\n",
    "plt.plot(np.arange(100), np.arange(100), 'r--')\n",
    "plt.xscale('log')\n",
    "plt.yscale('log')\n",
    "plt.gca().set_aspect('equal', adjustable='box')\n",
    "plt.xlabel('Closed-loop amplitude')\n",
    "plt.ylabel('Open-loop amplitude')\n",
    "plt.tight_layout()"
   ]
  },
  {
   "cell_type": "code",
   "execution_count": null,
   "metadata": {},
   "outputs": [],
   "source": [
    "select_range = ((select_neurons)\n",
    "                & (closedloop_amp>0.1) & (closedloop_amp<50)\n",
    "                & (openloop_amp>0.1) & (openloop_amp<50))\n",
    "plt.hist(closedloop_amp[select_range]-openloop_amp[select_range], bins=100, color='k', alpha=0.5)\n",
    "print(np.median(closedloop_amp[select_range]-openloop_amp[select_range]))\n"
   ]
  },
  {
   "cell_type": "code",
   "execution_count": null,
   "metadata": {},
   "outputs": [],
   "source": []
  }
 ],
 "metadata": {
  "kernelspec": {
   "display_name": "2p_analysis_cottage",
   "language": "python",
   "name": "python3"
  },
  "language_info": {
   "codemirror_mode": {
    "name": "ipython",
    "version": 3
   },
   "file_extension": ".py",
   "mimetype": "text/x-python",
   "name": "python",
   "nbconvert_exporter": "python",
   "pygments_lexer": "ipython3",
   "version": "3.9.5"
  }
 },
 "nbformat": 4,
 "nbformat_minor": 2
}
