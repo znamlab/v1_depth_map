{
 "cells": [
  {
   "cell_type": "code",
   "execution_count": null,
   "metadata": {},
   "outputs": [],
   "source": [
    "%reload_ext autoreload\n",
    "%autoreload 2\n",
    "import numpy as np\n",
    "import matplotlib\n",
    "matplotlib.rcParams['pdf.fonttype'] = 42 # for pdfs\n",
    "import matplotlib.pyplot as plt\n",
    "from pathlib import Path\n",
    "import flexiznam as flz\n",
    "from v1_depth_analysis.v1_manuscript_2023 import get_session_list, depth_decoder"
   ]
  },
  {
   "cell_type": "code",
   "execution_count": null,
   "metadata": {},
   "outputs": [],
   "source": [
    "VERSION = 5\n",
    "SAVE_ROOT = Path(\n",
    "    f\"/camp/lab/znamenskiyp/home/shared/presentations/v1_manuscript_2023/ver{VERSION}\"\n",
    ")\n",
    "SAVE_ROOT.mkdir(parents=True, exist_ok=True)"
   ]
  },
  {
   "cell_type": "code",
   "execution_count": null,
   "metadata": {},
   "outputs": [],
   "source": [
    "# Load data\n",
    "project = \"hey2_3d-vision_foodres_20220101\"\n",
    "flexilims_session = flz.get_flexilims_session(project)\n",
    "decoder_results = depth_decoder.concatenate_all_decoder_results(\n",
    "    flexilims_session,\n",
    "    session_list=get_session_list.get_sessions(\n",
    "        flexilims_session,\n",
    "        closedloop_only=False,\n",
    "        openloop_only=True,\n",
    "    ),\n",
    "    filename=\"decoder_results.pickle\",\n",
    ")"
   ]
  },
  {
   "cell_type": "code",
   "execution_count": null,
   "metadata": {},
   "outputs": [],
   "source": [
    "results_8_matched = depth_decoder.concatenate_all_decoder_results(\n",
    "    flexilims_session,\n",
    "    session_list=get_session_list.get_all_sessions(\n",
    "        project=project,\n",
    "        mouse_list=[\"PZAH10.2d\", \"PZAH10.2f\"],\n",
    "        closedloop_only=False,\n",
    "        openloop_only=True,\n",
    "    ),\n",
    "    filename=\"decoder_results.pickle\",\n",
    ")"
   ]
  },
  {
   "cell_type": "code",
   "execution_count": null,
   "metadata": {},
   "outputs": [],
   "source": [
    "fontsize_dict = {\"title\": 5, \"label\": 7, \"tick\": 5, \"legend\": 5}\n",
    "\n",
    "\n",
    "fig = plt.figure(figsize=(16 / 2.54, 10 / 2.54))\n",
    "\n",
    "# Plot conmat\n",
    "for i, ndepths in enumerate(decoder_results[\"ndepths\"].unique()):\n",
    "    conmat_mean = depth_decoder.calculate_average_confusion_matrix(\n",
    "        decoder_results[decoder_results[\"ndepths\"] == ndepths]\n",
    "    )\n",
    "\n",
    "    depth_decoder.plot_closed_open_conmat(\n",
    "        conmat_mean,\n",
    "        normalize=True,\n",
    "        fig=fig,\n",
    "        plot_x=0.05,\n",
    "        plot_y=0.55 - i * 0.45,\n",
    "        plot_width=0.38,\n",
    "        plot_height=0.5,\n",
    "        fontsize_dict=fontsize_dict,\n",
    "    )\n",
    "\n",
    "# Plot accuracy\n",
    "fig.add_axes([0.52, 0.2, 0.15, 0.65])\n",
    "# Plot accuracy\n",
    "depth_decoder.decoder_accuracy(\n",
    "    decoder_results,\n",
    "    markersize=3,\n",
    "    colors=[\"b\", \"g\"],\n",
    "    linewidth=0.5,\n",
    "    xlabel=[\"Closed loop\", \"Open loop\"],\n",
    "    ylabel=\"Decoding accuracy\",\n",
    "    fontsize_dict=fontsize_dict,\n",
    ")\n",
    "depth_decoder.calculate_error_all_sessions(decoder_results)\n",
    "\n",
    "fig.add_axes([0.75, 0.2, 0.15, 0.65])\n",
    "# Plot accuracy\n",
    "depth_decoder.decoder_accuracy(\n",
    "    decoder_results,\n",
    "    markersize=3,\n",
    "    colors=[\"b\", \"g\"],\n",
    "    linewidth=0.5,\n",
    "    xlabel=[\"Closed loop\", \"Open loop\"],\n",
    "    ylabel=\"Decoding error\\n$|log_2$(predicted depth / true depth)$|$\",\n",
    "    fontsize_dict=fontsize_dict,\n",
    "    mode=\"error\",\n",
    ")\n",
    "plt.yticks([1, 2, 3], [2, 4, 8])\n",
    "\n",
    "plt.savefig(SAVE_ROOT / \"decoder.pdf\", dpi=300)\n",
    "plt.savefig(SAVE_ROOT / \"decoder.png\", dpi=300)\n",
    "\n",
    "# ADD ERROR"
   ]
  },
  {
   "cell_type": "code",
   "execution_count": null,
   "metadata": {},
   "outputs": [],
   "source": [
    "# try to classify the average dff when\n",
    "# decode from OF only"
   ]
  },
  {
   "cell_type": "markdown",
   "metadata": {},
   "source": [
    "### SUPP"
   ]
  },
  {
   "cell_type": "code",
   "execution_count": null,
   "metadata": {},
   "outputs": [],
   "source": [
    "fig = plt.figure()\n",
    "depth_decoder.dot_plot(\n",
    "    group1=results_8_matched[\"accuracy_closedloop\"],\n",
    "    group2=results_8_matched[\"accuracy_openloop\"],\n",
    "    labels=[\"8 depths matched\"],\n",
    "    baselines=[1 / 8],\n",
    "    fig=fig,\n",
    "    group3=None,\n",
    "    group4=None,\n",
    "    markersize=8,\n",
    "    colors=[\"g\"],\n",
    "    linewidth=3,\n",
    "    plot_x=0,\n",
    "    plot_y=1,\n",
    "    plot_width=0.3,\n",
    "    plot_height=1,\n",
    "    fontsize_dict={\"title\": 15, \"label\": 10, \"tick\": 10, \"legend\": 5},\n",
    ")"
   ]
  }
 ],
 "metadata": {
  "kernelspec": {
   "display_name": "2p_analysis_cottage",
   "language": "python",
   "name": "python3"
  },
  "language_info": {
   "codemirror_mode": {
    "name": "ipython",
    "version": 3
   },
   "file_extension": ".py",
   "mimetype": "text/x-python",
   "name": "python",
   "nbconvert_exporter": "python",
   "pygments_lexer": "ipython3",
   "version": "3.11.3"
  }
 },
 "nbformat": 4,
 "nbformat_minor": 2
}
