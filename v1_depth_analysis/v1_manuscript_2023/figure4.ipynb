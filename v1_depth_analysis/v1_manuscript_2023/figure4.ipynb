{
 "cells": [
  {
   "cell_type": "code",
   "execution_count": null,
   "metadata": {},
   "outputs": [],
   "source": [
    "%reload_ext autoreload\n",
    "%autoreload 2\n",
    "\n",
    "\n",
    "import functools\n",
    "print = functools.partial(print, flush=True)\n",
    "\n",
    "import os\n",
    "import numpy as np\n",
    "import pandas as pd\n",
    "import matplotlib\n",
    "matplotlib.rcParams['pdf.fonttype'] = 42 # for pdfs\n",
    "import matplotlib.pyplot as plt\n",
    "from matplotlib import cm\n",
    "from pathlib import Path\n",
    "import pickle\n",
    "from tqdm import tqdm\n",
    "import scipy\n",
    "\n",
    "import flexiznam as flz\n",
    "from cottage_analysis.preprocessing import synchronisation\n",
    "from cottage_analysis.analysis import spheres, find_depth_neurons, common_utils, fit_gaussian_blob, size_control\n",
    "from cottage_analysis.plotting import basic_vis_plots, plotting_utils\n",
    "from cottage_analysis.pipelines import pipeline_utils\n",
    "from v1_depth_analysis.v1_manuscript_2023 import depth_selectivity, close_loop_rsof, get_session_list, open_loop_rsof\n",
    "from v1_depth_analysis.v1_manuscript_2023 import common_utils as v1_common_utils"
   ]
  },
  {
   "cell_type": "code",
   "execution_count": null,
   "metadata": {},
   "outputs": [],
   "source": [
    "VERSION = 1\n",
    "SAVE_ROOT = '/camp/lab/znamenskiyp/home/shared/presentations/v1_manuscript_2023/ver'+str(VERSION)+'/fig3/'\n",
    "os.makedirs(SAVE_ROOT, exist_ok=True)"
   ]
  },
  {
   "cell_type": "code",
   "execution_count": null,
   "metadata": {},
   "outputs": [],
   "source": [
    "# Concatenate all sessions\n",
    "project='hey2_3d-vision_foodres_20220101'\n",
    "flexilims_session = flz.get_flexilims_session(project)\n",
    "results_all = v1_common_utils.concatenate_all_neurons_df(flexilims_session=flexilims_session,\n",
    "                                                         session_list=get_session_list.get_all_sessions(project=project,mouse_list=[\n",
    "                                                                                                                                    \"PZAH6.4b\",\n",
    "                                                                                                                                    \"PZAG3.4f\",\n",
    "                                                                                                                                    # \"PZAH8.2h\", \n",
    "                                                                                                                                    # \"PZAH8.2i\", \n",
    "                                                                                                                                    # \"PZAH8.2f\", \n",
    "                                                                                                                                    # \"PZAH10.2d\", \n",
    "                                                                                                                                    # \"PZAH10.2f\"\n",
    "                                                                                                                                    ], \n",
    "                                                                                                        closedloop_only=False, \n",
    "                                                                                                        openloop_only=True),\n",
    "                                                        #  [\"PZAH6.4b_S20220419\"],\n",
    "                                                         filename=\"neurons_df.pickle\",\n",
    "                                                         cols=['roi','best_depth','preferred_depth_closedloop','preferred_depth_closedloop_crossval',\n",
    "                                                               'depth_tuning_test_rsq_closedloop','depth_tuning_test_spearmanr_pval_closedloop',\n",
    "                                                               'preferred_RS_closedloop_g2d','preferred_RS_closedloop_crossval_g2d',\n",
    "                                                               'preferred_OF_closedloop_g2d','preferred_OF_closedloop_crossval_g2d',\n",
    "                                                               'rsof_rsq_closedloop_crossval_g2d','rsof_rsq_closedloop_g2d',\n",
    "                                                               'preferred_RS_openloop_actual_g2d','preferred_OF_openloop_actual_g2d',\n",
    "                                                               'rsof_rsq_openloop_actual_g2d',],\n",
    "                                                         \n",
    "                                                         read_iscell=True,\n",
    "                                                         verbose=True)\n",
    "results_all[\"preferred_RS_closedloop_g2d\"] = results_all[\"preferred_RS_closedloop_g2d\"]*100\n",
    "results_all[\"preferred_depth_closedloop\"] = results_all[\"preferred_depth_closedloop\"]*100\n",
    "results_all[\"preferred_OF_closedloop_g2d\"] = np.degrees(results_all[\"preferred_OF_closedloop_g2d\"])\n",
    "results_all[\"preferred_RS_openloop_actual_g2d\"] = results_all[\"preferred_RS_openloop_actual_g2d\"]*100\n",
    "results_all[\"preferred_OF_openloop_actual_g2d\"] = np.degrees(results_all[\"preferred_OF_openloop_actual_g2d\"])\n"
   ]
  },
  {
   "cell_type": "code",
   "execution_count": null,
   "metadata": {},
   "outputs": [],
   "source": [
    "fig=plt.figure()\n",
    "open_loop_rsof.plot_speeds_scatter(\n",
    "    fig=fig,\n",
    "    neurons_df=results_all,\n",
    "    xcol=\"preferred_RS_closedloop_g2d\",\n",
    "    ycol=\"preferred_RS_openloop_actual_g2d\",\n",
    "    xlabel=\"Running speed\\nclosedloop(cm/s)\",\n",
    "    ylabel=\"Running speed\\nopenloop (cm/s)\",\n",
    "    s=10,\n",
    "    alpha=0.2,\n",
    "    c='g',\n",
    "    plot_x=0,\n",
    "    plot_y=0.3,\n",
    "    plot_width=0.15,\n",
    "    plot_height=0.2,\n",
    "    cbar_width=0.01,\n",
    "    fontsize_dict={\"title\": 15, \"label\": 10, \"tick\": 10},)\n",
    "\n",
    "open_loop_rsof.plot_speeds_scatter(\n",
    "    fig=fig,\n",
    "    neurons_df=results_all,\n",
    "    xcol=\"preferred_OF_closedloop_g2d\",\n",
    "    ycol=\"preferred_OF_openloop_actual_g2d\",\n",
    "    xlabel=\"Optic flow speed\\nclosedloop(cm/s)\",\n",
    "    ylabel=\"Optic flow speed\\nopenloop (cm/s)\",\n",
    "    s=10,\n",
    "    alpha=0.2,\n",
    "    c='b',\n",
    "    plot_x=0.4,\n",
    "    plot_y=0.3,\n",
    "    plot_width=0.15,\n",
    "    plot_height=0.2,\n",
    "    cbar_width=0.01,\n",
    "    fontsize_dict={\"title\": 15, \"label\": 10, \"tick\": 10},)\n",
    "\n",
    "# decoder plots\n",
    "\n",
    "# example open loop matrix, corner of RS 0 and OF 0"
   ]
  },
  {
   "cell_type": "code",
   "execution_count": null,
   "metadata": {},
   "outputs": [],
   "source": [
    "\n",
    "neurons_ds_example = pipeline_utils.create_neurons_ds(\n",
    "    session_name=\"PZAG3.4f_S20220526\", flexilims_session=flexilims_session, project=None, conflicts=\"skip\"\n",
    ")\n",
    "neurons_df_example = pd.read_pickle(neurons_ds_example.path_full)"
   ]
  },
  {
   "cell_type": "code",
   "execution_count": null,
   "metadata": {},
   "outputs": [],
   "source": [
    "neurons_df_example.columns"
   ]
  },
  {
   "cell_type": "code",
   "execution_count": null,
   "metadata": {},
   "outputs": [],
   "source": []
  }
 ],
 "metadata": {
  "kernelspec": {
   "display_name": "2p_analysis_cottage",
   "language": "python",
   "name": "python3"
  },
  "language_info": {
   "codemirror_mode": {
    "name": "ipython",
    "version": 3
   },
   "file_extension": ".py",
   "mimetype": "text/x-python",
   "name": "python",
   "nbconvert_exporter": "python",
   "pygments_lexer": "ipython3",
   "version": "3.9.5"
  }
 },
 "nbformat": 4,
 "nbformat_minor": 2
}
