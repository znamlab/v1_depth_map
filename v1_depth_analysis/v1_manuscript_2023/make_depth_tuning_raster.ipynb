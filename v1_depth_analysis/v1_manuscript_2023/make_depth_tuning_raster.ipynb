{
 "cells": [
  {
   "cell_type": "code",
   "execution_count": null,
   "metadata": {},
   "outputs": [],
   "source": [
    "import functools\n",
    "\n",
    "import os\n",
    "import numpy as np\n",
    "import pandas as pd\n",
    "import matplotlib\n",
    "\n",
    "matplotlib.rcParams[\"pdf.fonttype\"] = 42  # for pdfs\n",
    "import matplotlib.pyplot as plt\n",
    "\n",
    "import flexiznam as flz\n",
    "from cottage_analysis.analysis import spheres\n",
    "from cottage_analysis.pipelines import pipeline_utils\n",
    "from v1_depth_analysis.v1_manuscript_2023 import depth_selectivity, get_session_list\n",
    "from v1_depth_analysis.v1_manuscript_2023 import common_utils as plt_common_utils"
   ]
  },
  {
   "cell_type": "code",
   "execution_count": null,
   "metadata": {},
   "outputs": [],
   "source": [
    "# Get PSTH for all sessions #THIS WILL TAKE REALLY LONG\n",
    "project = \"hey2_3d-vision_foodres_20220101\"\n",
    "flexilims_session = flz.get_flexilims_session(project)\n",
    "mouse_list = [\n",
    "    \"PZAH6.4b\",\n",
    "    \"PZAG3.4f\",\n",
    "    \"PZAH8.2h\",\n",
    "    \"PZAH8.2i\",\n",
    "    \"PZAH8.2f\",\n",
    "    \"PZAH10.2d\",\n",
    "    \"PZAH10.2f\",\n",
    "]\n",
    "session_list = get_session_list.get_all_sessions(\n",
    "    project=project, mouse_list=mouse_list, closedloop_only=False, openloop_only=False\n",
    ")\n",
    "\n",
    "results_all = depth_selectivity.get_psth_crossval_all_sessions(\n",
    "    flexilims_session,\n",
    "    session_list,\n",
    "    nbins=10,\n",
    "    closed_loop=1,\n",
    "    use_cols=[\n",
    "        \"roi\",\n",
    "        \"is_depth_neuron\",\n",
    "        \"depth_neuron_anova_p\",\n",
    "        \"best_depth\",\n",
    "        \"preferred_depth_closedloop\",\n",
    "        \"depth_tuning_popt_closedloop\",\n",
    "        \"depth_tuning_trials_closedloop\",\n",
    "        \"depth_tuning_trials_closedloop_crossval\",\n",
    "        \"preferred_depth_closedloop_crossval\",\n",
    "        \"depth_tuning_test_rsq_closedloop\",\n",
    "        \"depth_tuning_test_spearmanr_rval_closedloop\",\n",
    "        \"depth_tuning_test_spearmanr_pval_closedloop\",\n",
    "    ],\n",
    ")\n",
    "SAVE_ROOT = (\n",
    "    Path(\n",
    "        f\"/camp/lab/znamenskiyp/home/shared/presentations/v1_manuscript_2023/ver{VERSION}\"\n",
    "    )\n",
    "    / \"fig1\"\n",
    ")\n",
    "SAVE_ROOT.mkdir(parents=True, exist_ok=True)\n",
    "results_all.to_pickle(SAVE_ROOT / \"results_all.pickle\")"
   ]
  }
 ],
 "metadata": {
  "kernelspec": {
   "display_name": "cottage-analysis",
   "language": "python",
   "name": "python3"
  },
  "language_info": {
   "name": "python",
   "version": "3.11.3"
  }
 },
 "nbformat": 4,
 "nbformat_minor": 2
}
