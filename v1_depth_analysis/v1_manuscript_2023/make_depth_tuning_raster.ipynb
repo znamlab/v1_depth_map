{
 "cells": [
  {
   "cell_type": "code",
   "execution_count": null,
   "metadata": {},
   "outputs": [],
   "source": [
    "import flexiznam as flz\n",
    "from v1_depth_analysis.v1_manuscript_2023 import depth_selectivity, get_session_list\n",
    "from pathlib import Path\n"
   ]
  },
  {
   "cell_type": "code",
   "execution_count": null,
   "metadata": {},
   "outputs": [],
   "source": [
    "# Get PSTH for all sessions #THIS WILL TAKE REALLY LONG\n",
    "project = \"hey2_3d-vision_foodres_20220101\"\n",
    "flexilims_session = flz.get_flexilims_session(project)\n",
    "mouse_list = [\n",
    "    \"PZAH6.4b\",\n",
    "    \"PZAG3.4f\",\n",
    "    \"PZAH8.2h\",\n",
    "    \"PZAH8.2i\",\n",
    "    \"PZAH8.2f\",\n",
    "    \"PZAH10.2d\",\n",
    "    \"PZAH10.2f\",\n",
    "]\n",
    "session_list = get_session_list.get_all_sessions(\n",
    "    project=project, mouse_list=mouse_list, closedloop_only=False, openloop_only=False\n",
    ")\n",
    "\n",
    "results_all = depth_selectivity.get_psth_crossval_all_sessions(\n",
    "    flexilims_session,\n",
    "    session_list,\n",
    "    nbins=60,\n",
    "    closed_loop=1,\n",
    "    use_cols=[\n",
    "        \"roi\",\n",
    "        \"is_depth_neuron\",\n",
    "        \"depth_neuron_anova_p\",\n",
    "        \"best_depth\",\n",
    "        \"preferred_depth_closedloop\",\n",
    "        \"depth_tuning_popt_closedloop\",\n",
    "        \"depth_tuning_trials_closedloop\",\n",
    "        \"depth_tuning_trials_closedloop_crossval\",\n",
    "        \"preferred_depth_closedloop_crossval\",\n",
    "        \"depth_tuning_test_rsq_closedloop\",\n",
    "        \"depth_tuning_test_spearmanr_rval_closedloop\",\n",
    "        \"depth_tuning_test_spearmanr_pval_closedloop\",\n",
    "    ],\n",
    ")\n",
    "VERSION = 3\n",
    "SAVE_ROOT = (\n",
    "    Path(\n",
    "        f\"/camp/lab/znamenskiyp/home/shared/presentations/v1_manuscript_2023/ver{VERSION}\"\n",
    "    )\n",
    "    / \"fig1\"\n",
    ")\n",
    "SAVE_ROOT.mkdir(parents=True, exist_ok=True)\n",
    "results_all.to_pickle(SAVE_ROOT / \"results_all.pickle\")\n"
   ]
  }
 ],
 "metadata": {
  "kernelspec": {
   "display_name": "cottage-analysis",
   "language": "python",
   "name": "python3"
  },
  "language_info": {
   "codemirror_mode": {
    "name": "ipython",
    "version": 3
   },
   "file_extension": ".py",
   "mimetype": "text/x-python",
   "name": "python",
   "nbconvert_exporter": "python",
   "pygments_lexer": "ipython3",
   "version": "3.11.0"
  }
 },
 "nbformat": 4,
 "nbformat_minor": 2
}
