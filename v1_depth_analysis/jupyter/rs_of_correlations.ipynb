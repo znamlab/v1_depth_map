{
 "cells": [
  {
   "cell_type": "code",
   "execution_count": null,
   "metadata": {},
   "outputs": [],
   "source": [
    "from v1_depth_analysis.config import PROJECT\n",
    "import flexiznam as flz\n",
    "import numpy as np \n",
    "import pickle\n",
    "from pathlib import Path\n",
    "import matplotlib.pyplot as plt\n",
    "\n",
    "flm_sess = flz.get_flexilims_session(project_id=PROJECT)"
   ]
  },
  {
   "cell_type": "code",
   "execution_count": null,
   "metadata": {},
   "outputs": [],
   "source": [
    "playback_rec = flz.get_entities(\n",
    "    datatype=\"recording\",\n",
    "    query_key=\"protocol\",\n",
    "    query_value=\"SpheresPermTubeRewardPlayback\",\n",
    "    flexilims_session=flm_sess,\n",
    ")\n",
    "print(f'Found {len(playback_rec)} recordings with playback')"
   ]
  },
  {
   "cell_type": "code",
   "execution_count": null,
   "metadata": {},
   "outputs": [],
   "source": [
    "def get_rsos(param_logger,     speed_thr = 0.01, log=True ):\n",
    "    vrs = np.array(param_logger.EyeZ.diff() / param_logger.HarpTime.diff(),dtype=float)\n",
    "    vrs = np.clip(vrs, speed_thr, None)\n",
    "    rs = np.array(param_logger.MouseZ.diff() / param_logger.HarpTime.diff(),dtype=float)\n",
    "    rs = np.clip(rs, speed_thr, None)\n",
    "    depth = np.array(param_logger.Depth, copy=True, dtype=float)\n",
    "    depth[depth < 0 ] = np.nan\n",
    "    of = np.degrees(vrs / depth)\n",
    "    func = np.log10 if log else lambda x:x\n",
    "    lrs = func(rs * 100)\n",
    "    lvrs = func(vrs * 100)\n",
    "    lof = func(of)\n",
    "    return lrs, lof, lvrs\n"
   ]
  },
  {
   "cell_type": "code",
   "execution_count": null,
   "metadata": {},
   "outputs": [],
   "source": [
    "\n",
    "def get_data(session):\n",
    "    loggers = dict(closed_loop=[], open_loop=[])\n",
    "    sess_children = flz.get_children(parent_id=session.id, flexilims_session=flm_sess, children_datatype='recording')\n",
    "    recs_closeloop = sess_children[sess_children.protocol==\"SpheresPermTubeReward\"]\n",
    "    recs_openloop = sess_children[sess_children.protocol==\"SpheresPermTubeRewardPlayback\"]\n",
    "    sess_ds =  flz.get_children(parent_id=session.id, flexilims_session=flm_sess, children_datatype='dataset')\n",
    "    suite_2p = sess_ds[sess_ds.dataset_type=='suite2p_rois']\n",
    "    assert len(suite_2p) == 1\n",
    "    suite_2p = flz.Dataset.from_flexilims(data_series=suite_2p.iloc[0], flexilims_session=flm_sess)\n",
    "    ops = np.load(suite_2p.path_full/'suite2p'/'plane0'/'ops.npy', allow_pickle=True).item()\n",
    "    processed = Path(flz.PARAMETERS['data_root']['processed'])\n",
    "    \n",
    "    for _, rec_closeloop in recs_closeloop.iterrows():\n",
    "        print(f\"Analysing {rec_closeloop.name}\")    \n",
    "        with open(processed / rec_closeloop.path / 'img_VS.pickle', 'rb') as handle:\n",
    "            img_VS_original = pickle.load(handle)\n",
    "        loggers['closed_loop'].append(img_VS_original)\n",
    "    for _, rec_playback in recs_openloop.iterrows():\n",
    "        print(f\"Analysing {rec_playback.name}\")    \n",
    "        with open(processed / rec_playback.path /'img_VS.pickle', 'rb') as handle:\n",
    "            img_VS_playback = pickle.load(handle)\n",
    "        loggers['open_loop'].append(img_VS_playback)\n",
    "    return loggers, ops\n"
   ]
  },
  {
   "cell_type": "code",
   "execution_count": null,
   "metadata": {},
   "outputs": [],
   "source": [
    "data = dict()\n",
    "import pandas as pd\n",
    "errors = []\n",
    "for rec_name, rec_playback in playback_rec.groupby('origin_id'):\n",
    "    sess = flz.get_entity(id=rec_playback.iloc[0].origin_id, flexilims_session=flm_sess)\n",
    "    print(rec_name)\n",
    "    try:\n",
    "        loggers, ops = get_data(sess)\n",
    "    except FileNotFoundError as err:\n",
    "        print(f'Error: {err}')\n",
    "        errors.append(err)\n",
    "        continue\n",
    "    \n",
    "    for kind, logs in loggers.items():\n",
    "        for il, logger in enumerate(logs):\n",
    "            crs, cof, cvrs = get_rsos(logger, speed_thr=0.01)\n",
    "            data[f\"{rec_name}_{kind}_{il}\"] = dict(\n",
    "                rs=crs,\n",
    "                of=cof,\n",
    "                vrs=cvrs,\n",
    "            )\n",
    "print(f'Could not load {len(errors)} recordings')"
   ]
  },
  {
   "cell_type": "code",
   "execution_count": null,
   "metadata": {},
   "outputs": [],
   "source": [
    "p = [Path(err.filename).relative_to(flz.PARAMETERS['data_root']['processed']) for err in errors]\n",
    "for l in p:\n",
    "    print(l)"
   ]
  },
  {
   "cell_type": "code",
   "execution_count": null,
   "metadata": {},
   "outputs": [],
   "source": [
    "# make bins\n",
    "\n",
    "rs_bin_log_min= 0\n",
    "rs_bin_log_max= 2.5\n",
    "rs_bin_num= 6\n",
    "of_bin_log_min= -1.5\n",
    "of_bin_log_max= 3.5\n",
    "of_bin_num= 11\n",
    "log_base= 10\n",
    "\n",
    "\n",
    "rs_bin = np.linspace(rs_bin_log_min, rs_bin_log_max, rs_bin_num)\n",
    "of_bin = np.linspace(of_bin_log_min, of_bin_log_max, of_bin_num)\n",
    "print(rs_bin)\n",
    "print(of_bin)\n",
    "\n",
    "    \n",
    "for v in rs_bin:\n",
    "    plt.axvline(v, color='purple', ymin=0.7)\n",
    "for v in of_bin:\n",
    "    plt.axvline(v, color='orange', ymin=0.8)\n",
    "_ = plt.hist(lrs, histtype='step', bins=np.arange(np.nanmin(lrs), np.nanmax(lrs), 0.5), color='purple')\n",
    "_ = plt.hist(lof, histtype='step', bins=np.arange(np.nanmin(lof), np.nanmax(lof), 0.5), color='orange')"
   ]
  },
  {
   "cell_type": "code",
   "execution_count": null,
   "metadata": {},
   "outputs": [],
   "source": [
    "delta_range = np.array(np.arange(-10, 11) * 2.5, dtype=int)\n",
    "def timewalk_onthemap(lrs, lof, pos, delta_range=delta_range, rs_bin=rs_bin, of_bin=of_bin):\n",
    "\n",
    "    blrs = np.array(np.round((lrs - rs_bin[0]) * 2))\n",
    "    blof = np.array(np.round((lof - of_bin[0]) * 2))\n",
    "\n",
    "    assert np.nanmin(blrs)>=0\n",
    "    assert np.nanmin(blof)>=0\n",
    "    assert np.nanmax(blrs) < len(rs_bin)\n",
    "    assert np.nanmax(blof) < len(of_bin)\n",
    "\n",
    "    rs_ind, of_ind = np.meshgrid(rs_bin, of_bin)\n",
    "    out = np.zeros((*rs_ind.shape, len(delta_range)))\n",
    "\n",
    "    start_pts, = np.where((blof == pos[0]) & (blrs == pos[1]))\n",
    "\n",
    "    for ide, delta in enumerate(delta_range):\n",
    "        pts = start_pts + delta\n",
    "        vals = np.vstack([blof[pts], blrs[pts]])\n",
    "        bad = np.isnan(np.sum(vals, axis=0))\n",
    "        vals = np.array(vals[:, ~bad], dtype=int)\n",
    "        h, xe, ye = np.histogram2d(vals[0], vals[1], [np.arange(len(of_bin)+1), np.arange(len(rs_bin)+1)])\n",
    "        out[..., ide] = h / vals.shape[1]\n",
    "    return out\n"
   ]
  },
  {
   "cell_type": "code",
   "execution_count": null,
   "metadata": {},
   "outputs": [],
   "source": [
    "# coords are (of, rs)\n",
    "pos = [7, 4]"
   ]
  },
  {
   "cell_type": "code",
   "execution_count": null,
   "metadata": {},
   "outputs": [],
   "source": [
    "lrs,lof , lvrs= get_rsos(img_VS_original,     speed_thr = 0.01 )\n",
    "valid = ~np.isnan(lof)\n",
    "\n",
    "blrs = np.array(np.round((lrs - rs_bin[0]) * 2))\n",
    "blof = np.array(np.round((lof - of_bin[0]) * 2))\n",
    "\n",
    "h, xe, ye = np.histogram2d(blof[valid], blrs[valid], [np.arange(len(of_bin)+1), np.arange(len(rs_bin)+1)])\n",
    "plt.imshow(h, origin='lower')\n",
    "_ = plt.xticks(np.arange(len(rs_bin)), labels=np.round(10**rs_bin, 1), rotation=90)\n",
    "_ = plt.yticks(np.arange(len(of_bin)), labels=np.round(10**of_bin, 1))\n",
    "cb = plt.colorbar()\n",
    "cb.set_label('# frames')\n",
    "plt.xlabel('Running speed (cm/s)')\n",
    "plt.ylabel('Optic flow (degree/s)')\n"
   ]
  },
  {
   "cell_type": "code",
   "execution_count": null,
   "metadata": {},
   "outputs": [],
   "source": [
    "fig, axes = plt.subplots(3, 7)\n",
    "fig.set_size_inches(10, 9)\n",
    "lrs,lof, lvrs = get_rsos(img_VS_original,     speed_thr = 0.01 )\n",
    "out = timewalk_onthemap(lrs, lof, pos, rs_bin=rs_bin, of_bin=of_bin)\n",
    "for idelta, delta in enumerate(delta_range):\n",
    "    ax = axes.flatten()[idelta]\n",
    "    ax.set_title(f\"{np.round(delta/ops['fs'],1)}s\")\n",
    "    img = ax.imshow(out[..., idelta], vmin=0, vmax=0.5, origin='lower')\n",
    "    # fig.colorbar(img, ax=ax)\n",
    "    ax.axis('off')\n",
    "plt.subplots_adjust(wspace=0.02, hspace=0.001)"
   ]
  },
  {
   "cell_type": "code",
   "execution_count": null,
   "metadata": {},
   "outputs": [],
   "source": []
  },
  {
   "cell_type": "code",
   "execution_count": null,
   "metadata": {},
   "outputs": [],
   "source": [
    "fig, axes = plt.subplots(3, 7)\n",
    "fig.set_size_inches(10, 9)\n",
    "\n",
    "lrs,lof, lvrs = get_rsos(img_VS_playback,     speed_thr = 0.01 )\n",
    "out = timewalk_onthemap(lrs, lof, pos, rs_bin=rs_bin, of_bin=of_bin)\n",
    "for idelta, delta in enumerate(delta_range):\n",
    "    ax = axes.flatten()[idelta]\n",
    "    ax.set_title(f\"{np.round(delta/ops['fs'],1)}s\")\n",
    "    img = ax.imshow(out[..., idelta], vmin=0, vmax=0.5, origin='lower')\n",
    "    # fig.colorbar(img, ax=ax)\n",
    "    ax.axis('off')\n",
    "plt.subplots_adjust(wspace=0.02, hspace=0.001)"
   ]
  },
  {
   "cell_type": "code",
   "execution_count": null,
   "metadata": {},
   "outputs": [],
   "source": [
    "from scipy import signal\n",
    "\n",
    "def norm_corr(x,y):\n",
    "\n",
    "    return signal.correlate(x/np.linalg.norm(x), y/np.linalg.norm(y), mode='full')\n",
    "\n",
    "lrs,lof, lvrs = get_rsos(img_VS_original,  speed_thr = 0.01, log=False)\n",
    "valid = ~np.isnan(lof)\n",
    "corr = norm_corr(lrs[valid], lrs[valid])\n",
    "lags = signal.correlation_lags(len(lrs[valid]), len(lrs[valid]), mode='full') / ops['fs']\n",
    "xl = np.searchsorted(lags, [-10 , 10])\n",
    "\n",
    "\n",
    "plt.subplot(4,1,1)\n",
    "plt.plot(lags[slice(*xl)], corr[slice(*xl)])\n",
    "\n",
    "corr = norm_corr(lof[valid], lof[valid])\n",
    "plt.subplot(4,1,2)\n",
    "plt.plot(lags[slice(*xl)], corr[slice(*xl)])\n",
    "\n",
    "corr = norm_corr(lof[valid], lrs[valid])\n",
    "plt.subplot(4,1,3)\n",
    "plt.plot(lags[slice(*xl)], corr[slice(*xl)])\n",
    "\n",
    "corr = norm_corr(lvrs[valid], lrs[valid])\n",
    "plt.subplot(4,1,4)\n",
    "plt.plot(lags[slice(*xl)], corr[slice(*xl)])\n",
    "\n",
    "plt.gcf().set_size_inches(7,6)"
   ]
  },
  {
   "cell_type": "code",
   "execution_count": null,
   "metadata": {},
   "outputs": [],
   "source": [
    "from scipy import signal\n",
    "\n",
    "def norm_corr(x,y):\n",
    "\n",
    "    return signal.correlate(x/np.linalg.norm(x), y/np.linalg.norm(y), mode='full')\n",
    "\n",
    "fig, axes = plt.subplots(4,1)\n",
    "xlims = [-3000, 3000]\n",
    "labels = ['Closed loop', 'Open loop']\n",
    "for iw, w in enumerate([img_VS_original, img_VS_playback]):\n",
    "    lrs,lof, lvrs = get_rsos(w,  speed_thr = 0.01, log=False)\n",
    "    valid = ~np.isnan(lof)\n",
    "\n",
    "    lags = signal.correlation_lags(len(lrs[valid]), len(lrs[valid]), mode='full') / ops['fs']\n",
    "    xl = np.searchsorted(lags, xlims)\n",
    "\n",
    "    corr = norm_corr(lrs[valid], lrs[valid])\n",
    "    axes[0].plot(lags[slice(*xl)], corr[slice(*xl)], label=labels[iw])\n",
    "    axes[0].set_title('Running speed autocorrelation')\n",
    "\n",
    "    corr = norm_corr(lof[valid], lof[valid])\n",
    "    axes[1].set_title('Optic flow autocorrelation')\n",
    "    axes[1].plot(lags[slice(*xl)], corr[slice(*xl)])\n",
    "\n",
    "    corr = norm_corr(lof[valid], lrs[valid])\n",
    "    axes[2].plot(lags[slice(*xl)], corr[slice(*xl)])\n",
    "    axes[2].set_title('Optic flow - Running speed correlation')\n",
    "\n",
    "    corr = norm_corr(lvrs[valid], lrs[valid])\n",
    "    axes[3].set_title('Virtual speed - Running speed correlation')\n",
    "    axes[3].plot(lags[slice(*xl)], corr[slice(*xl)])\n",
    "\n",
    "for x in axes:\n",
    "    x.set_ylabel('Normalised correlation')\n",
    "    x.set_xlabel('Lag (s)')\n",
    "    x.set_xlim(*xlims)\n",
    "axes[0].legend(loc=\"upper right\")\n",
    "fig.set_size_inches(5,10)\n",
    "fig.subplots_adjust(hspace=0.5)"
   ]
  },
  {
   "cell_type": "code",
   "execution_count": null,
   "metadata": {},
   "outputs": [],
   "source": [
    "rs,of, vrs = get_rsos(img_VS_playback,  speed_thr = 0.01, log=False)"
   ]
  },
  {
   "cell_type": "code",
   "execution_count": null,
   "metadata": {},
   "outputs": [],
   "source": [
    "fig, ax = plt.subplots(3, 1, sharex=True)\n",
    "ax[2].plot(rs, lw=1)\n",
    "ax[1].plot(vrs, lw=1)\n",
    "ax[0].plot(of, lw=1)\n",
    "\n"
   ]
  },
  {
   "cell_type": "code",
   "execution_count": null,
   "metadata": {},
   "outputs": [],
   "source": [
    "plt.plot(img_VS_playback.Mouse)"
   ]
  },
  {
   "cell_type": "code",
   "execution_count": null,
   "metadata": {},
   "outputs": [],
   "source": [
    "plt.figure(figsize=(10,5))\n",
    "plt.subplot(1,2,1,aspect='auto')\n",
    "plt.scatter(lrs, lof, alpha=.1, s=1)\n",
    "plt.subplot(1,2,2,aspect='auto')\n",
    "plt.scatter(lrs, lvrs, alpha=.1, s=1)"
   ]
  },
  {
   "cell_type": "code",
   "execution_count": null,
   "metadata": {},
   "outputs": [],
   "source": [
    "\n"
   ]
  }
 ],
 "metadata": {
  "kernelspec": {
   "display_name": "cottage_analysis",
   "language": "python",
   "name": "python3"
  },
  "language_info": {
   "codemirror_mode": {
    "name": "ipython",
    "version": 3
   },
   "file_extension": ".py",
   "mimetype": "text/x-python",
   "name": "python",
   "nbconvert_exporter": "python",
   "pygments_lexer": "ipython3",
   "version": "3.8.15"
  },
  "orig_nbformat": 4,
  "vscode": {
   "interpreter": {
    "hash": "272882de78d91b881035f683a12ffa07edc574ccc635c980b383a6ea3db59afc"
   }
  }
 },
 "nbformat": 4,
 "nbformat_minor": 2
}
