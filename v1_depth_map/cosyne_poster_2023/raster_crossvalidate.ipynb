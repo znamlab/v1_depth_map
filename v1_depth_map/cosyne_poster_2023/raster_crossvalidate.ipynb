{
 "cells": [
  {
   "attachments": {},
   "cell_type": "markdown",
   "metadata": {},
   "source": [
    "# Cross-validated raster plot"
   ]
  },
  {
   "attachments": {},
   "cell_type": "markdown",
   "metadata": {},
   "source": [
    "Find depth neurons based on subset of the trials and plot raster from the other subset.\n",
    "\n",
    "## Finding depth neuron\n",
    "\n",
    "Start with an example"
   ]
  },
  {
   "cell_type": "code",
   "execution_count": null,
   "metadata": {},
   "outputs": [],
   "source": [
    "%load_ext autoreload\n",
    "%autoreload 2"
   ]
  },
  {
   "cell_type": "code",
   "execution_count": null,
   "metadata": {},
   "outputs": [],
   "source": [
    "from pathlib import Path\n",
    "import numpy as np\n",
    "import pandas as pd\n",
    "import matplotlib\n",
    "import scipy\n",
    "from matplotlib import pyplot\n",
    "import flexiznam as flz\n",
    "from cottage_analysis.depth_analysis.depth_preprocess import process_params\n",
    "from scipy.optimize import curve_fit\n",
    "from cottage_analysis.depth_analysis.plotting.plotting_utils import calculate_R_squared, get_PSTH\n",
    "from v1_depth_analysis.cosyne_poster_2023 import raster_crossvalidate as rac"
   ]
  },
  {
   "cell_type": "code",
   "execution_count": null,
   "metadata": {},
   "outputs": [],
   "source": [
    "# Define sessions\n",
    "project = \"hey2_3d-vision_foodres_20220101\"\n",
    "V1_sessions = {\n",
    "    \"PZAH6.4b\": [\n",
    "        \"S20220512\",\n",
    "        \"S20220511\",\n",
    "        \"S20220429\",\n",
    "        \"S20220419\",\n",
    "        \"S20220426\",\n",
    "        \"S20220506\",\n",
    "        \"S20220503\",\n",
    "        \"S20220505\",\n",
    "        \"S20220516\",\n",
    "    ],\n",
    "    \"PZAG3.4f\": [\n",
    "        \"S20220504\",\n",
    "        \"S20220426\",\n",
    "        \"S20220421\",\n",
    "        \"S20220419\",\n",
    "        \"S20220505\",\n",
    "        \"S20220503\",\n",
    "        \"S20220510\",\n",
    "        \"S20220512\",\n",
    "        \"S20220511\",\n",
    "    ],\n",
    "}\n",
    "\n",
    "VERSION =1 \n",
    "target_folder = Path(flz.PARAMETERS['data_root']['processed']).parent / f'presentations/Cosyne2023/ver{VERSION}/raster_summary_crossvalidated/'\n",
    "if not target_folder.is_dir():\n",
    "    target_folder.mkdir(exist_ok=True)\n",
    "\n",
    "\n",
    "speed_thr_cal = 0.2  \n",
    "MIN_SIGMA=0.5\n",
    "# initialise random generator\n",
    "seed = 796\n",
    "rng = np.random.default_rng(seed=seed)\n",
    "# which proportion of the trials are used for the fit vs raster\n",
    "prop_fit = 0.5"
   ]
  },
  {
   "cell_type": "code",
   "execution_count": null,
   "metadata": {},
   "outputs": [],
   "source": [
    "flm_sess = flz.get_flexilims_session(project_id=project)"
   ]
  },
  {
   "attachments": {},
   "cell_type": "markdown",
   "metadata": {},
   "source": [
    "## Iterate on sessions"
   ]
  },
  {
   "cell_type": "code",
   "execution_count": null,
   "metadata": {},
   "outputs": [],
   "source": [
    "# select the session\n",
    "REDO = False\n",
    "\n",
    "all_psths = dict()\n",
    "all_fits = dict()\n",
    "all_anovas = dict()\n",
    "for mouse, sessions in V1_sessions.items():\n",
    "    for session in sessions:\n",
    "        print(f\"Doing session {session} of {mouse}\")\n",
    "        # get the data\n",
    "        sess_entity = flz.get_entity(\n",
    "            name=f\"{mouse}_{session}\", datatype=\"session\", flexilims_session=flm_sess\n",
    "        )\n",
    "\n",
    "        recordings = flz.get_children(\n",
    "            parent_id=sess_entity.id,\n",
    "            children_datatype=\"recording\",\n",
    "            flexilims_session=flm_sess,\n",
    "        )\n",
    "        recording = recordings[recordings.protocol == \"SpheresPermTubeReward\"]\n",
    "        assert len(recording) == 1\n",
    "        recording = recording.iloc[0]\n",
    "\n",
    "        fnames = [\n",
    "            f\"{'_'.join(recording.genealogy)}_psth_{seed}_{prop_fit}.npy\",\n",
    "            f\"{'_'.join(recording.genealogy)}_gaussian_fit_{seed}_{prop_fit}.csv\",\n",
    "            f\"{'_'.join(recording.genealogy)}_anovas_{seed}_{prop_fit}.npy\",\n",
    "        ]\n",
    "\n",
    "        if not REDO and all([(target_folder / f).exists() for f in fnames]):\n",
    "            print(\"already analysed, reload\", flush=True)\n",
    "            data = None\n",
    "            stim_dict_fit = None  # this will make the analysis crash if it tries to run\n",
    "            stim_dict_raster = None\n",
    "        else:\n",
    "\n",
    "            data = rac.get_recording_data(recording, flm_sess, two_photon=True)\n",
    "            stim_dict_fit, stim_dict_raster = rac.cut_stim_dict(\n",
    "                stim_dict=data[\"stim_dict\"], prop_fit=prop_fit, rng=rng\n",
    "            )\n",
    "\n",
    "        all_fits[f\"{mouse}_{session}\"] = rac.get_or_load_fit(\n",
    "            recording,\n",
    "            seed,\n",
    "            prop_fit,\n",
    "            stim_dict_fit,\n",
    "            target_folder,\n",
    "            speed_thr_cal,\n",
    "            MIN_SIGMA,\n",
    "            data=data,\n",
    "            redo=REDO,\n",
    "        )\n",
    "        all_anovas[f\"{mouse}_{session}\"] = rac.get_or_load_anova(\n",
    "            recording,\n",
    "            target_folder,\n",
    "            seed,\n",
    "            prop_fit,\n",
    "            data=data,\n",
    "            stim_dict=stim_dict_fit,\n",
    "            speed_thr_cal=speed_thr_cal,\n",
    "            redo=REDO,\n",
    "        )\n",
    "\n",
    "        all_psths[f\"{mouse}_{session}\"] = rac.get_or_load_psth(\n",
    "            recording,\n",
    "            target_folder,\n",
    "            seed,\n",
    "            prop_fit,\n",
    "            data=data,\n",
    "            stim_dict_raster=stim_dict_raster,\n",
    "            redo=REDO,\n",
    "        )\n"
   ]
  },
  {
   "cell_type": "markdown",
   "metadata": {},
   "source": [
    "# Do the raster"
   ]
  },
  {
   "cell_type": "code",
   "execution_count": null,
   "metadata": {},
   "outputs": [],
   "source": [
    "if data is None:\n",
    "    # load a random rec to read depth\n",
    "    data = rac.get_recording_data(recording, flm_sess, two_photon=True)\n",
    "depth_list = data['param_logger'].Depth.unique()\n",
    "depth_list = np.round(depth_list, 2)\n",
    "depth_list = depth_list[~np.isnan(depth_list)].tolist()\n",
    "depth_list.remove(-99.99)\n",
    "depth_list.sort()\n",
    "depth_list[-1] = 6  # dirty mix up between 6.0 and 6\n"
   ]
  },
  {
   "cell_type": "code",
   "execution_count": null,
   "metadata": {},
   "outputs": [],
   "source": [
    "# Plot it\n",
    "sessions = list(all_psths.keys())\n",
    "all_neurons_psth = np.vstack([all_psths[k] for k in sessions])\n",
    "all_neurons_anova = np.hstack([all_anovas[k] for k in sessions])\n",
    "fits = [all_fits[k] for k in sessions]\n",
    "all_neurons_preferred_depths = np.hstack(\n",
    "    [np.array(np.exp(f.x0_logged.values.astype(\"float32\"))) for f in fits]\n",
    ")\n",
    "all_neurons_rsquare = np.hstack(\n",
    "    [np.array(f.r_sq.values.astype(\"float32\")) for f in fits]\n",
    ")\n"
   ]
  },
  {
   "cell_type": "code",
   "execution_count": null,
   "metadata": {},
   "outputs": [],
   "source": [
    "import matplotlib.pyplot as plt\n",
    "_ = plt.hist(all_neurons_rsquare, bins=np.arange(0, 0.2, 0.001))"
   ]
  },
  {
   "cell_type": "code",
   "execution_count": null,
   "metadata": {},
   "outputs": [],
   "source": [
    "# Colormap\n",
    "from matplotlib.colors import ListedColormap\n",
    "N = 256\n",
    "vals = np.ones((N, 4))\n",
    "vals[:, 0] = np.linspace(1, 1, N)\n",
    "vals[:, 1] = np.linspace(1, 0, N)\n",
    "vals[:, 2] = np.linspace(1, 0, N)\n",
    "WhRdcmap = ListedColormap(vals)\n"
   ]
  },
  {
   "cell_type": "code",
   "execution_count": null,
   "metadata": {},
   "outputs": [],
   "source": [
    "import matplotlib.pyplot as plt\n",
    "plt.figure(figsize=(4,12))\n",
    "plt.subplot(3,1,1)\n",
    "plt.title(\"All neurons\")\n",
    "depth_list = []\n",
    "valid = np.ones(len(all_neurons_preferred_depths), dtype=bool)\n",
    "order = all_neurons_preferred_depths.argsort()\n",
    "psth = all_neurons_psth[order[valid]]\n",
    "# normalise each neuron\n",
    "neuron_max = np.nanmax(psth, axis=1)[:, np.newaxis]\n",
    "neuron_min = np.nanmin(psth, axis=1)[:, np.newaxis]\n",
    "normed_psth = (psth - neuron_min) / (neuron_max-neuron_min)\n",
    "plt.imshow(normed_psth, vmax=1, aspect='auto', cmap=WhRdcmap)\n",
    "\n",
    "plt.subplot(3,1,2)\n",
    "plt.title(\"Anova <0.05\")\n",
    "valid = all_neurons_anova < 0.05\n",
    "psth = all_neurons_psth[order[valid]]\n",
    "# normalise each neuron\n",
    "neuron_max = np.nanmax(psth, axis=1)[:, np.newaxis]\n",
    "neuron_min = np.nanmin(psth, axis=1)[:, np.newaxis]\n",
    "normed_psth = (psth - neuron_min) / (neuron_max-neuron_min)\n",
    "\n",
    "plt.imshow(normed_psth, vmax=1, aspect='auto', cmap=WhRdcmap)\n",
    "\n",
    "plt.subplot(3,1,3)\n",
    "fit_threshold = 0.025\n",
    "plt.title(f\"Fit r > {fit_threshold}\")\n",
    "valid = all_neurons_rsquare > fit_threshold\n",
    "psth = all_neurons_psth[order[valid]]\n",
    "# normalise each neuron\n",
    "neuron_max = np.nanmax(psth, axis=1)[:, np.newaxis]\n",
    "neuron_min = np.nanmin(psth, axis=1)[:, np.newaxis]\n",
    "normed_psth = (psth - neuron_min) / (neuron_max-neuron_min)\n",
    "plt.imshow(normed_psth, vmax=1, aspect='auto', cmap=WhRdcmap, origin='lower')\n",
    "for ax in plt.gcf().axes:\n",
    "    ax.set_xticks(np.arange(normed_psth.shape[1])[30::60],\n",
    "                  (np.array(depth_list)*100).astype('int'), fontsize=15,\n",
    "                   rotation = 30)\n",
    "    for x in np.arange(normed_psth.shape[1])[61::60]:\n",
    "        ax.axvline(x, color='k', lw=1)"
   ]
  }
 ],
 "metadata": {
  "kernelspec": {
   "display_name": "cottage_analysis",
   "language": "python",
   "name": "python3"
  },
  "language_info": {
   "codemirror_mode": {
    "name": "ipython",
    "version": 3
   },
   "file_extension": ".py",
   "mimetype": "text/x-python",
   "name": "python",
   "nbconvert_exporter": "python",
   "pygments_lexer": "ipython3",
   "version": "3.8.15"
  },
  "orig_nbformat": 4
 },
 "nbformat": 4,
 "nbformat_minor": 2
}
