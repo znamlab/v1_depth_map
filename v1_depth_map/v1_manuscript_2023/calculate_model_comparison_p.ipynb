{
 "cells": [
  {
   "cell_type": "code",
   "execution_count": null,
   "metadata": {},
   "outputs": [],
   "source": [
    "import numpy as np\n",
    "import pandas as pd\n",
    "import matplotlib\n",
    "matplotlib.rcParams['pdf.fonttype'] = 42 # for pdfs\n",
    "matplotlib.rcParams['svg.fonttype'] = 'none' # for svgs\n",
    "import matplotlib.pyplot as plt\n",
    "import seaborn as sns\n",
    "import pickle\n",
    "from scipy import stats\n",
    "from pathlib import Path\n",
    "\n",
    "import flexiznam as flz\n",
    "from cottage_analysis.analysis import spheres, common_utils\n",
    "from cottage_analysis.pipelines import pipeline_utils\n",
    "from v1_depth_analysis.v1_manuscript_2023 import depth_selectivity, closed_loop_rsof, get_session_list, depth_decoder\n",
    "from v1_depth_analysis.v1_manuscript_2023 import common_utils as v1_common_utils\n",
    "from tqdm import tqdm"
   ]
  },
  {
   "cell_type": "code",
   "execution_count": null,
   "metadata": {},
   "outputs": [],
   "source": [
    "READ_VERSION = 9\n",
    "READ_ROOT = Path(\n",
    "    f\"/camp/lab/znamenskiyp/home/shared/presentations/v1_manuscript_2023/ver{READ_VERSION}\"\n",
    ")\n",
    "\n",
    "VERSION = 9\n",
    "SAVE_ROOT = Path(\n",
    "    f\"/camp/lab/znamenskiyp/home/shared/presentations/v1_manuscript_2023/ver{VERSION}\"\n",
    ")\n",
    "SAVE_ROOT.mkdir(parents=True, exist_ok=True)\n",
    "(SAVE_ROOT/\"fig2\").mkdir(parents=True, exist_ok=True)"
   ]
  },
  {
   "cell_type": "code",
   "execution_count": null,
   "metadata": {},
   "outputs": [],
   "source": [
    "project = \"hey2_3d-vision_foodres_20220101\"\n",
    "flexilims_session = flz.get_flexilims_session(project)\n",
    "\n",
    "\n",
    "# Concatenate all sessions for closedloop rsof\n",
    "models = [\"gof\", \"grs\", \"gadd\", \"g2d\", \"gratio\"]\n",
    "cols = [\n",
    "    \"roi\",\n",
    "    \"best_depth\",\n",
    "    \"preferred_depth_closedloop\",\n",
    "    \"preferred_depth_closedloop_crossval\",\n",
    "    \"depth_tuning_popt_closedloop\",\n",
    "    \"depth_tuning_test_rsq_closedloop\",\n",
    "    \"depth_tuning_test_spearmanr_pval_closedloop\",\n",
    "    \"depth_tuning_test_spearmanr_rval_closedloop\",\n",
    "    \"preferred_RS_closedloop_g2d\",\n",
    "    \"preferred_RS_closedloop_crossval_g2d\",\n",
    "    \"preferred_OF_closedloop_g2d\",\n",
    "    \"preferred_OF_closedloop_crossval_g2d\",\n",
    "]\n",
    "cols_to_add = [\n",
    "    \"rsof_test_rsq_closedloop_\",\n",
    "    \"rsof_rsq_closedloop_\",\n",
    "    \"rsof_popt_closedloop_\",\n",
    "]\n",
    "for model in models:\n",
    "    for col in cols_to_add:\n",
    "        cols.append(f\"{col}{model}\")\n",
    "\n",
    "mouse_list = flz.get_entities(\"mouse\", flexilims_session=flexilims_session)\n",
    "mouse_list = mouse_list[mouse_list.name.isin([\"PZAH6.4b\",\n",
    "                \"PZAG3.4f\",\n",
    "                \"PZAH8.2h\",\n",
    "                \"PZAH8.2i\",\n",
    "                \"PZAH8.2f\",\n",
    "                \"PZAH10.2d\",\n",
    "                \"PZAH10.2f\"])]\n",
    "results_all = pd.read_pickle(READ_ROOT / \"fig2\" /  \"results_all_rsof_closedloop.pickle\")"
   ]
  },
  {
   "cell_type": "code",
   "execution_count": null,
   "metadata": {},
   "outputs": [],
   "source": [
    "# comparison between different models\n",
    "results_all[\"preferred_depth_amplitude\"] = results_all[\n",
    "    \"depth_tuning_popt_closedloop\"\n",
    "].apply(lambda x: np.exp(x[0]) + x[-1])\n",
    "neurons_df_sig = results_all[\n",
    "    (results_all[\"iscell\"] == 1)\n",
    "    & (results_all[\"depth_tuning_test_spearmanr_rval_closedloop\"] > 0.1)\n",
    "    & (results_all[\"depth_tuning_test_spearmanr_pval_closedloop\"] < 0.05)\n",
    "    & (results_all[\"preferred_depth_amplitude\"] > 0.5)\n",
    "] \n",
    "neurons_df_sig[\"mouse\"] = neurons_df_sig[\"session\"].str.split(\"_\").str[0]\n",
    "model_cols = [f\"rsof_test_rsq_closedloop_{model}\" for model in models]\n",
    "neurons_df_sig[\"best_model\"] = neurons_df_sig[model_cols].idxmax(axis=1)\n",
    "\n",
    "props = []\n",
    "# calculate the proportion of neurons that have the best model for each session\n",
    "neuron_sum = (\n",
    "    neurons_df_sig.groupby(\"session\")[[\"roi\"]].agg([\"count\"]).values.flatten()\n",
    ")\n",
    "for i, model in enumerate(model_cols):\n",
    "    prop = (\n",
    "        neurons_df_sig.groupby(\"session\")\n",
    "        .apply(lambda x: x[x[\"best_model\"] == model][[\"roi\"]].agg([\"count\"]))\n",
    "        .values.flatten()\n",
    "    ) / neuron_sum\n",
    "    props.append(prop)\n",
    "sessions_df = pd.DataFrame(np.array(props).T, index=np.arange(len(neurons_df_sig[\"session\"].unique())), columns = models)\n",
    "sessions_df[\"session\"] = neurons_df_sig[\"session\"].unique()\n",
    "sessions_df[\"mouse\"] = sessions_df[\"session\"].str.split(\"_\").str[0]\n"
   ]
  },
  {
   "cell_type": "code",
   "execution_count": null,
   "metadata": {},
   "outputs": [],
   "source": [
    "n_boot = 20000\n",
    "dist = np.zeros((len(models), n_boot))\n",
    "for iboot in tqdm(range(n_boot)):\n",
    "    sample = common_utils.bootstrap_sample(\n",
    "        sessions_df, [\"mouse\"]\n",
    "    )\n",
    "    for i, model in enumerate(models):\n",
    "        dist[i, iboot] = np.median(sessions_df.loc[sample][model])\n",
    "\n"
   ]
  },
  {
   "cell_type": "code",
   "execution_count": null,
   "metadata": {},
   "outputs": [],
   "source": [
    "for i in [0,1,2,4]:\n",
    "    print(np.mean((dist[3] - dist[i]) < 0))\n",
    "    print(np.mean((dist[3] - dist[i]) > 0))"
   ]
  }
 ],
 "metadata": {
  "kernelspec": {
   "display_name": "2p_analysis_cottage",
   "language": "python",
   "name": "python3"
  },
  "language_info": {
   "codemirror_mode": {
    "name": "ipython",
    "version": 3
   },
   "file_extension": ".py",
   "mimetype": "text/x-python",
   "name": "python",
   "nbconvert_exporter": "python",
   "pygments_lexer": "ipython3",
   "version": "3.9.5"
  }
 },
 "nbformat": 4,
 "nbformat_minor": 2
}
