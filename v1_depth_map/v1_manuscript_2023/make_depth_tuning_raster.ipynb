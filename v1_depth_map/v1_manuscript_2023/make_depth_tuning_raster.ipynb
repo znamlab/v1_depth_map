{
 "cells": [
  {
   "cell_type": "code",
   "execution_count": null,
   "metadata": {},
   "outputs": [],
   "source": [
    "%reload_ext autoreload\n",
    "%autoreload 2\n",
    "\n",
    "import flexiznam as flz\n",
    "from v1_depth_analysis.v1_manuscript_2023 import depth_selectivity, get_session_list\n",
    "from pathlib import Path\n",
    "import warnings\n",
    "warnings.filterwarnings(\"ignore\", category=DeprecationWarning)\n",
    "import matplotlib.pyplot as plt\n",
    "import numpy as np"
   ]
  },
  {
   "cell_type": "code",
   "execution_count": null,
   "metadata": {},
   "outputs": [],
   "source": [
    "# Get PSTH for all sessions #THIS WILL TAKE REALLY LONG\n",
    "project = \"hey2_3d-vision_foodres_20220101\"\n",
    "flexilims_session = flz.get_flexilims_session(project)\n",
    "\n",
    "session_list = get_session_list.get_sessions(\n",
    "    flexilims_session,\n",
    "    closedloop_only=False,\n",
    "    openloop_only=False,\n",
    ")\n",
    "results_all = depth_selectivity.get_psth_crossval_all_sessions(\n",
    "    flexilims_session,\n",
    "    session_list,\n",
    "    nbins=60,\n",
    "    closed_loop=1,\n",
    "    use_cols=[\n",
    "        \"roi\",\n",
    "        \"is_depth_neuron\",\n",
    "        \"depth_neuron_anova_p\",\n",
    "        \"best_depth\",\n",
    "        \"preferred_depth_closedloop\",\n",
    "        \"depth_tuning_popt_closedloop\",\n",
    "        \"depth_tuning_trials_closedloop\",\n",
    "        \"depth_tuning_trials_closedloop_crossval\",\n",
    "        \"preferred_depth_closedloop_crossval\",\n",
    "        \"depth_tuning_test_rsq_closedloop\",\n",
    "        \"depth_tuning_test_spearmanr_rval_closedloop\",\n",
    "        \"depth_tuning_test_spearmanr_pval_closedloop\",\n",
    "    ],\n",
    "    blank_length=3,\n",
    "    overwrite=True,\n",
    ")\n",
    "VERSION = 6\n",
    "SAVE_ROOT = (\n",
    "    Path(\n",
    "        f\"/camp/lab/znamenskiyp/home/shared/presentations/v1_manuscript_2023/ver{VERSION}\"\n",
    "    )\n",
    "    / \"fig1\"\n",
    ")\n",
    "SAVE_ROOT.mkdir(parents=True, exist_ok=True)\n",
    "results_all.to_pickle(SAVE_ROOT / \"results_all.pickle\")"
   ]
  },
  {
   "cell_type": "code",
   "execution_count": null,
   "metadata": {},
   "outputs": [],
   "source": [
    "project = \"hey2_3d-vision_foodres_20220101\"\n",
    "flexilims_session = flz.get_flexilims_session(project)\n",
    "\n",
    "session_list = [\"PZAH8.2i_S20230216\"]\n",
    "results_all = depth_selectivity.get_rs_stats_all_sessions(\n",
    "    flexilims_session,\n",
    "    session_list,\n",
    "    nbins=60,\n",
    "    rs_thr_min=None,\n",
    "    rs_thr_max=None,\n",
    "    still_only=False,\n",
    "    still_time=1,\n",
    "    corridor_length=6,\n",
    "    blank_length=3,\n",
    "    overwrite=True,\n",
    ")\n"
   ]
  },
  {
   "cell_type": "markdown",
   "metadata": {},
   "source": []
  },
  {
   "cell_type": "code",
   "execution_count": null,
   "metadata": {},
   "outputs": [],
   "source": [
    "results_all"
   ]
  },
  {
   "cell_type": "code",
   "execution_count": null,
   "metadata": {},
   "outputs": [],
   "source": [
    "df_squeezed"
   ]
  },
  {
   "cell_type": "code",
   "execution_count": null,
   "metadata": {},
   "outputs": [],
   "source": [
    "results_all"
   ]
  },
  {
   "cell_type": "code",
   "execution_count": null,
   "metadata": {},
   "outputs": [],
   "source": []
  }
 ],
 "metadata": {
  "kernelspec": {
   "display_name": "cottage-analysis",
   "language": "python",
   "name": "python3"
  },
  "language_info": {
   "codemirror_mode": {
    "name": "ipython",
    "version": 3
   },
   "file_extension": ".py",
   "mimetype": "text/x-python",
   "name": "python",
   "nbconvert_exporter": "python",
   "pygments_lexer": "ipython3",
   "version": "3.9.5"
  }
 },
 "nbformat": 4,
 "nbformat_minor": 2
}
