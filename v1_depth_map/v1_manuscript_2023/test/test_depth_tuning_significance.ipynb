{
 "cells": [
  {
   "cell_type": "code",
   "execution_count": 1,
   "metadata": {},
   "outputs": [],
   "source": [
    "%reload_ext autoreload\n",
    "%autoreload 2\n",
    "\n",
    "\n",
    "import functools\n",
    "print = functools.partial(print, flush=True)\n",
    "\n",
    "import os\n",
    "import numpy as np\n",
    "import pandas as pd\n",
    "import matplotlib\n",
    "matplotlib.rcParams['pdf.fonttype'] = 42 # for pdfs\n",
    "import matplotlib.pyplot as plt\n",
    "from matplotlib import cm\n",
    "from pathlib import Path\n",
    "import pickle\n",
    "from tqdm import tqdm\n",
    "import scipy\n",
    "\n",
    "import flexiznam as flz\n",
    "from cottage_analysis.analysis import spheres, common_utils, find_depth_neurons\n",
    "from cottage_analysis.pipelines import pipeline_utils\n",
    "from v1_depth_analysis.v1_manuscript_2023 import depth_selectivity, get_session_list\n",
    "\n",
    "from matplotlib_venn import venn2, venn3"
   ]
  },
  {
   "cell_type": "code",
   "execution_count": 2,
   "metadata": {},
   "outputs": [
    {
     "name": "stdout",
     "output_type": "stream",
     "text": [
      "Processing recording 1/1\n",
      "Loading existing monitor frames...\n",
      "Removing frames in wrong order of frame indices.\n",
      "Removed 0 frames including:\n",
      "0 negative diffs.\n",
      "0 duplicates.\n",
      "2 frames are not 0.0658 s\n",
      "ImagingFrames in video: 97615\n",
      "ImagingFrame triggers: 97616\n",
      "WARNING: SAVED VIDEO FRAMES ARE 1 FRAME LESS THAN FRAME TRIGGERS!!!\n"
     ]
    },
    {
     "name": "stderr",
     "output_type": "stream",
     "text": [
      "/nemo/lab/znamenskiyp/home/users/hey2/codes/cottage_analysis/cottage_analysis/preprocessing/synchronisation.py:435: SettingWithCopyWarning: \n",
      "A value is trying to be set on a copy of a slice from a DataFrame\n",
      "\n",
      "See the caveats in the documentation: https://pandas.pydata.org/pandas-docs/stable/user_guide/indexing.html#returning-a-view-versus-a-copy\n",
      "  imaging_df[\"imaging_harptime_end\"].iloc[-1] = (\n",
      "/nemo/lab/znamenskiyp/home/users/hey2/codes/cottage_analysis/cottage_analysis/analysis/spheres.py:295: UserWarning: Pandas doesn't allow columns to be created via a new attribute name - see https://pandas.pydata.org/pandas-docs/stable/indexing.html#attribute-access\n",
      "  imaging_df.RS = imaging_df.mouse_z_harp.diff() / imaging_df.mouse_z_harptime.diff()\n",
      "/nemo/lab/znamenskiyp/home/users/hey2/codes/cottage_analysis/cottage_analysis/analysis/spheres.py:297: UserWarning: Pandas doesn't allow columns to be created via a new attribute name - see https://pandas.pydata.org/pandas-docs/stable/indexing.html#attribute-access\n",
      "  imaging_df.RS_eye = imaging_df.eye_z.diff() / imaging_df.monitor_harptime.diff()\n",
      "/nemo/lab/znamenskiyp/home/users/hey2/codes/cottage_analysis/cottage_analysis/analysis/spheres.py:299: SettingWithCopyWarning: \n",
      "A value is trying to be set on a copy of a slice from a DataFrame.\n",
      "Try using .loc[row_indexer,col_indexer] = value instead\n",
      "\n",
      "See the caveats in the documentation: https://pandas.pydata.org/pandas-docs/stable/user_guide/indexing.html#returning-a-view-versus-a-copy\n",
      "  imaging_df[imaging_df[\"depth\"] == -9999].depth = np.nan\n",
      "/nemo/lab/znamenskiyp/home/users/hey2/codes/cottage_analysis/cottage_analysis/analysis/spheres.py:347: SettingWithCopyWarning: \n",
      "A value is trying to be set on a copy of a slice from a DataFrame.\n",
      "Try using .loc[row_indexer,col_indexer] = value instead\n",
      "\n",
      "See the caveats in the documentation: https://pandas.pydata.org/pandas-docs/stable/user_guide/indexing.html#returning-a-view-versus-a-copy\n",
      "  imaging_df_simple.depth = np.round(imaging_df_simple.depth, 2)\n"
     ]
    },
    {
     "name": "stdout",
     "output_type": "stream",
     "text": [
      "Finished concatenating vs_df and trials_df\n"
     ]
    }
   ],
   "source": [
    "project='hey2_3d-vision_foodres_20220101'\n",
    "session_name='PZAH6.4b_S20220426'\n",
    "flexilims_session = flz.get_flexilims_session(project)\n",
    "\n",
    "vs_df, trials_df = spheres.sync_all_recordings(\n",
    "    session_name=session_name,\n",
    "    flexilims_session=flexilims_session,\n",
    "    project=project,\n",
    "    filter_datasets={'anatomical_only':3},\n",
    "    recording_type=\"two_photon\",\n",
    "    protocol_base=\"SpheresPermTubeReward\",\n",
    "    photodiode_protocol=2,\n",
    "    return_volumes=True,\n",
    ")\n",
    "\n",
    "neurons_ds = pipeline_utils.create_neurons_ds(\n",
    "    session_name=session_name, flexilims_session=flexilims_session, project=None, conflicts=\"skip\"\n",
    ")\n",
    "neurons_df = pd.read_pickle(neurons_ds.path_full)"
   ]
  },
  {
   "cell_type": "code",
   "execution_count": 3,
   "metadata": {},
   "outputs": [
    {
     "name": "stderr",
     "output_type": "stream",
     "text": [
      "100%|██████████| 795/795 [00:48<00:00, 16.43it/s]\n",
      "100%|██████████| 795/795 [00:44<00:00, 17.73it/s]\n",
      "100%|██████████| 795/795 [03:58<00:00,  3.33it/s]\n"
     ]
    }
   ],
   "source": [
    "neurons_df_mini, neurons_ds = find_depth_neurons.fit_preferred_depth(\n",
    "    trials_df=trials_df,\n",
    "    neurons_df=neurons_df,\n",
    "    neurons_ds=neurons_ds,\n",
    "    closed_loop=1,\n",
    "    choose_trials=None,\n",
    "    depth_min=0.02,\n",
    "    depth_max=20,\n",
    "    niter=10,\n",
    "    min_sigma=0.5,\n",
    "    k_folds=1,\n",
    ")\n",
    "\n",
    "# Find preferred depth of closed loop with half the data for plotting purposes\n",
    "neurons_df_mini, neurons_ds = find_depth_neurons.fit_preferred_depth(\n",
    "    trials_df=trials_df,\n",
    "    neurons_df=neurons_df,\n",
    "    neurons_ds=neurons_ds,\n",
    "    closed_loop=1,\n",
    "    choose_trials=\"odd\",\n",
    "    depth_min=0.02,\n",
    "    depth_max=20,\n",
    "    niter=10,\n",
    "    min_sigma=0.5,\n",
    "    k_folds=1,\n",
    ")\n",
    "\n",
    "# Find r-squared of k-fold cross validation\n",
    "neurons_df_mini, neurons_ds = find_depth_neurons.fit_preferred_depth(\n",
    "    trials_df=trials_df,\n",
    "    neurons_df=neurons_df,\n",
    "    neurons_ds=neurons_ds,\n",
    "    closed_loop=1,\n",
    "    choose_trials=None,\n",
    "    depth_min=0.02,\n",
    "    depth_max=20,\n",
    "    niter=10,\n",
    "    min_sigma=0.5,\n",
    "    k_folds=5,\n",
    ")"
   ]
  },
  {
   "cell_type": "code",
   "execution_count": 21,
   "metadata": {},
   "outputs": [
    {
     "data": {
      "text/plain": [
       "Index(['roi', 'is_depth_neuron', 'depth_neuron_anova_p', 'best_depth',\n",
       "       'preferred_depth_closedloop', 'depth_tuning_popt_closedloop',\n",
       "       'depth_tuning_trials_closedloop', 'preferred_depth_closedloop_crossval',\n",
       "       'depth_tuning_popt_closedloop_crossval',\n",
       "       'depth_tuning_trials_closedloop_crossval',\n",
       "       'depth_tuning_test_rsq_closedloop', 'preferred_RS_closedloop',\n",
       "       'preferred_OF_closedloop', 'rsof_popt_closedloop',\n",
       "       'rsof_rsq_closedloop', 'preferred_RS_openloop_actual',\n",
       "       'preferred_OF_openloop_actual', 'rsof_popt_openloop_actual',\n",
       "       'rsof_rsq_openloop_actual', 'preferred_RS_openloop_virtual',\n",
       "       'preferred_OF_openloop_virtual', 'rsof_popt_openloop_virtual',\n",
       "       'rsof_rsq_openloop_virtual', 'rf_coef', 'rf_rsq', 'rf_coef_ipsi',\n",
       "       'rf_rsq_ipsi', 'depth_tuning_test_spearmanr_rval_closedloop',\n",
       "       'depth_tuning_test_spearmanr_pval_closedloop'],\n",
       "      dtype='object')"
      ]
     },
     "execution_count": 21,
     "metadata": {},
     "output_type": "execute_result"
    }
   ],
   "source": [
    "neurons_df.columns"
   ]
  },
  {
   "cell_type": "code",
   "execution_count": 4,
   "metadata": {},
   "outputs": [
    {
     "data": {
      "text/plain": [
       "<matplotlib_venn._common.VennDiagram at 0x7f156ee3e940>"
      ]
     },
     "execution_count": 4,
     "metadata": {},
     "output_type": "execute_result"
    },
    {
     "data": {
      "image/png": "[encoded data removed]",
      "text/plain": [
       "<Figure size 640x480 with 1 Axes>"
      ]
     },
     "metadata": {},
     "output_type": "display_data"
    }
   ],
   "source": [
    "# Check if there's significant overlap between neurons with high r-squared and neurons with significant depth tuning\n",
    "high_rsq = (neurons_df_mini[\"depth_tuning_test_rsq_closedloop\"] > 0.01)\n",
    "sig_depth = (neurons_df_mini[\"depth_tuning_test_spearmanr_pval_closedloop\"] < 0.05)\n",
    "venn3([set(neurons_df_mini[high_rsq].roi.values), set(neurons_df_mini[sig_depth].roi.values)], set_labels=[\"high rsq\", \"sig depth\"])"
   ]
  },
  {
   "cell_type": "code",
   "execution_count": 6,
   "metadata": {},
   "outputs": [
    {
     "data": {
      "text/plain": [
       "0.7094339622641509"
      ]
     },
     "execution_count": 6,
     "metadata": {},
     "output_type": "execute_result"
    }
   ],
   "source": [
    "np.mean(neurons_df_mini[\"depth_tuning_test_spearmanr_pval_closedloop\"]>0.05)"
   ]
  },
  {
   "cell_type": "code",
   "execution_count": 30,
   "metadata": {},
   "outputs": [
    {
     "data": {
      "image/png": "[encoded data removed]",
      "text/plain": [
       "<Figure size 640x480 with 1 Axes>"
      ]
     },
     "metadata": {},
     "output_type": "display_data"
    }
   ],
   "source": [
    "select = (neurons_df_mini[\"depth_tuning_test_rsq_closedloop\"] > 0.01) & (neurons_df_mini[\"depth_tuning_test_spearmanr_pval_closedloop\"] < 0.05)\n",
    "plt.scatter(neurons_df_mini[select][\"depth_tuning_test_rsq_closedloop\"], neurons_df_mini[select][\"depth_tuning_test_spearmanr_pval_closedloop\"])\n",
    "# plt.xscale(\"log\")\n",
    "plt.yscale(\"log\")"
   ]
  },
  {
   "cell_type": "code",
   "execution_count": null,
   "metadata": {},
   "outputs": [],
   "source": []
  }
 ],
 "metadata": {
  "kernelspec": {
   "display_name": "2p_analysis_cottage",
   "language": "python",
   "name": "python3"
  },
  "language_info": {
   "codemirror_mode": {
    "name": "ipython",
    "version": 3
   },
   "file_extension": ".py",
   "mimetype": "text/x-python",
   "name": "python",
   "nbconvert_exporter": "python",
   "pygments_lexer": "ipython3",
   "version": "3.9.5"
  }
 },
 "nbformat": 4,
 "nbformat_minor": 2
}
