{
 "cells": [
  {
   "cell_type": "markdown",
   "metadata": {},
   "source": [
    "# Treadmill experiments"
   ]
  },
  {
   "cell_type": "code",
   "execution_count": null,
   "metadata": {},
   "outputs": [],
   "source": [
    "%load_ext autoreload\n",
    "%autoreload 2"
   ]
  },
  {
   "cell_type": "code",
   "execution_count": null,
   "metadata": {},
   "outputs": [],
   "source": [
    "project = \"colasa_3d-vision_revisions\""
   ]
  },
  {
   "cell_type": "code",
   "execution_count": null,
   "metadata": {},
   "outputs": [],
   "source": [
    "import flexiznam as flz\n",
    "\n",
    "flm_sess = flz.get_flexilims_session(project_id=project)\n",
    "mice = flz.get_entities(datatype='mouse', flexilims_session=flm_sess)\n",
    "print(f\"{len(mice)} mice in {project}\")"
   ]
  },
  {
   "cell_type": "code",
   "execution_count": null,
   "metadata": {},
   "outputs": [],
   "source": [
    "protocol_base = 'SpheresTubeMotor'\n",
    "\n",
    "treadmill_sessions = {}\n",
    "for mouse_name, mouse_data in mice.iterrows():\n",
    "    sessions = flz.get_children(parent_id=mouse_data.id, flexilims_session=flm_sess, children_datatype='session')\n",
    "    for session_name, sess_data in sessions.iterrows():\n",
    "        recordings = flz.get_children(parent_id=sess_data.id, flexilims_session=flm_sess, children_datatype='recording')\n",
    "        if protocol_base in recordings.protocol.values:\n",
    "            treadmill_sessions[session_name] = recordings\n",
    "print(f\"{len(treadmill_sessions)} sessions with treadmill data\")"
   ]
  },
  {
   "cell_type": "code",
   "execution_count": null,
   "metadata": {},
   "outputs": [],
   "source": [
    "protocol_base = 'SpheresTubeMotor'\n",
    "protocol_base = \"SpheresPermTubeReward\"\n",
    "for session_name, recordings in treadmill_sessions.items():\n",
    "    # Get the recordings that are  motor\n",
    "    recordings = recordings[recordings.protocol != protocol_base]\n",
    "    print(f\"{len(recordings)} sphere protocols\")\n",
    "    print(recordings.iloc[0].name)\n",
    "    break\n"
   ]
  },
  {
   "cell_type": "code",
   "execution_count": null,
   "metadata": {},
   "outputs": [],
   "source": [
    "import flexiznam as flz\n",
    "from cottage_analysis.analysis.spheres import *\n",
    "import flexiznam as flz\n",
    "from v1_depth_map.revisions import treadmill\n",
    "\n",
    "exclude_datasets = None\n",
    "\n",
    "harp_is_in_recording = True\n",
    "use_onix = False\n",
    "conflicts = \"skip\"\n",
    "sync_kwargs = None\n",
    "ephys_kwargs = None\n",
    "# We can just run the same pipeline. It will skip depth and rsof fit and just run the\n",
    "# the rf fit\n",
    "protocol_base = \"SpheresPermTubeReward\"\n",
    "flexilims_session = flz.get_flexilims_session(project_id=project)\n",
    "assert flexilims_session is not None or project is not None\n",
    "filter_datasets = {\"anatomical_only\": 3}\n",
    "recording_type = \"two_photon\"\n",
    "photodiode_protocol = 5\n",
    "return_volumes = True\n",
    "\n",
    "\n",
    "load_onix = False if recording_type == \"two_photon\" else True\n",
    "all_imaging_df = []\n",
    "for i, recording_name in enumerate(sorted(recordings.name)):\n",
    "    print(f\"Processing recording {i+1}/{len(recordings)}\")\n",
    "    recording, harp_recording, onix_rec = get_relevant_recordings(\n",
    "        recording_name, flexilims_session, harp_is_in_recording, load_onix\n",
    "    )        \n",
    "    vs_df = synchronisation.generate_vs_df(\n",
    "        recording=recording,\n",
    "        photodiode_protocol=photodiode_protocol,\n",
    "        flexilims_session=flexilims_session,\n",
    "        harp_recording=harp_recording,\n",
    "        onix_recording=onix_rec if use_onix else None,\n",
    "        project=project,\n",
    "        conflicts=conflicts,\n",
    "        sync_kwargs=sync_kwargs,\n",
    "        protocol_base=protocol_base,\n",
    "    )\n",
    "    imaging_df = synchronisation.generate_imaging_df(\n",
    "        vs_df=vs_df,\n",
    "        recording=recording,\n",
    "        flexilims_session=flexilims_session,\n",
    "        filter_datasets=filter_datasets,\n",
    "        exclude_datasets=exclude_datasets,\n",
    "        return_volumes=return_volumes,\n",
    "    )\n",
    "    imaging_df = format_imaging_df(imaging_df=imaging_df, recording=recording)\n",
    "    imaging_df = treadmill.process_imaging_df(imaging_df, trial_duration=2)\n",
    "    all_imaging_df.append(imaging_df)"
   ]
  },
  {
   "cell_type": "code",
   "execution_count": null,
   "metadata": {},
   "outputs": [],
   "source": [
    "imaging_df = pd.concat(all_imaging_df, ignore_index=True)"
   ]
  },
  {
   "cell_type": "code",
   "execution_count": null,
   "metadata": {},
   "outputs": [],
   "source": [
    "import matplotlib.pyplot as plt\n",
    "\n",
    "starts = imaging_df.query('is_trial_start')\n",
    "ends = imaging_df.query('is_trial_end')\n",
    "\n",
    "plt.figure(figsize=(7, 5))\n",
    "t0 = imaging_df.imaging_harptime.min()\n",
    "for i in range(2):\n",
    "    plt.subplot(2,1,1+i)\n",
    "    plt.plot(imaging_df.imaging_harptime-t0, imaging_df.MotorSpeed, label='Motor')\n",
    "    plt.plot(imaging_df.imaging_harptime-t0, imaging_df.RS*100, label='Actual')\n",
    "    plt.ylabel('Speed (cm/s)')\n",
    "    plt.ylim(-5, 70)\n",
    "    plt.scatter(ends.imaging_harptime-t0, ends.MotorSpeed, color='k')\n",
    "    plt.scatter(starts.imaging_harptime-t0, starts.MotorSpeed, color='g')\n",
    "plt.xlim(100, 255)\n",
    "plt.xlabel('Time (s)')\n",
    "plt.axvline(163, color='k', zorder=-10)\n",
    "plt.axvline(165, color='k', zorder=-10)\n",
    "plt.legend(loc='upper right')\n",
    "plt.tight_layout()"
   ]
  },
  {
   "cell_type": "code",
   "execution_count": null,
   "metadata": {},
   "outputs": [],
   "source": [
    "stim_df = imaging_df.query('is_stim')\n",
    "n_frames = stim_df.groupby(['MotorSpeed', 'optic_flow']).EyeZ.aggregate(len)\n",
    "avg = stim_df.groupby(['MotorSpeed', 'optic_flow']).aggregate('mean')\n",
    "\n",
    "motor_speeds = 2**np.arange(2,7)\n",
    "optic_flows =  4**np.arange(6)\n",
    "\n",
    "\n",
    "n_neurons = avg.dffs.iloc[0].shape[1]\n",
    "data = avg.dffs.unstack()\n",
    "output = np.zeros([len(motor_speeds), len(optic_flows), n_neurons])\n",
    "for ispeed, speed in enumerate(motor_speeds):\n",
    "    for iof, optic_flow in enumerate(optic_flows):\n",
    "        output[ispeed,iof, :] = data.loc[speed, optic_flow][0,:]\n",
    "n_frames.unstack().iloc[1:,1:]"
   ]
  },
  {
   "cell_type": "code",
   "execution_count": null,
   "metadata": {},
   "outputs": [],
   "source": [
    "fig, axes = plt.subplots(25, 25)\n",
    "fig.set_size_inches(20,20)\n",
    "for iax, ax in enumerate(axes.flatten()):\n",
    "    ax.imshow(output[..., iax].T, origin='lower')\n",
    "    ax.set_axis_off()"
   ]
  },
  {
   "cell_type": "code",
   "execution_count": null,
   "metadata": {},
   "outputs": [],
   "source": [
    "vis_stim_ds = flz.get_datasets(origin_id=harp_recording.id, flexilims_session=flm_sess, dataset_type='visstim', allow_multiple=False)\n",
    "vis_stim_ds"
   ]
  },
  {
   "cell_type": "code",
   "execution_count": null,
   "metadata": {},
   "outputs": [],
   "source": [
    "s = vis_stim_ds.path_full / vis_stim_ds.extra_attributes['csv_files']['FrameLog']\n",
    "frame_df = pd.read_csv(s)\n",
    "frame_df.head()"
   ]
  },
  {
   "cell_type": "code",
   "execution_count": null,
   "metadata": {},
   "outputs": [],
   "source": []
  }
 ],
 "metadata": {
  "kernelspec": {
   "language": "python"
  },
  "language_info": {
   "codemirror_mode": {
    "name": "ipython",
    "version": 3
   },
   "file_extension": ".py",
   "mimetype": "text/x-python",
   "name": "python",
   "nbconvert_exporter": "python",
   "pygments_lexer": "ipython3"
  }
 },
 "nbformat": 4,
 "nbformat_minor": 2
}
