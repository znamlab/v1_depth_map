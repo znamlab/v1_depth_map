{
 "cells": [
  {
   "cell_type": "markdown",
   "metadata": {},
   "source": [
    "# Treadmill experiments"
   ]
  },
  {
   "cell_type": "code",
   "execution_count": null,
   "metadata": {},
   "outputs": [],
   "source": [
    "%load_ext autoreload\n",
    "%autoreload 2"
   ]
  },
  {
   "cell_type": "code",
   "execution_count": null,
   "metadata": {},
   "outputs": [],
   "source": [
    "project = \"colasa_3d-vision_revisions\""
   ]
  },
  {
   "cell_type": "code",
   "execution_count": null,
   "metadata": {},
   "outputs": [],
   "source": [
    "import flexiznam as flz\n",
    "\n",
    "flm_sess = flz.get_flexilims_session(project_id=project)\n",
    "\n",
    "mice = flz.get_entities(datatype='mouse', flexilims_session=flm_sess)\n",
    "print(f\"{len(mice)} mice in {project}\")"
   ]
  },
  {
   "cell_type": "code",
   "execution_count": null,
   "metadata": {},
   "outputs": [],
   "source": [
    "protocol_base = 'SpheresTubeMotor'\n",
    "\n",
    "treadmill_sessions = {}\n",
    "all_sessions = flz.get_entities(datatype='session', flexilims_session=flm_sess)\n",
    "for mouse_name, mouse_data in mice.iterrows():\n",
    "    sessions = all_sessions[all_sessions.origin_id==mouse_data.id]\n",
    "    for session_name, sess_data in sessions.iterrows():\n",
    "        recordings = flz.get_children(parent_id=sess_data.id, flexilims_session=flm_sess, children_datatype='recording')\n",
    "        if not len(recordings):\n",
    "            print(f\"No recordings for session {session_name}\")\n",
    "            continue\n",
    "        if protocol_base in recordings.protocol.values:\n",
    "            treadmill_sessions[session_name] = recordings\n",
    "print(f\"{len(treadmill_sessions)} sessions with treadmill data\")"
   ]
  },
  {
   "cell_type": "code",
   "execution_count": null,
   "metadata": {},
   "outputs": [],
   "source": [
    "protocol_base = 'SpheresTubeMotor'\n",
    "protocol_base = \"SpheresPermTubeReward\"\n",
    "SESSION ='PZAG17.3a_S20250402'\n",
    "for session_name, recordings in treadmill_sessions.items():\n",
    "    # Get the recordings that are  motor\n",
    "    if session_name != SESSION:\n",
    "        continue\n",
    "    recordings = recordings[recordings.protocol != protocol_base]\n",
    "    print(f\"{len(recordings)} sphere protocols\")\n",
    "    print(recordings.iloc[0].name)\n",
    "    break\n",
    "\n",
    "\n"
   ]
  },
  {
   "cell_type": "code",
   "execution_count": null,
   "metadata": {},
   "outputs": [],
   "source": [
    "import flexiznam as flz\n",
    "from cottage_analysis.analysis.spheres import *\n",
    "import flexiznam as flz\n",
    "\n",
    "\n",
    "exclude_datasets = None\n",
    "\n",
    "harp_is_in_recording = True\n",
    "use_onix = False\n",
    "conflicts = \"skip\"\n",
    "sync_kwargs = None\n",
    "ephys_kwargs = None\n",
    "# We can just run the same pipeline. It will skip depth and rsof fit and just run the\n",
    "# the rf fit\n",
    "protocol_base = \"SpheresPermTubeReward\"\n",
    "flexilims_session = flz.get_flexilims_session(project_id=project)\n",
    "assert flexilims_session is not None or project is not None\n"
   ]
  },
  {
   "cell_type": "code",
   "execution_count": null,
   "metadata": {},
   "outputs": [],
   "source": [
    "from cottage_analysis.analysis import treadmill\n",
    "\n",
    "filter_datasets = {\"anatomical_only\": 3}\n",
    "recording_type = \"two_photon\"\n",
    "photodiode_protocol = 5\n",
    "return_volumes = True\n",
    "\n",
    "\n",
    "load_onix = False if recording_type == \"two_photon\" else True\n",
    "all_imaging_df = []\n",
    "for i, recording_name in enumerate(sorted(recordings.name)):\n",
    "    print(f\"Processing recording {i+1}/{len(recordings)}\")\n",
    "    recording, harp_recording, onix_rec = get_relevant_recordings(\n",
    "        recording_name, flexilims_session, harp_is_in_recording, load_onix\n",
    "    )        \n",
    "    vs_df = synchronisation.generate_vs_df(\n",
    "        recording=recording,\n",
    "        photodiode_protocol=photodiode_protocol,\n",
    "        flexilims_session=flexilims_session,\n",
    "        harp_recording=harp_recording,\n",
    "        onix_recording=onix_rec if use_onix else None,\n",
    "        project=project,\n",
    "        conflicts=conflicts,\n",
    "        sync_kwargs=sync_kwargs,\n",
    "        protocol_base=protocol_base,\n",
    "    )\n",
    "    imaging_df = synchronisation.generate_imaging_df(\n",
    "        vs_df=vs_df,\n",
    "        recording=recording,\n",
    "        flexilims_session=flexilims_session,\n",
    "        filter_datasets=filter_datasets,\n",
    "        exclude_datasets=exclude_datasets,\n",
    "        return_volumes=return_volumes,\n",
    "    )\n",
    "    imaging_df = format_imaging_df(imaging_df=imaging_df, recording=recording)\n",
    "    imaging_df = treadmill.process_imaging_df(imaging_df, trial_duration=2)\n",
    "    all_imaging_df.append(imaging_df)"
   ]
  },
  {
   "cell_type": "code",
   "execution_count": null,
   "metadata": {},
   "outputs": [],
   "source": [
    "imaging_df = pd.concat(all_imaging_df, ignore_index=True)"
   ]
  },
  {
   "cell_type": "code",
   "execution_count": null,
   "metadata": {},
   "outputs": [],
   "source": [
    "import matplotlib.pyplot as plt\n",
    "\n",
    "starts = imaging_df.query('is_trial_start')\n",
    "ends = imaging_df.query('is_trial_end')\n",
    "\n",
    "plt.figure(figsize=(7, 5))\n",
    "t0 = imaging_df.imaging_harptime.min()\n",
    "for i in range(2):\n",
    "    plt.subplot(2,1,1+i)\n",
    "    plt.plot(imaging_df.imaging_harptime-t0, imaging_df.MotorSpeed, label='Motor')\n",
    "    plt.plot(imaging_df.imaging_harptime-t0, imaging_df.RS*100, label='Actual')\n",
    "    plt.ylabel('Speed (cm/s)')\n",
    "    plt.ylim(-5, 70)\n",
    "    plt.scatter(ends.imaging_harptime-t0, ends.MotorSpeed, color='k')\n",
    "    plt.scatter(starts.imaging_harptime-t0, starts.MotorSpeed, color='g')\n",
    "plt.xlim(100, 255)\n",
    "plt.xlabel('Time (s)')\n",
    "plt.axvline(163, color='k', zorder=-10)\n",
    "plt.axvline(165, color='k', zorder=-10)\n",
    "plt.legend(loc='upper right')\n",
    "plt.tight_layout()"
   ]
  },
  {
   "cell_type": "code",
   "execution_count": null,
   "metadata": {},
   "outputs": [],
   "source": [
    "from cottage_analysis.analysis import spheres\n",
    "from cottage_analysis.analysis import treadmill\n",
    "vs_df, trials_df = treadmill.sync_all_recordings(\n",
    "    session_name=session_name,\n",
    "    flexilims_session=flexilims_session,\n",
    "    project=project,\n",
    "    filter_datasets={\"anatomical_only\": 3},\n",
    "    recording_type=\"two_photon\",\n",
    "    photodiode_protocol=5,\n",
    "    return_volumes=True,\n",
    ")\n"
   ]
  },
  {
   "cell_type": "code",
   "execution_count": null,
   "metadata": {},
   "outputs": [],
   "source": [
    "trials_df.shape"
   ]
  },
  {
   "cell_type": "code",
   "execution_count": null,
   "metadata": {},
   "outputs": [],
   "source": [
    "trials_df['MotorSpeed'] = np.round(treadmill.sps2speed(trials_df['MotorSps_stim'].apply(np.nanmedian).values))\n",
    "trials_df['expected_optic_flow'] = np.round(trials_df['expected_optic_flow_stim'].apply(np.nanmedian).values)\n",
    "\n",
    "trials_df.groupby(['MotorSpeed', 'expected_optic_flow']).aggregate(len)['trial_no'].unstack()\n"
   ]
  },
  {
   "cell_type": "code",
   "execution_count": null,
   "metadata": {},
   "outputs": [],
   "source": [
    "suite2p_ds = flz.get_datasets_recursively(\n",
    "    flexilims_session=flexilims_session,\n",
    "    origin_name=session_name,\n",
    "    dataset_type=\"suite2p_traces\",\n",
    ")\n",
    "suite2p_ds = list(suite2p_ds.values())[0][-1]\n",
    "fs = suite2p_ds.extra_attributes[\"fs\"]\n"
   ]
  },
  {
   "cell_type": "code",
   "execution_count": null,
   "metadata": {},
   "outputs": [],
   "source": [
    "suite2p_ds.path_full"
   ]
  },
  {
   "cell_type": "code",
   "execution_count": null,
   "metadata": {},
   "outputs": [],
   "source": [
    "import matplotlib.pyplot as plt\n",
    "from tqdm import tqdm\n",
    "\n",
    "fig_folder = suite2p_ds.path_full.parent.parent / 'motor_analysis'\n",
    "fig_folder.mkdir(exist_ok=True)\n",
    "\n",
    "motor_speeds = 2**np.arange(2,7)\n",
    "optic_flows =  4**np.arange(6)\n",
    "all_dffs = np.vstack(trials_df.dff_stim.values)\n",
    "total_mean = np.nanmean(all_dffs, axis=0)\n",
    "total_std = np.nanstd(all_dffs, axis=0)\n",
    "\n",
    "roi = 514\n",
    "\n",
    "fig, axes = plt.subplots(len(optic_flows), len(motor_speeds), figsize=(10, 10))\n",
    "nrois = trials_df.dff_stim.iloc[0].shape[1]\n",
    "for roi in tqdm(range(nrois)):\n",
    "    ymin = 0\n",
    "    ymax = 0.05\n",
    "\n",
    "    for x in axes.flatten():\n",
    "        x.clear()\n",
    "    for (motor, optic_flow), df in trials_df.groupby(['MotorSpeed', 'expected_optic_flow']):\n",
    "        dffs = df.dff_stim.values\n",
    "        shapes = np.vstack([dff.shape for dff in dffs])\n",
    "        m = np.min(shapes[:,0])\n",
    "        dffs = np.stack([dff[:m,:] for dff in dffs])\n",
    "        avg = np.nanmean(dffs, axis=0)\n",
    "        std = np.nanstd(dffs, axis=0)\n",
    "\n",
    "        m_index = list(motor_speeds).index(motor)\n",
    "        of_index = list(optic_flows).index(optic_flow)\n",
    "        ax = axes[len(optic_flows)-of_index-1, m_index]\n",
    "        #ax.set_title(f\"M: {motor}, OF: {optic_flow}\")\n",
    "        time = np.arange(avg.shape[0]) / fs\n",
    "        # ax.fill_between(time, avg[:,roi]-std[:,roi], avg[:,roi]+std[:,roi], alpha=0.5, color='k')\n",
    "        ax.plot(time, dffs[...,roi].T, color='k', lw=1, alpha=0.7)\n",
    "        ax.plot(time, avg[:,roi], color='darkorchid', lw=2)\n",
    "        ax.set_xlim(time.min(), time.max())\n",
    "        ymin = min(ymin, dffs[...,roi].min())\n",
    "        ymax = max(ymax, dffs[...,roi].max())\n",
    "\n",
    "    for x in axes.flatten():\n",
    "        x.set_ylim(ymin, ymax*1.05)\n",
    "    for i, m in enumerate(motor_speeds):\n",
    "        axes[0, i].set_title(f'{int(m)} cm/s')\n",
    "        axes[-1, i].set_xlabel('Time (s)')\n",
    "    for i, m in enumerate(optic_flows):\n",
    "        axes[len(optic_flows)-i-1, 0].set_ylabel(f'OF: {int(m)} deg/s \\n dF/F')\n",
    "    fig.suptitle(f\"{session_name} roi {roi}\")\n",
    "    fig.tight_layout()\n",
    "    fig.savefig(fig_folder / f'psth_roi{roi}.png')"
   ]
  },
  {
   "cell_type": "code",
   "execution_count": null,
   "metadata": {},
   "outputs": [],
   "source": [
    "4*5"
   ]
  },
  {
   "cell_type": "code",
   "execution_count": null,
   "metadata": {},
   "outputs": [],
   "source": [
    "stim_df = imaging_df.query('is_stim')\n",
    "n_frames = stim_df.groupby(['MotorSpeed', 'expected_optic_flow']).dffs.aggregate(len)\n",
    "avg = stim_df.groupby(['MotorSpeed', 'expected_optic_flow']).aggregate('mean')\n",
    "\n",
    "motor_speeds = 2**np.arange(2,7)\n",
    "optic_flows =  4**np.arange(6)\n",
    "\n",
    "def compute_motor_of_matrix(df, motor_speeds=motor_speeds, optic_flows=optic_flows):\n",
    "    avg = df.groupby(['MotorSpeed', 'expected_optic_flow']).aggregate('mean')\n",
    "    data = avg.dffs.unstack()\n",
    "    n_neurons = df.dffs.iloc[0].shape[1]\n",
    "    output = np.zeros([len(motor_speeds), len(optic_flows), n_neurons])\n",
    "    for ispeed, speed in enumerate(motor_speeds):\n",
    "        for iof, optic_flow in enumerate(optic_flows):\n",
    "            output[ispeed,iof, :] = data.loc[speed, optic_flow][0,:]\n",
    "    return output\n",
    "\n",
    "output = compute_motor_of_matrix(stim_df)"
   ]
  },
  {
   "cell_type": "code",
   "execution_count": null,
   "metadata": {},
   "outputs": [],
   "source": [
    "# Compute global mean and std for z-scoring\n",
    "all_dffs = np.dstack(imaging_df.dffs)[0]\n",
    "total_mean = np.nanmean(all_dffs, axis=1)\n",
    "total_std = np.nanstd(all_dffs, axis=1)\n",
    "zscores_max =  (np.max(output, axis=(0,1))- total_mean) / total_std\n",
    "order = np.argsort(zscores_max)[::-1]\n"
   ]
  },
  {
   "cell_type": "code",
   "execution_count": null,
   "metadata": {},
   "outputs": [],
   "source": [
    "roi = 514\n",
    "\n",
    "for (motor, of), df in stim_df.groupby(['MotorSpeed', 'expected_optic_flow']):\n",
    "    dff = np.dstack(df.dffs.values)\n",
    "dff.shape\n"
   ]
  },
  {
   "cell_type": "code",
   "execution_count": null,
   "metadata": {},
   "outputs": [],
   "source": [
    "from mpl_toolkits.axes_grid1.axes_divider import make_axes_locatable\n",
    "\n",
    "min_motor=0\n",
    "range_motor = np.diff(np.log2(motor_speeds)[[0,-1]])[0]\n",
    "range_of = np.diff(np.log2(optic_flows)[[0,-1]])[0]\n",
    "min_of = 0\n",
    "print(f'Motor range: {range_motor}, optic flow range: {range_of}')\n",
    "fig, ax = plt.subplots(1,1)\n",
    "\n",
    "ax_cb = make_axes_locatable(ax)\n",
    "# Add an Axes to the right of the main Axes.\n",
    "cax1 = ax_cb.append_axes(\"right\", size=\"7%\", pad=\"2%\")\n",
    "\n",
    "data = output[..., roi]\n",
    "img = ax.imshow(data.T, origin='lower', vmin=0, vmax=data.max(), cmap='viridis', \n",
    "                extent=(min_motor, range_motor, min_of, range_of))\n",
    "ax.set_xticks(np.linspace(min_motor+0.5, range_motor-0.5, len(motor_speeds)))\n",
    "ax.set_xticklabels(motor_speeds)\n",
    "ax.set_yticks(np.linspace(min_of+0.5, range_of-0.5, len(optic_flows)))\n",
    "ax.set_yticklabels(optic_flows)\n",
    "cb1 = fig.colorbar(img, cax=cax1)\n",
    "cb1.set_label('DFF')\n",
    "ax.set_xlabel('Motor speed (cm/s)')\n",
    "ax.set_ylabel('Optic flow (degrees/s)')"
   ]
  },
  {
   "cell_type": "code",
   "execution_count": null,
   "metadata": {},
   "outputs": [],
   "source": [
    "from mpl_toolkits.axes_grid1.axes_divider import make_axes_locatable\n",
    "\n",
    "\n",
    "min_motor=0\n",
    "range_motor = np.diff(np.log2(motor_speeds)[[0,-1]])[0]\n",
    "range_of = np.diff(np.log2(optic_flows)[[0,-1]])[0]\n",
    "min_of = 0\n",
    "print(f'Motor range: {range_motor}, optic flow range: {range_of}')\n",
    "fig, ax = plt.subplots(1,1)\n",
    "ax_cb = make_axes_locatable(ax)\n",
    "# Add an Axes to the right of the main Axes.\n",
    "cax1 = ax_cb.append_axes(\"right\", size=\"7%\", pad=\"2%\")\n",
    "\n",
    "\n",
    "data = (output[..., roi] - total_mean[roi]) / total_std[roi]\n",
    "img = ax.imshow(data.T, origin='lower', vmin=-data.max(), vmax=data.max(), cmap='RdBu_r', \n",
    "                extent=(min_motor, range_motor, min_of, range_of))\n",
    "ax.set_xticks(np.linspace(min_motor+0.5, range_motor-0.5, len(motor_speeds)))\n",
    "ax.set_xticklabels(motor_speeds)\n",
    "ax.set_yticks(np.linspace(min_of+0.5, range_of-0.5, len(optic_flows)))\n",
    "ax.set_yticklabels(optic_flows)\n",
    "cb1 = fig.colorbar(img, cax=cax1)\n",
    "cb1.set_label('Zscored DFF')\n",
    "ax.set_xlabel('Motor speed (cm/s)')\n",
    "ax.set_ylabel('Optic flow (degrees/s)')"
   ]
  },
  {
   "cell_type": "code",
   "execution_count": null,
   "metadata": {},
   "outputs": [],
   "source": [
    "aspect_ratio = range_motor/range_of\n",
    "fig, axes = plt.subplots(25, 25)\n",
    "fig.set_size_inches(20,20/ aspect_ratio)\n",
    "do_zscore = True\n",
    "for iax, ax in enumerate(axes.flatten()):\n",
    "    roi = order[iax]\n",
    "    if do_zscore:\n",
    "        data = (output[..., roi] - total_mean[roi]) / total_std[roi]\n",
    "        m = max(2, data.max())\n",
    "        vmin = -m\n",
    "        vmax = m\n",
    "        cmap = 'RdBu_r'\n",
    "    else:\n",
    "        data = output[..., roi]\n",
    "        vmax = max(output[..., roi].max(), 0.1)\n",
    "        vmin=0\n",
    "        cmap= 'viridis'\n",
    "    im = ax.imshow(data.T, origin='lower', vmax=vmax, vmin=vmin, cmap=cmap,extent=(min_motor, range_motor, min_of, range_of))\n",
    "    ax.set_xticks([])\n",
    "    ax.set_yticks([])\n",
    "    ax.set_title(roi)\n",
    "plt.subplots_adjust(wspace=0, hspace=0.01)\n",
    "plt.tight_layout()"
   ]
  },
  {
   "cell_type": "code",
   "execution_count": null,
   "metadata": {},
   "outputs": [],
   "source": [
    "s = vis_stim_ds.path_full / vis_stim_ds.extra_attributes['csv_files']['FrameLog']\n",
    "frame_df = pd.read_csv(s)\n",
    "frame_df.head()"
   ]
  },
  {
   "cell_type": "code",
   "execution_count": null,
   "metadata": {},
   "outputs": [],
   "source": []
  }
 ],
 "metadata": {
  "kernelspec": {
   "language": "python"
  },
  "language_info": {
   "codemirror_mode": {
    "name": "ipython",
    "version": 3
   },
   "file_extension": ".py",
   "mimetype": "text/x-python",
   "name": "python",
   "nbconvert_exporter": "python",
   "pygments_lexer": "ipython3"
  }
 },
 "nbformat": 4,
 "nbformat_minor": 2
}
