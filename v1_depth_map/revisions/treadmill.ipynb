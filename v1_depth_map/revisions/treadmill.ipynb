{
 "cells": [
  {
   "cell_type": "markdown",
   "metadata": {},
   "source": [
    "# Treadmill experiments"
   ]
  },
  {
   "cell_type": "code",
   "execution_count": null,
   "metadata": {},
   "outputs": [],
   "source": [
    "%load_ext autoreload\n",
    "%autoreload 2"
   ]
  },
  {
   "cell_type": "code",
   "execution_count": null,
   "metadata": {},
   "outputs": [],
   "source": [
    "project = \"colasa_3d-vision_revisions\""
   ]
  },
  {
   "cell_type": "code",
   "execution_count": null,
   "metadata": {},
   "outputs": [],
   "source": [
    "import flexiznam as flz\n",
    "\n",
    "flm_sess = flz.get_flexilims_session(project_id=project)\n",
    "mice = flz.get_entities(datatype='mouse', flexilims_session=flm_sess)\n",
    "print(f\"{len(mice)} mice in {project}\")"
   ]
  },
  {
   "cell_type": "code",
   "execution_count": null,
   "metadata": {},
   "outputs": [],
   "source": [
    "protocol_base = 'SpheresTubeMotor'\n",
    "\n",
    "treadmill_sessions = {}\n",
    "for mouse_name, mouse_data in mice.iterrows():\n",
    "    sessions = flz.get_children(parent_id=mouse_data.id, flexilims_session=flm_sess, children_datatype='session')\n",
    "    for session_name, sess_data in sessions.iterrows():\n",
    "        recordings = flz.get_children(parent_id=sess_data.id, flexilims_session=flm_sess, children_datatype='recording')\n",
    "        if protocol_base in recordings.protocol.values:\n",
    "            treadmill_sessions[session_name] = recordings\n",
    "print(f\"{len(treadmill_sessions)} sessions with treadmill data\")"
   ]
  },
  {
   "cell_type": "code",
   "execution_count": null,
   "metadata": {},
   "outputs": [],
   "source": [
    "protocol_base = 'SpheresTubeMotor'\n",
    "for session_name, recordings in treadmill_sessions.items():\n",
    "    # Get the recordings that are not more\n",
    "    recordings = recordings[recordings.protocol != protocol_base]\n",
    "    print(f\"{len(recordings)} sphere protocols\")\n",
    "    break\n",
    "    "
   ]
  },
  {
   "cell_type": "code",
   "execution_count": null,
   "metadata": {},
   "outputs": [],
   "source": [
    "import flexiznam as flz\n",
    "from cottage_analysis.analysis.spheres import *\n",
    "import flexiznam as flz\n",
    "\n",
    "exclude_datasets = None\n",
    "\n",
    "harp_is_in_recording = True\n",
    "use_onix = False\n",
    "conflicts = \"skip\"\n",
    "sync_kwargs = None\n",
    "ephys_kwargs = None\n",
    "# We can just run the same pipeline. It will skip depth and rsof fit and just run the\n",
    "# the rf fit\n",
    "protocol_base = \"SpheresPermTubeReward\"\n",
    "flexilims_session = flz.get_flexilims_session(project_id=project)\n",
    "assert flexilims_session is not None or project is not None\n",
    "filter_datasets = {\"anatomical_only\": 3}\n",
    "recording_type = \"two_photon\"\n",
    "photodiode_protocol = 5\n",
    "return_volumes = True\n",
    "\n",
    "\n",
    "load_onix = False if recording_type == \"two_photon\" else True\n",
    "for i, recording_name in enumerate(recordings.name):\n",
    "    print(f\"Processing recording {i+1}/{len(recordings)}\")\n",
    "    recording, harp_recording, onix_rec = get_relevant_recordings(\n",
    "        recording_name, flexilims_session, harp_is_in_recording, load_onix\n",
    "    )        \n",
    "    vs_df = synchronisation.generate_vs_df(\n",
    "        recording=recording,\n",
    "        photodiode_protocol=photodiode_protocol,\n",
    "        flexilims_session=flexilims_session,\n",
    "        harp_recording=harp_recording,\n",
    "        onix_recording=onix_rec if use_onix else None,\n",
    "        project=project,\n",
    "        conflicts=conflicts,\n",
    "        sync_kwargs=sync_kwargs,\n",
    "        protocol_base=protocol_base,\n",
    "    )\n",
    "    imaging_df = synchronisation.generate_imaging_df(\n",
    "        vs_df=vs_df,\n",
    "        recording=recording,\n",
    "        flexilims_session=flexilims_session,\n",
    "        filter_datasets=filter_datasets,\n",
    "        exclude_datasets=exclude_datasets,\n",
    "        return_volumes=return_volumes,\n",
    "    )\n",
    "    imaging_df = format_imaging_df(imaging_df=imaging_df, recording=recording)"
   ]
  },
  {
   "cell_type": "code",
   "execution_count": null,
   "metadata": {},
   "outputs": [],
   "source": [
    "imaging_df.columns"
   ]
  },
  {
   "cell_type": "code",
   "execution_count": null,
   "metadata": {},
   "outputs": [],
   "source": [
    "recording_name"
   ]
  },
  {
   "cell_type": "code",
   "execution_count": null,
   "metadata": {},
   "outputs": [],
   "source": [
    "harp_recording"
   ]
  },
  {
   "cell_type": "code",
   "execution_count": null,
   "metadata": {},
   "outputs": [],
   "source": [
    "vis_stim_ds = flz.get_datasets(origin_id=harp_recording.id, flexilims_session=flm_sess, dataset_type='visstim', allow_multiple=False)\n",
    "vis_stim_ds"
   ]
  },
  {
   "cell_type": "code",
   "execution_count": null,
   "metadata": {},
   "outputs": [],
   "source": [
    "vis_stim_ds.extra_attributes"
   ]
  },
  {
   "cell_type": "code",
   "execution_count": null,
   "metadata": {},
   "outputs": [],
   "source": [
    "s = vis_stim_ds.path_full / vis_stim_ds.extra_attributes['csv_files']['FrameLog']\n",
    "frame_df = pd.read_csv(s)\n",
    "frame_df.head()"
   ]
  },
  {
   "cell_type": "code",
   "execution_count": null,
   "metadata": {},
   "outputs": [],
   "source": []
  }
 ],
 "metadata": {
  "kernelspec": {
   "language": "python"
  },
  "language_info": {
   "codemirror_mode": {
    "name": "ipython",
    "version": 3
   },
   "file_extension": ".py",
   "mimetype": "text/x-python",
   "name": "python",
   "nbconvert_exporter": "python",
   "pygments_lexer": "ipython3"
  }
 },
 "nbformat": 4,
 "nbformat_minor": 2
}
