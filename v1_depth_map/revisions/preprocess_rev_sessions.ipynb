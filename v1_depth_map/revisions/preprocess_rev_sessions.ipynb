{
 "cells": [
  {
   "cell_type": "markdown",
   "metadata": {},
   "source": [
    "# Preprocessing of revision experiments\n",
    "\n",
    "This notebook contains the preprocessing steps for the revision experiments. It lists\n",
    "the expected sessions and checks that they exists on flexilims"
   ]
  },
  {
   "cell_type": "code",
   "execution_count": 1,
   "metadata": {},
   "outputs": [
    {
     "name": "stdout",
     "output_type": "stream",
     "text": [
      "29 sessions to analyze\n"
     ]
    }
   ],
   "source": [
    "sessions = {\n",
    "    \"PZAG17.3a_S20250402\": \"motor\",\n",
    "    \"PZAG17.3a_S20250319\": \"multidepth\",\n",
    "    \"PZAG17.3a_S20250306\": \"spheretube_5\",\n",
    "    \"PZAG17.3a_S20250305\": \"spheretube_4\",\n",
    "    \"PZAG17.3a_S20250303\": \"spheretube_3\",\n",
    "    \"PZAG17.3a_S20250228\": \"spheretube_2\",\n",
    "    \"PZAG17.3a_S20250227\": \"spheretube_1\",\n",
    "    \"PZAG16.3c_S20250401\": \"motor\",\n",
    "    \"PZAG16.3c_S20250317\": \"multidepth\",\n",
    "    \"PZAG16.3c_S20250313\": \"spheretube_5\",\n",
    "    \"PZAG16.3c_S20250310\": \"spheretube_4\",\n",
    "    \"PZAG16.3c_S20250221\": \"spheretube_3\",\n",
    "    \"PZAG16.3c_S20250220\": \"spheretube_2\",\n",
    "    \"PZAG16.3c_S20250219\": \"spheretube_1\",\n",
    "    \"PZAG16.3b_S20250401\": \"motor\",\n",
    "    \"PZAG16.3b_S20250317\": \"multidepth\",\n",
    "    \"PZAG16.3b_S20250313\": \"spheretube_5\",\n",
    "    \"PZAG16.3b_S20250310\": \"spheretube_4\",\n",
    "    \"PZAG16.3b_S20250226\": \"spheretube_3\",\n",
    "    \"PZAG16.3b_S20250225\": \"spheretube_2\",\n",
    "    \"PZAG16.3b_S20250224\": \"spheretube_1\",\n",
    "    \"PZAH17.1e_S20250403\": \"motor\",\n",
    "    \"PZAH17.1e_S20250318\": \"multidepth\",\n",
    "    \"PZAH17.1e_S20250313\": \"multidepth\",\n",
    "    \"PZAH17.1e_S20250311\": \"spheretube_5\",\n",
    "    \"PZAH17.1e_S20250307\": \"spheretube_4\",\n",
    "    \"PZAH17.1e_S20250306\": \"spheretube_3\",\n",
    "    \"PZAH17.1e_S20250305\": \"spheretube_2\",\n",
    "    \"PZAH17.1e_S20250304\": \"spheretube_1\",\n",
    "}\n",
    "\n",
    "print(f\"{len(sessions)} sessions to analyze\")"
   ]
  },
  {
   "cell_type": "code",
   "execution_count": 2,
   "metadata": {},
   "outputs": [
    {
     "name": "stdout",
     "output_type": "stream",
     "text": [
      "29/29 valid sessions to analyze\n"
     ]
    }
   ],
   "source": [
    "import flexiznam as flz\n",
    "\n",
    "project = \"colasa_3d-vision_revisions\"\n",
    "TEMPORARY_FIX = True\n",
    "flm_sess = flz.get_flexilims_session(project_id=project)\n",
    "if TEMPORARY_FIX:\n",
    "    all_sessions = flz.get_entities(datatype=\"session\", flexilims_session=flm_sess)\n",
    "\n",
    "valid_sessions = dict()\n",
    "for session, protocol in sessions.items():\n",
    "    if TEMPORARY_FIX:\n",
    "        sess = all_sessions[all_sessions[\"name\"] == session]\n",
    "        if not len(sess):\n",
    "            sess = None\n",
    "        else:\n",
    "            assert len(sess) == 1\n",
    "            sess = sess.iloc[0]\n",
    "    else:\n",
    "        sess = flz.get_entity(name=session, project_id=project, datatype=\"session\")\n",
    "    if sess is None:\n",
    "        print(f\"Session {session} doesn't exist\")\n",
    "        continue\n",
    "    valid_sessions[session] = [sess, protocol]\n",
    "print(f\"{len(valid_sessions)}/{len(sessions)} valid sessions to analyze\")"
   ]
  },
  {
   "cell_type": "code",
   "execution_count": 3,
   "metadata": {},
   "outputs": [],
   "source": [
    "# Now check that we have the recordings we need\n",
    "for session_name, (session, protocol) in valid_sessions.items():\n",
    "    # Get recordings children of the session\n",
    "    recordings = flz.get_children(\n",
    "        session.id, children_datatype=\"recording\", flexilims_session=flm_sess\n",
    "    )\n",
    "    if not len(recordings):\n",
    "        print(f\"No recordings for session {session_name}\")\n",
    "        continue\n",
    "    assert (\n",
    "        \"SpheresPermTubeReward\" in recordings.protocol.values\n",
    "    ), f\"Session {session_name} doesn't have the Sphere protocol\"\n",
    "    if protocol == \"motor\":\n",
    "        assert (\n",
    "            \"SpheresTubeMotor\" in recordings.protocol.values\n",
    "        ), f\"Session {session_name} doesn't have the motor protocol\"\n",
    "    elif protocol == \"multidepth\":\n",
    "        assert (\n",
    "            \"SpheresPermTubeReward_multidepth\" in recordings.protocol.values\n",
    "        ), f\"Session {session_name} doesn't have the multidepth protocol\""
   ]
  },
  {
   "cell_type": "code",
   "execution_count": 4,
   "metadata": {},
   "outputs": [
    {
     "name": "stdout",
     "output_type": "stream",
     "text": [
      "Session PZAH17.1e_S20250318 doesn't have a suite2p dataset\n",
      "1 sessions don't have a suite2p dataset\n",
      "28 sessions to analyze after removing bad sessions\n"
     ]
    }
   ],
   "source": [
    "# There should be a suite2p dataset for each session\n",
    "bad_sessions = []\n",
    "for session_name, (session, protocol) in valid_sessions.items():\n",
    "    # Get recordings children of the session\n",
    "    suite2p_dataset = flz.get_entity(\n",
    "        project_id=project,\n",
    "        datatype=\"dataset\",\n",
    "        origin_id=session.id,\n",
    "        query_key=\"dataset_type\",\n",
    "        query_value=\"suite2p_rois\",\n",
    "    )\n",
    "    if suite2p_dataset is None:\n",
    "        print(f\"Session {session_name} doesn't have a suite2p dataset\")\n",
    "        bad_sessions.append(session_name)\n",
    "\n",
    "print(f\"{len(bad_sessions)} sessions don't have a suite2p dataset\")\n",
    "# remove them from valid_sessions\n",
    "for session_name in bad_sessions:\n",
    "    del valid_sessions[session_name]\n",
    "print(f\"{len(valid_sessions)} sessions to analyze after removing bad sessions\")"
   ]
  },
  {
   "cell_type": "code",
   "execution_count": 5,
   "metadata": {},
   "outputs": [],
   "source": [
    "# To re-run suite2p see `revisions/run_suite2p.py`\n",
    "\n",
    "# It is in a separate file as it uses a different conda environment (because of suite2p)"
   ]
  },
  {
   "cell_type": "code",
   "execution_count": null,
   "metadata": {},
   "outputs": [
    {
     "name": "stdout",
     "output_type": "stream",
     "text": [
      "------------------------------- \n",
      "         Start analysing PZAG16.3c_S20250317   \n",
      "         -------------------------------\n",
      "---Start synchronisation...---\n",
      "Processing recording 1/2\n",
      "Loading existing monitor frames...\n",
      "Removing frames in wrong order of frame indices.\n",
      "Removed 2510 frames including:\n",
      "0 negative diffs.\n",
      "2510 duplicates.\n",
      "Removed 0 frames including:\n",
      "0 negative diffs.\n",
      "0 duplicates.\n",
      "2 frames are not 0.0657 s\n",
      "ImagingFrames in video: 58122\n",
      "ImagingFrame triggers: 58123\n",
      "WARNING: SAVED VIDEO FRAMES ARE 1 FRAME LESS THAN FRAME TRIGGERS!!!\n",
      "Processing recording 2/2\n"
     ]
    },
    {
     "name": "stderr",
     "output_type": "stream",
     "text": [
      "/nemo/lab/znamenskiyp/home/users/blota/code/cottage_analysis/cottage_analysis/io_module/harp.py:133: UserWarning: No di_names provided or found in extra_attributes. Using default.\n",
      "  warnings.warn(\n"
     ]
    },
    {
     "name": "stdout",
     "output_type": "stream",
     "text": [
      "Saving harp messages into npz...\n"
     ]
    },
    {
     "name": "stderr",
     "output_type": "stream",
     "text": [
      "Reading harp messages: 100%|█████████▉| 56.1M/56.1M [00:37<00:00, 1.48Mbits/s]\n"
     ]
    },
    {
     "name": "stdout",
     "output_type": "stream",
     "text": [
      "Harp messages saved.\n",
      "Recording is 3416 s long.\n",
      "Frame rate is 143 Hz.\n",
      "Found 378430 frames out of 432480 render (12.50%, 54050 dropped)\n",
      "Starting crosscorrelation\n"
     ]
    },
    {
     "name": "stderr",
     "output_type": "stream",
     "text": [
      "100%|██████████| 378430/378430 [03:22<00:00, 1873.31it/s]"
     ]
    },
    {
     "name": "stdout",
     "output_type": "stream",
     "text": [
      "done (202 s)\n"
     ]
    },
    {
     "name": "stderr",
     "output_type": "stream",
     "text": [
      "\n"
     ]
    },
    {
     "name": "stdout",
     "output_type": "stream",
     "text": [
      "Adding cross correlation results to dataframe\n",
      "Matching fit to logger\n",
      "Sync'ed 291535 frames easily. That's 77% of the recording.\n",
      "56513 frames cannot be sync'ed. That's 14.9% of the recording.\n",
      "Sync'ed 23591 frames based on relative peak corr coeff. That's 6.2% of the recording.\n",
      "Sync'ed 6791 frames based on photodiode value. That's 1.8% of the recording.\n",
      "done (5 s)\n",
      "957 frames of by one and will be fixed 38.5%\n",
      "452 frames are double and will be removed. That's 18.2% of the cases where the closest frame is the same.\n",
      "Found 89995 consensus frames\n",
      "Found 65337 frames with residuals < 0.08\n",
      "Found 320511 frames with non-nan closest_frame\n",
      "40641/377978 frames left for interpolation\n",
      "Found 0 out of order frames\n",
      "40641/377978 frames left\n",
      "Found 0 out of order frames and 40104 frames matching the same index after interpolation\n",
      "11997 frames of by one and will be fixed 29.9%\n",
      "18000 frames are double and will be removed. That's 44.9% of the cases where the closest frame is the same.\n",
      "Plotting diagnostic figures\n",
      "Removing frames in wrong order of frame indices.\n",
      "Removed 1582 frames including:\n",
      "0 negative diffs.\n",
      "1582 duplicates.\n",
      "Removed 0 frames including:\n",
      "0 negative diffs.\n",
      "0 duplicates.\n",
      "2 frames are not 0.0657 s\n",
      "ImagingFrames in video: 51695\n",
      "ImagingFrame triggers: 51696\n",
      "WARNING: SAVED VIDEO FRAMES ARE 1 FRAME LESS THAN FRAME TRIGGERS!!!\n",
      "Finished concatenating vs_df and trials_df\n",
      "---Start finding depth neurons...---\n",
      "Find depth neurons...\n"
     ]
    },
    {
     "name": "stderr",
     "output_type": "stream",
     "text": [
      "100%|██████████| 1760/1760 [00:02<00:00, 786.79it/s]\n"
     ]
    },
    {
     "name": "stdout",
     "output_type": "stream",
     "text": [
      "Fit preferred depth...\n",
      "Fit preferred depth...\n"
     ]
    },
    {
     "name": "stderr",
     "output_type": "stream",
     "text": [
      "100%|██████████| 1760/1760 [08:48<00:00,  3.33it/s]\n",
      "/nemo/lab/znamenskiyp/home/users/blota/code/cottage_analysis/cottage_analysis/analysis/common_utils.py:208: FutureWarning: The behavior of DataFrame concatenation with empty or all-NA entries is deprecated. In a future version, this will no longer exclude empty or all-NA columns when determining the result dtypes. To retain the old behavior, exclude the relevant entries before the concat operation.\n",
      "  trials_df_chosen = pd.concat([trials_df_chosen, trials_df_depth])\n",
      "100%|██████████| 1760/1760 [12:09<00:00,  2.41it/s]\n",
      " 45%|████▍     | 789/1760 [19:41<1:15:03,  4.64s/it]/nemo/lab/znamenskiyp/home/users/blota/code/cottage_analysis/cottage_analysis/analysis/fit_gaussian_blob.py:124: RuntimeWarning: overflow encountered in exp\n",
      "  sigma_x_sq = np.exp(log_sigma_x2) + min_sigma\n",
      "100%|██████████| 1760/1760 [49:57<00:00,  1.70s/it]  \n"
     ]
    },
    {
     "name": "stdout",
     "output_type": "stream",
     "text": [
      "Fit preferred depth_running...\n"
     ]
    },
    {
     "name": "stderr",
     "output_type": "stream",
     "text": [
      "100%|██████████| 1760/1760 [08:42<00:00,  3.37it/s]\n",
      "/nemo/lab/znamenskiyp/home/users/blota/code/cottage_analysis/cottage_analysis/analysis/common_utils.py:208: FutureWarning: The behavior of DataFrame concatenation with empty or all-NA entries is deprecated. In a future version, this will no longer exclude empty or all-NA columns when determining the result dtypes. To retain the old behavior, exclude the relevant entries before the concat operation.\n",
      "  trials_df_chosen = pd.concat([trials_df_chosen, trials_df_depth])\n",
      "100%|██████████| 1760/1760 [12:24<00:00,  2.36it/s]\n",
      "100%|██████████| 1760/1760 [47:44<00:00,  1.63s/it]  \n",
      "/nemo/lab/znamenskiyp/home/users/blota/code/cottage_analysis/cottage_analysis/analysis/find_depth_neurons.py:54: RuntimeWarning: Mean of empty slice\n",
      "  lambda x: np.nanmean(\n"
     ]
    },
    {
     "name": "stdout",
     "output_type": "stream",
     "text": [
      "Fit preferred depth_notrunning...\n"
     ]
    },
    {
     "name": "stderr",
     "output_type": "stream",
     "text": [
      "  0%|          | 2/1760 [00:00<01:54, 15.35it/s]"
     ]
    },
    {
     "name": "stdout",
     "output_type": "stream",
     "text": [
      "Warning: 153 NaN values in X or y\n",
      "Warning: 153 NaN values in X or y\n",
      "Warning: 153 NaN values in X or y\n",
      "Warning: 153 NaN values in X or y\n"
     ]
    },
    {
     "name": "stderr",
     "output_type": "stream",
     "text": [
      "  0%|          | 4/1760 [00:00<02:15, 12.97it/s]"
     ]
    },
    {
     "name": "stdout",
     "output_type": "stream",
     "text": [
      "Warning: 153 NaN values in X or y\n",
      "Warning: 153 NaN values in X or y\n"
     ]
    },
    {
     "name": "stderr",
     "output_type": "stream",
     "text": [
      "  0%|          | 6/1760 [00:00<02:26, 12.00it/s]"
     ]
    },
    {
     "name": "stdout",
     "output_type": "stream",
     "text": [
      "Warning: 153 NaN values in X or y\n",
      "Warning: 153 NaN values in X or y\n"
     ]
    },
    {
     "name": "stderr",
     "output_type": "stream",
     "text": [
      "  0%|          | 8/1760 [00:20<1:56:06,  3.98s/it]"
     ]
    },
    {
     "name": "stdout",
     "output_type": "stream",
     "text": [
      "Warning: 153 NaN values in X or y\n"
     ]
    },
    {
     "name": "stderr",
     "output_type": "stream",
     "text": [
      "  1%|          | 9/1760 [00:22<1:46:19,  3.64s/it]"
     ]
    },
    {
     "name": "stdout",
     "output_type": "stream",
     "text": [
      "Warning: 153 NaN values in X or y\n",
      "Warning: 153 NaN values in X or y\n"
     ]
    },
    {
     "name": "stderr",
     "output_type": "stream",
     "text": [
      "  1%|          | 11/1760 [00:23<1:10:06,  2.41s/it]"
     ]
    },
    {
     "name": "stdout",
     "output_type": "stream",
     "text": [
      "Warning: 153 NaN values in X or y\n",
      "Warning: 153 NaN values in X or y\n"
     ]
    },
    {
     "name": "stderr",
     "output_type": "stream",
     "text": [
      "  1%|          | 13/1760 [00:31<1:27:53,  3.02s/it]"
     ]
    },
    {
     "name": "stdout",
     "output_type": "stream",
     "text": [
      "Warning: 153 NaN values in X or y\n"
     ]
    },
    {
     "name": "stderr",
     "output_type": "stream",
     "text": [
      "  1%|          | 15/1760 [01:05<3:29:34,  7.21s/it]"
     ]
    },
    {
     "name": "stdout",
     "output_type": "stream",
     "text": [
      "Warning: 153 NaN values in X or y\n",
      "Warning: 153 NaN values in X or y\n",
      "Warning: 153 NaN values in X or y\n"
     ]
    },
    {
     "name": "stderr",
     "output_type": "stream",
     "text": [
      "  1%|          | 18/1760 [01:20<2:42:55,  5.61s/it]"
     ]
    },
    {
     "name": "stdout",
     "output_type": "stream",
     "text": [
      "Warning: 153 NaN values in X or y\n",
      "Warning: 153 NaN values in X or y\n",
      "Warning: 153 NaN values in X or y\n"
     ]
    },
    {
     "name": "stderr",
     "output_type": "stream",
     "text": [
      "  1%|          | 20/1760 [01:20<1:41:01,  3.48s/it]"
     ]
    },
    {
     "name": "stdout",
     "output_type": "stream",
     "text": [
      "Warning: 153 NaN values in X or y\n"
     ]
    },
    {
     "name": "stderr",
     "output_type": "stream",
     "text": [
      "  1%|▏         | 23/1760 [01:26<1:14:12,  2.56s/it]"
     ]
    },
    {
     "name": "stdout",
     "output_type": "stream",
     "text": [
      "Warning: 153 NaN values in X or y\n",
      "Warning: 153 NaN values in X or y\n",
      "Warning: 153 NaN values in X or y\n"
     ]
    },
    {
     "name": "stderr",
     "output_type": "stream",
     "text": [
      "  1%|▏         | 25/1760 [01:26<48:47,  1.69s/it]  "
     ]
    },
    {
     "name": "stdout",
     "output_type": "stream",
     "text": [
      "Warning: 153 NaN values in X or y\n",
      "Warning: 153 NaN values in X or y\n",
      "Warning: 153 NaN values in X or y\n"
     ]
    },
    {
     "name": "stderr",
     "output_type": "stream",
     "text": [
      "  2%|▏         | 29/1760 [01:36<54:43,  1.90s/it]  "
     ]
    },
    {
     "name": "stdout",
     "output_type": "stream",
     "text": [
      "Warning: 153 NaN values in X or y\n",
      "Warning: 153 NaN values in X or y\n",
      "Warning: 153 NaN values in X or y\n",
      "Warning: 153 NaN values in X or y\n"
     ]
    },
    {
     "name": "stderr",
     "output_type": "stream",
     "text": [
      "  2%|▏         | 32/1760 [01:54<1:36:39,  3.36s/it]"
     ]
    },
    {
     "name": "stdout",
     "output_type": "stream",
     "text": [
      "Warning: 153 NaN values in X or y\n",
      "Warning: 153 NaN values in X or y\n",
      "Warning: 153 NaN values in X or y\n"
     ]
    },
    {
     "name": "stderr",
     "output_type": "stream",
     "text": [
      "  2%|▏         | 36/1760 [01:54<43:22,  1.51s/it]  "
     ]
    },
    {
     "name": "stdout",
     "output_type": "stream",
     "text": [
      "Warning: 153 NaN values in X or y\n",
      "Warning: 153 NaN values in X or y\n",
      "Warning: 153 NaN values in X or y\n"
     ]
    },
    {
     "name": "stderr",
     "output_type": "stream",
     "text": [
      "  2%|▏         | 37/1760 [02:34<4:11:45,  8.77s/it]"
     ]
    },
    {
     "name": "stdout",
     "output_type": "stream",
     "text": [
      "Warning: 153 NaN values in X or y\n"
     ]
    },
    {
     "name": "stderr",
     "output_type": "stream",
     "text": [
      "  2%|▏         | 38/1760 [02:39<3:48:51,  7.97s/it]"
     ]
    },
    {
     "name": "stdout",
     "output_type": "stream",
     "text": [
      "Warning: 153 NaN values in X or y\n"
     ]
    },
    {
     "name": "stderr",
     "output_type": "stream",
     "text": [
      "  2%|▏         | 40/1760 [02:41<2:20:17,  4.89s/it]"
     ]
    },
    {
     "name": "stdout",
     "output_type": "stream",
     "text": [
      "Warning: 153 NaN values in X or y\n",
      "Warning: 153 NaN values in X or y\n"
     ]
    },
    {
     "name": "stderr",
     "output_type": "stream",
     "text": [
      "  2%|▏         | 43/1760 [02:41<59:56,  2.09s/it]  "
     ]
    },
    {
     "name": "stdout",
     "output_type": "stream",
     "text": [
      "Warning: 153 NaN values in X or y\n",
      "Warning: 153 NaN values in X or y\n",
      "Warning: 153 NaN values in X or y\n"
     ]
    },
    {
     "name": "stderr",
     "output_type": "stream",
     "text": [
      "  3%|▎         | 45/1760 [02:41<38:09,  1.33s/it]"
     ]
    },
    {
     "name": "stdout",
     "output_type": "stream",
     "text": [
      "Warning: 153 NaN values in X or y\n",
      "Warning: 153 NaN values in X or y\n"
     ]
    },
    {
     "name": "stderr",
     "output_type": "stream",
     "text": [
      "  3%|▎         | 46/1760 [02:57<2:04:24,  4.36s/it]"
     ]
    },
    {
     "name": "stdout",
     "output_type": "stream",
     "text": [
      "Warning: 153 NaN values in X or y\n",
      "Warning: 153 NaN values in X or y\n"
     ]
    },
    {
     "name": "stderr",
     "output_type": "stream",
     "text": [
      "  3%|▎         | 48/1760 [03:09<2:21:10,  4.95s/it]"
     ]
    },
    {
     "name": "stdout",
     "output_type": "stream",
     "text": [
      "Warning: 153 NaN values in X or y\n",
      "Warning: 153 NaN values in X or y\n"
     ]
    },
    {
     "name": "stderr",
     "output_type": "stream",
     "text": [
      "  3%|▎         | 52/1760 [03:28<2:06:53,  4.46s/it]"
     ]
    },
    {
     "name": "stdout",
     "output_type": "stream",
     "text": [
      "Warning: 153 NaN values in X or y\n",
      "Warning: 153 NaN values in X or y\n",
      "Warning: 153 NaN values in X or y\n",
      "Warning: 153 NaN values in X or y\n"
     ]
    },
    {
     "name": "stderr",
     "output_type": "stream",
     "text": [
      "  3%|▎         | 54/1760 [03:42<2:26:27,  5.15s/it]"
     ]
    },
    {
     "name": "stdout",
     "output_type": "stream",
     "text": [
      "Warning: 153 NaN values in X or y\n"
     ]
    },
    {
     "name": "stderr",
     "output_type": "stream",
     "text": [
      "  3%|▎         | 55/1760 [03:57<3:22:47,  7.14s/it]"
     ]
    },
    {
     "name": "stdout",
     "output_type": "stream",
     "text": [
      "Warning: 153 NaN values in X or y\n"
     ]
    },
    {
     "name": "stderr",
     "output_type": "stream",
     "text": [
      "  3%|▎         | 57/1760 [03:59<2:11:47,  4.64s/it]"
     ]
    },
    {
     "name": "stdout",
     "output_type": "stream",
     "text": [
      "Warning: 153 NaN values in X or y\n",
      "Warning: 153 NaN values in X or y\n"
     ]
    },
    {
     "name": "stderr",
     "output_type": "stream",
     "text": [
      "  3%|▎         | 58/1760 [04:20<4:06:03,  8.67s/it]"
     ]
    },
    {
     "name": "stdout",
     "output_type": "stream",
     "text": [
      "Warning: 153 NaN values in X or y\n"
     ]
    },
    {
     "name": "stderr",
     "output_type": "stream",
     "text": [
      "  3%|▎         | 59/1760 [04:38<5:13:34, 11.06s/it]"
     ]
    },
    {
     "name": "stdout",
     "output_type": "stream",
     "text": [
      "Warning: 153 NaN values in X or y\n"
     ]
    },
    {
     "name": "stderr",
     "output_type": "stream",
     "text": [
      "  3%|▎         | 61/1760 [04:54<4:14:49,  9.00s/it]"
     ]
    },
    {
     "name": "stdout",
     "output_type": "stream",
     "text": [
      "Warning: 153 NaN values in X or y\n",
      "Warning: 153 NaN values in X or y\n"
     ]
    },
    {
     "name": "stderr",
     "output_type": "stream",
     "text": [
      "  4%|▎         | 62/1760 [05:20<6:30:24, 13.80s/it]"
     ]
    },
    {
     "name": "stdout",
     "output_type": "stream",
     "text": [
      "Warning: 153 NaN values in X or y\n"
     ]
    },
    {
     "name": "stderr",
     "output_type": "stream",
     "text": [
      "  4%|▎         | 65/1760 [05:21<2:35:33,  5.51s/it]"
     ]
    },
    {
     "name": "stdout",
     "output_type": "stream",
     "text": [
      "Warning: 153 NaN values in X or y\n",
      "Warning: 153 NaN values in X or y\n",
      "Warning: 153 NaN values in X or y\n"
     ]
    },
    {
     "name": "stderr",
     "output_type": "stream",
     "text": [
      "  4%|▍         | 68/1760 [05:21<1:10:09,  2.49s/it]"
     ]
    },
    {
     "name": "stdout",
     "output_type": "stream",
     "text": [
      "Warning: 153 NaN values in X or y\n",
      "Warning: 153 NaN values in X or y\n",
      "Warning: 153 NaN values in X or y\n"
     ]
    },
    {
     "name": "stderr",
     "output_type": "stream",
     "text": [
      "  4%|▍         | 70/1760 [05:21<45:25,  1.61s/it]  "
     ]
    },
    {
     "name": "stdout",
     "output_type": "stream",
     "text": [
      "Warning: 153 NaN values in X or y\n",
      "Warning: 153 NaN values in X or y\n"
     ]
    },
    {
     "name": "stderr",
     "output_type": "stream",
     "text": [
      "  4%|▍         | 72/1760 [05:41<1:58:49,  4.22s/it]"
     ]
    },
    {
     "name": "stdout",
     "output_type": "stream",
     "text": [
      "Warning: 153 NaN values in X or y\n",
      "Warning: 153 NaN values in X or y\n"
     ]
    },
    {
     "name": "stderr",
     "output_type": "stream",
     "text": [
      "  4%|▍         | 74/1760 [05:41<1:12:35,  2.58s/it]"
     ]
    },
    {
     "name": "stdout",
     "output_type": "stream",
     "text": [
      "Warning: 153 NaN values in X or y\n",
      "Warning: 153 NaN values in X or y\n",
      "Warning: 153 NaN values in X or y\n"
     ]
    },
    {
     "name": "stderr",
     "output_type": "stream",
     "text": [
      "  4%|▍         | 76/1760 [05:42<46:56,  1.67s/it]  "
     ]
    },
    {
     "name": "stdout",
     "output_type": "stream",
     "text": [
      "Warning: 153 NaN values in X or y\n"
     ]
    },
    {
     "name": "stderr",
     "output_type": "stream",
     "text": [
      "  4%|▍         | 79/1760 [06:00<1:31:56,  3.28s/it]"
     ]
    },
    {
     "name": "stdout",
     "output_type": "stream",
     "text": [
      "Warning: 153 NaN values in X or y\n",
      "Warning: 153 NaN values in X or y\n",
      "Warning: 153 NaN values in X or y\n"
     ]
    },
    {
     "name": "stderr",
     "output_type": "stream",
     "text": [
      "  5%|▍         | 81/1760 [06:01<1:00:48,  2.17s/it]"
     ]
    },
    {
     "name": "stdout",
     "output_type": "stream",
     "text": [
      "Warning: 153 NaN values in X or y\n",
      "Warning: 153 NaN values in X or y\n",
      "Warning: 153 NaN values in X or y\n"
     ]
    },
    {
     "name": "stderr",
     "output_type": "stream",
     "text": [
      "  5%|▍         | 83/1760 [06:01<41:33,  1.49s/it]  "
     ]
    },
    {
     "name": "stdout",
     "output_type": "stream",
     "text": [
      "Warning: 153 NaN values in X or y\n"
     ]
    },
    {
     "name": "stderr",
     "output_type": "stream",
     "text": [
      "  5%|▍         | 84/1760 [06:29<3:03:08,  6.56s/it]"
     ]
    },
    {
     "name": "stdout",
     "output_type": "stream",
     "text": [
      "Warning: 153 NaN values in X or y\n"
     ]
    },
    {
     "name": "stderr",
     "output_type": "stream",
     "text": [
      "  5%|▍         | 85/1760 [06:43<3:48:10,  8.17s/it]"
     ]
    },
    {
     "name": "stdout",
     "output_type": "stream",
     "text": [
      "Warning: 153 NaN values in X or y\n",
      "Warning: 153 NaN values in X or y\n"
     ]
    },
    {
     "name": "stderr",
     "output_type": "stream",
     "text": [
      "  5%|▍         | 87/1760 [07:01<3:56:39,  8.49s/it]"
     ]
    },
    {
     "name": "stdout",
     "output_type": "stream",
     "text": [
      "Warning: 153 NaN values in X or y\n",
      "Warning: 153 NaN values in X or y\n"
     ]
    },
    {
     "name": "stderr",
     "output_type": "stream",
     "text": [
      "  5%|▌         | 89/1760 [07:12<3:26:28,  7.41s/it]"
     ]
    },
    {
     "name": "stdout",
     "output_type": "stream",
     "text": [
      "Warning: 153 NaN values in X or y\n",
      "Warning: 153 NaN values in X or y\n"
     ]
    },
    {
     "name": "stderr",
     "output_type": "stream",
     "text": [
      "  5%|▌         | 93/1760 [07:22<2:03:46,  4.46s/it]"
     ]
    },
    {
     "name": "stdout",
     "output_type": "stream",
     "text": [
      "Warning: 153 NaN values in X or y\n",
      "Warning: 153 NaN values in X or y\n",
      "Warning: 153 NaN values in X or y\n"
     ]
    },
    {
     "name": "stderr",
     "output_type": "stream",
     "text": [
      "  5%|▌         | 94/1760 [07:36<2:54:13,  6.27s/it]"
     ]
    },
    {
     "name": "stdout",
     "output_type": "stream",
     "text": [
      "Warning: 153 NaN values in X or y\n",
      "Warning: 153 NaN values in X or y\n"
     ]
    },
    {
     "name": "stderr",
     "output_type": "stream",
     "text": [
      "  6%|▌         | 98/1760 [07:51<2:05:42,  4.54s/it]"
     ]
    },
    {
     "name": "stdout",
     "output_type": "stream",
     "text": [
      "Warning: 153 NaN values in X or y\n",
      "Warning: 153 NaN values in X or y\n",
      "Warning: 153 NaN values in X or y\n",
      "Warning: 153 NaN values in X or y\n"
     ]
    },
    {
     "name": "stderr",
     "output_type": "stream",
     "text": [
      "  6%|▌         | 100/1760 [07:52<1:29:13,  3.23s/it]"
     ]
    },
    {
     "name": "stdout",
     "output_type": "stream",
     "text": [
      "Warning: 153 NaN values in X or y\n",
      "Warning: 153 NaN values in X or y\n"
     ]
    },
    {
     "name": "stderr",
     "output_type": "stream",
     "text": [
      "  6%|▌         | 104/1760 [08:15<1:50:45,  4.01s/it]"
     ]
    },
    {
     "name": "stdout",
     "output_type": "stream",
     "text": [
      "Warning: 153 NaN values in X or y\n",
      "Warning: 153 NaN values in X or y\n",
      "Warning: 153 NaN values in X or y\n"
     ]
    },
    {
     "name": "stderr",
     "output_type": "stream",
     "text": [
      "  6%|▌         | 106/1760 [08:52<3:38:03,  7.91s/it]"
     ]
    },
    {
     "name": "stdout",
     "output_type": "stream",
     "text": [
      "Warning: 153 NaN values in X or y\n",
      "Warning: 153 NaN values in X or y\n"
     ]
    },
    {
     "name": "stderr",
     "output_type": "stream",
     "text": [
      "  6%|▌         | 108/1760 [08:52<2:08:31,  4.67s/it]"
     ]
    },
    {
     "name": "stdout",
     "output_type": "stream",
     "text": [
      "Warning: 153 NaN values in X or y\n",
      "Warning: 153 NaN values in X or y\n"
     ]
    },
    {
     "name": "stderr",
     "output_type": "stream",
     "text": [
      "  6%|▋         | 110/1760 [08:52<1:16:22,  2.78s/it]"
     ]
    },
    {
     "name": "stdout",
     "output_type": "stream",
     "text": [
      "Warning: 153 NaN values in X or y\n",
      "Warning: 153 NaN values in X or y\n"
     ]
    },
    {
     "name": "stderr",
     "output_type": "stream",
     "text": [
      "  6%|▋         | 111/1760 [08:57<1:32:43,  3.37s/it]"
     ]
    },
    {
     "name": "stdout",
     "output_type": "stream",
     "text": [
      "Warning: 153 NaN values in X or y\n"
     ]
    },
    {
     "name": "stderr",
     "output_type": "stream",
     "text": [
      "  6%|▋         | 112/1760 [09:16<3:11:59,  6.99s/it]"
     ]
    },
    {
     "name": "stdout",
     "output_type": "stream",
     "text": [
      "Warning: 153 NaN values in X or y\n"
     ]
    },
    {
     "name": "stderr",
     "output_type": "stream",
     "text": [
      "  6%|▋         | 113/1760 [09:40<5:13:17, 11.41s/it]"
     ]
    },
    {
     "name": "stdout",
     "output_type": "stream",
     "text": [
      "Warning: 153 NaN values in X or y\n",
      "Warning: 153 NaN values in X or y\n"
     ]
    },
    {
     "name": "stderr",
     "output_type": "stream",
     "text": [
      "  7%|▋         | 117/1760 [09:40<1:53:17,  4.14s/it]"
     ]
    },
    {
     "name": "stdout",
     "output_type": "stream",
     "text": [
      "Warning: 153 NaN values in X or y\n",
      "Warning: 153 NaN values in X or y\n",
      "Warning: 153 NaN values in X or y\n"
     ]
    },
    {
     "name": "stderr",
     "output_type": "stream",
     "text": [
      "  7%|▋         | 119/1760 [09:40<1:14:04,  2.71s/it]"
     ]
    },
    {
     "name": "stdout",
     "output_type": "stream",
     "text": [
      "Warning: 153 NaN values in X or y\n",
      "Warning: 153 NaN values in X or y\n",
      "Warning: 153 NaN values in X or y\n"
     ]
    },
    {
     "name": "stderr",
     "output_type": "stream",
     "text": [
      "  7%|▋         | 121/1760 [09:40<50:05,  1.83s/it]  "
     ]
    },
    {
     "name": "stdout",
     "output_type": "stream",
     "text": [
      "Warning: 153 NaN values in X or y\n"
     ]
    },
    {
     "name": "stderr",
     "output_type": "stream",
     "text": [
      "  7%|▋         | 123/1760 [09:46<1:00:48,  2.23s/it]"
     ]
    },
    {
     "name": "stdout",
     "output_type": "stream",
     "text": [
      "Warning: 153 NaN values in X or y\n",
      "Warning: 153 NaN values in X or y\n"
     ]
    },
    {
     "name": "stderr",
     "output_type": "stream",
     "text": [
      "  7%|▋         | 124/1760 [10:09<2:43:04,  5.98s/it]"
     ]
    },
    {
     "name": "stdout",
     "output_type": "stream",
     "text": [
      "Warning: 153 NaN values in X or y\n"
     ]
    },
    {
     "name": "stderr",
     "output_type": "stream",
     "text": [
      "  7%|▋         | 127/1760 [10:35<2:54:44,  6.42s/it]"
     ]
    },
    {
     "name": "stdout",
     "output_type": "stream",
     "text": [
      "Warning: 153 NaN values in X or y\n",
      "Warning: 153 NaN values in X or y\n",
      "Warning: 153 NaN values in X or y\n",
      "Warning: 153 NaN values in X or y\n"
     ]
    },
    {
     "name": "stderr",
     "output_type": "stream",
     "text": [
      "  7%|▋         | 131/1760 [10:35<1:16:42,  2.83s/it]"
     ]
    },
    {
     "name": "stdout",
     "output_type": "stream",
     "text": [
      "Warning: 153 NaN values in X or y\n",
      "Warning: 153 NaN values in X or y\n",
      "Warning: 153 NaN values in X or y\n"
     ]
    },
    {
     "name": "stderr",
     "output_type": "stream",
     "text": [
      "  8%|▊         | 133/1760 [10:35<52:31,  1.94s/it]  "
     ]
    },
    {
     "name": "stdout",
     "output_type": "stream",
     "text": [
      "Warning: 153 NaN values in X or y\n",
      "Warning: 153 NaN values in X or y\n"
     ]
    },
    {
     "name": "stderr",
     "output_type": "stream",
     "text": [
      "  8%|▊         | 136/1760 [10:57<1:39:44,  3.68s/it]"
     ]
    },
    {
     "name": "stdout",
     "output_type": "stream",
     "text": [
      "Warning: 153 NaN values in X or y\n",
      "Warning: 153 NaN values in X or y\n",
      "Warning: 153 NaN values in X or y\n",
      "Warning: 153 NaN values in X or y\n"
     ]
    },
    {
     "name": "stderr",
     "output_type": "stream",
     "text": [
      "  8%|▊         | 139/1760 [11:30<2:52:50,  6.40s/it]"
     ]
    },
    {
     "name": "stdout",
     "output_type": "stream",
     "text": [
      "Warning: 153 NaN values in X or y\n",
      "Warning: 153 NaN values in X or y\n",
      "Warning: 153 NaN values in X or y\n"
     ]
    },
    {
     "name": "stderr",
     "output_type": "stream",
     "text": [
      "  8%|▊         | 143/1760 [11:30<1:15:00,  2.78s/it]"
     ]
    },
    {
     "name": "stdout",
     "output_type": "stream",
     "text": [
      "Warning: 153 NaN values in X or y\n",
      "Warning: 153 NaN values in X or y\n",
      "Warning: 153 NaN values in X or y\n"
     ]
    },
    {
     "name": "stderr",
     "output_type": "stream",
     "text": [
      "  8%|▊         | 145/1760 [11:30<51:15,  1.90s/it]  "
     ]
    },
    {
     "name": "stdout",
     "output_type": "stream",
     "text": [
      "Warning: 153 NaN values in X or y\n",
      "Warning: 153 NaN values in X or y\n",
      "Warning: 153 NaN values in X or y\n"
     ]
    },
    {
     "name": "stderr",
     "output_type": "stream",
     "text": [
      "  8%|▊         | 148/1760 [11:54<1:49:56,  4.09s/it]"
     ]
    },
    {
     "name": "stdout",
     "output_type": "stream",
     "text": [
      "Warning: 153 NaN values in X or y\n",
      "Warning: 153 NaN values in X or y\n"
     ]
    },
    {
     "name": "stderr",
     "output_type": "stream",
     "text": [
      "  9%|▊         | 150/1760 [11:57<1:25:38,  3.19s/it]"
     ]
    },
    {
     "name": "stdout",
     "output_type": "stream",
     "text": [
      "Warning: 153 NaN values in X or y\n",
      "Warning: 153 NaN values in X or y\n",
      "Warning: 153 NaN values in X or y\n"
     ]
    },
    {
     "name": "stderr",
     "output_type": "stream",
     "text": [
      "  9%|▊         | 152/1760 [12:02<1:21:38,  3.05s/it]"
     ]
    },
    {
     "name": "stdout",
     "output_type": "stream",
     "text": [
      "Warning: 153 NaN values in X or y\n"
     ]
    },
    {
     "name": "stderr",
     "output_type": "stream",
     "text": [
      "  9%|▉         | 154/1760 [12:16<1:46:34,  3.98s/it]"
     ]
    },
    {
     "name": "stdout",
     "output_type": "stream",
     "text": [
      "Warning: 153 NaN values in X or y\n",
      "Warning: 153 NaN values in X or y\n"
     ]
    },
    {
     "name": "stderr",
     "output_type": "stream",
     "text": [
      "  9%|▉         | 155/1760 [12:18<1:35:08,  3.56s/it]"
     ]
    },
    {
     "name": "stdout",
     "output_type": "stream",
     "text": [
      "Warning: 153 NaN values in X or y\n"
     ]
    },
    {
     "name": "stderr",
     "output_type": "stream",
     "text": [
      "  9%|▉         | 156/1760 [12:24<1:54:10,  4.27s/it]"
     ]
    },
    {
     "name": "stdout",
     "output_type": "stream",
     "text": [
      "Warning: 153 NaN values in X or y\n"
     ]
    },
    {
     "name": "stderr",
     "output_type": "stream",
     "text": [
      "  9%|▉         | 157/1760 [12:53<4:44:58, 10.67s/it]"
     ]
    },
    {
     "name": "stdout",
     "output_type": "stream",
     "text": [
      "Warning: 153 NaN values in X or y\n"
     ]
    },
    {
     "name": "stderr",
     "output_type": "stream",
     "text": [
      "  9%|▉         | 159/1760 [13:03<3:22:46,  7.60s/it]"
     ]
    },
    {
     "name": "stdout",
     "output_type": "stream",
     "text": [
      "Warning: 153 NaN values in X or y\n",
      "Warning: 153 NaN values in X or y\n",
      "Warning: 153 NaN values in X or y\n"
     ]
    },
    {
     "name": "stderr",
     "output_type": "stream",
     "text": [
      "  9%|▉         | 161/1760 [13:09<2:25:20,  5.45s/it]"
     ]
    },
    {
     "name": "stdout",
     "output_type": "stream",
     "text": [
      "Warning: 153 NaN values in X or y\n",
      "Warning: 153 NaN values in X or y\n"
     ]
    },
    {
     "name": "stderr",
     "output_type": "stream",
     "text": [
      "  9%|▉         | 164/1760 [13:10<1:14:26,  2.80s/it]"
     ]
    },
    {
     "name": "stdout",
     "output_type": "stream",
     "text": [
      "Warning: 153 NaN values in X or y\n",
      "Warning: 153 NaN values in X or y\n"
     ]
    },
    {
     "name": "stderr",
     "output_type": "stream",
     "text": [
      "  9%|▉         | 166/1760 [13:10<46:42,  1.76s/it]  "
     ]
    },
    {
     "name": "stdout",
     "output_type": "stream",
     "text": [
      "Warning: 153 NaN values in X or y\n",
      "Warning: 153 NaN values in X or y\n",
      "Warning: 153 NaN values in X or y\n"
     ]
    },
    {
     "name": "stderr",
     "output_type": "stream",
     "text": [
      " 10%|▉         | 170/1760 [13:39<1:50:08,  4.16s/it]"
     ]
    },
    {
     "name": "stdout",
     "output_type": "stream",
     "text": [
      "Warning: 153 NaN values in X or y\n",
      "Warning: 153 NaN values in X or y\n",
      "Warning: 153 NaN values in X or y\n"
     ]
    },
    {
     "name": "stderr",
     "output_type": "stream",
     "text": [
      " 10%|▉         | 171/1760 [13:39<1:29:20,  3.37s/it]"
     ]
    },
    {
     "name": "stdout",
     "output_type": "stream",
     "text": [
      "Warning: 153 NaN values in X or y\n"
     ]
    },
    {
     "name": "stderr",
     "output_type": "stream",
     "text": [
      " 10%|▉         | 172/1760 [13:57<2:49:24,  6.40s/it]"
     ]
    },
    {
     "name": "stdout",
     "output_type": "stream",
     "text": [
      "Warning: 153 NaN values in X or y\n"
     ]
    },
    {
     "name": "stderr",
     "output_type": "stream",
     "text": [
      " 10%|▉         | 173/1760 [14:05<3:03:22,  6.93s/it]"
     ]
    },
    {
     "name": "stdout",
     "output_type": "stream",
     "text": [
      "Warning: 153 NaN values in X or y\n"
     ]
    },
    {
     "name": "stderr",
     "output_type": "stream",
     "text": [
      " 10%|█         | 176/1760 [14:30<2:54:54,  6.63s/it]"
     ]
    },
    {
     "name": "stdout",
     "output_type": "stream",
     "text": [
      "Warning: 153 NaN values in X or y\n",
      "Warning: 153 NaN values in X or y\n",
      "Warning: 153 NaN values in X or y\n"
     ]
    },
    {
     "name": "stderr",
     "output_type": "stream",
     "text": [
      " 10%|█         | 177/1760 [14:39<3:12:35,  7.30s/it]"
     ]
    },
    {
     "name": "stdout",
     "output_type": "stream",
     "text": [
      "Warning: 153 NaN values in X or y\n"
     ]
    },
    {
     "name": "stderr",
     "output_type": "stream",
     "text": [
      " 10%|█         | 180/1760 [14:45<1:46:18,  4.04s/it]"
     ]
    },
    {
     "name": "stdout",
     "output_type": "stream",
     "text": [
      "Warning: 153 NaN values in X or y\n",
      "Warning: 153 NaN values in X or y\n",
      "Warning: 153 NaN values in X or y\n",
      "Warning: 153 NaN values in X or y\n"
     ]
    },
    {
     "name": "stderr",
     "output_type": "stream",
     "text": [
      " 10%|█         | 182/1760 [14:45<1:07:16,  2.56s/it]"
     ]
    },
    {
     "name": "stdout",
     "output_type": "stream",
     "text": [
      "Warning: 153 NaN values in X or y\n"
     ]
    },
    {
     "name": "stderr",
     "output_type": "stream",
     "text": [
      " 10%|█         | 184/1760 [15:01<1:56:10,  4.42s/it]"
     ]
    },
    {
     "name": "stdout",
     "output_type": "stream",
     "text": [
      "Warning: 153 NaN values in X or y\n",
      "Warning: 153 NaN values in X or y\n",
      "Warning: 153 NaN values in X or y\n"
     ]
    },
    {
     "name": "stderr",
     "output_type": "stream",
     "text": [
      " 11%|█         | 186/1760 [15:01<1:18:17,  2.98s/it]"
     ]
    },
    {
     "name": "stdout",
     "output_type": "stream",
     "text": [
      "Warning: 153 NaN values in X or y\n",
      "Warning: 153 NaN values in X or y\n"
     ]
    },
    {
     "name": "stderr",
     "output_type": "stream",
     "text": [
      " 11%|█         | 188/1760 [15:14<1:47:22,  4.10s/it]"
     ]
    },
    {
     "name": "stdout",
     "output_type": "stream",
     "text": [
      "Warning: 153 NaN values in X or y\n"
     ]
    },
    {
     "name": "stderr",
     "output_type": "stream",
     "text": [
      " 11%|█         | 189/1760 [15:27<2:30:40,  5.75s/it]"
     ]
    },
    {
     "name": "stdout",
     "output_type": "stream",
     "text": [
      "Warning: 153 NaN values in X or y\n",
      "Warning: 153 NaN values in X or y\n"
     ]
    },
    {
     "name": "stderr",
     "output_type": "stream",
     "text": [
      " 11%|█         | 191/1760 [15:45<3:02:16,  6.97s/it]"
     ]
    },
    {
     "name": "stdout",
     "output_type": "stream",
     "text": [
      "Warning: 153 NaN values in X or y\n"
     ]
    },
    {
     "name": "stderr",
     "output_type": "stream",
     "text": [
      " 11%|█         | 193/1760 [16:11<3:37:57,  8.35s/it]"
     ]
    },
    {
     "name": "stdout",
     "output_type": "stream",
     "text": [
      "Warning: 153 NaN values in X or y\n",
      "Warning: 153 NaN values in X or y\n",
      "Warning: 153 NaN values in X or y\n"
     ]
    },
    {
     "name": "stderr",
     "output_type": "stream",
     "text": [
      " 11%|█         | 195/1760 [16:19<2:51:29,  6.57s/it]"
     ]
    },
    {
     "name": "stdout",
     "output_type": "stream",
     "text": [
      "Warning: 153 NaN values in X or y\n"
     ]
    },
    {
     "name": "stderr",
     "output_type": "stream",
     "text": [
      " 11%|█         | 196/1760 [16:52<5:21:13, 12.32s/it]"
     ]
    },
    {
     "name": "stdout",
     "output_type": "stream",
     "text": [
      "Warning: 153 NaN values in X or y\n",
      "Warning: 153 NaN values in X or y\n"
     ]
    },
    {
     "name": "stderr",
     "output_type": "stream",
     "text": [
      " 11%|█▏        | 200/1760 [17:02<2:42:24,  6.25s/it]"
     ]
    },
    {
     "name": "stdout",
     "output_type": "stream",
     "text": [
      "Warning: 153 NaN values in X or y\n",
      "Warning: 153 NaN values in X or y\n",
      "Warning: 153 NaN values in X or y\n"
     ]
    },
    {
     "name": "stderr",
     "output_type": "stream",
     "text": [
      " 11%|█▏        | 201/1760 [17:03<2:10:09,  5.01s/it]"
     ]
    },
    {
     "name": "stdout",
     "output_type": "stream",
     "text": [
      "Warning: 153 NaN values in X or y\n"
     ]
    },
    {
     "name": "stderr",
     "output_type": "stream",
     "text": [
      " 12%|█▏        | 204/1760 [17:04<1:05:25,  2.52s/it]"
     ]
    },
    {
     "name": "stdout",
     "output_type": "stream",
     "text": [
      "Warning: 153 NaN values in X or y\n",
      "Warning: 153 NaN values in X or y\n",
      "Warning: 153 NaN values in X or y\n"
     ]
    },
    {
     "name": "stderr",
     "output_type": "stream",
     "text": [
      " 12%|█▏        | 206/1760 [17:04<42:34,  1.64s/it]  "
     ]
    },
    {
     "name": "stdout",
     "output_type": "stream",
     "text": [
      "Warning: 153 NaN values in X or y\n",
      "Warning: 153 NaN values in X or y\n"
     ]
    }
   ],
   "source": [
    "# To run a single session (for debugging mostly)\n",
    "from cottage_analysis.pipelines import analysis_pipeline\n",
    "if True:\n",
    "    session_name = \"PZAG16.3c_S20250317\"\n",
    "    analysis_pipeline.main(project,\n",
    "        session_name,\n",
    "        conflicts=\"overwrite\",\n",
    "        photodiode_protocol=5,\n",
    "        use_slurm=True,\n",
    "        run_depth_fit=True,\n",
    "        run_rf=True,\n",
    "        run_rsof_fit=True,\n",
    "        run_plot=True,\n",
    "        protocol_base= \"SpheresPermTubeReward\",\n",
    "    )"
   ]
  },
  {
   "cell_type": "code",
   "execution_count": null,
   "metadata": {},
   "outputs": [],
   "source": [
    "from cottage_analysis.pipelines import pipeline_utils\n",
    "\n",
    "running = []\n",
    "sess_to_do = ['PZAG16.3b_S20250313']\n",
    "if False:\n",
    "    for session_name in valid_sessions:\n",
    "        if (sess_to_do is not None )and not (session_name in sess_to_do):\n",
    "            continue\n",
    "        protocol = sessions[session_name]\n",
    "        if protocol.startswith('spheretube'):\n",
    "            continue\n",
    "        if session_name in running:\n",
    "            print(f\"Session {session_name} is already running\")\n",
    "            continue\n",
    "        print(f\"Submitting session {session_name} to the pipeline ({protocol})\")\n",
    "        pipeline_utils.sbatch_session(\n",
    "            project=project,\n",
    "            session_name=session_name,\n",
    "            pipeline_filename=\"run_analysis_pipeline.sh\",\n",
    "            conflicts=\"overwrite\",\n",
    "            photodiode_protocol=5,\n",
    "        )\n",
    "\n"
   ]
  },
  {
   "cell_type": "code",
   "execution_count": null,
   "metadata": {},
   "outputs": [],
   "source": [
    "bad = \"PZAH17.1e_S20250318\"\n",
    "\n",
    "sess, protocol = valid_sessions[bad]\n",
    "sess"
   ]
  },
  {
   "cell_type": "code",
   "execution_count": null,
   "metadata": {},
   "outputs": [],
   "source": [
    "import tifffile\n",
    "\n",
    "ds = flz.Dataset.from_flexilims(\n",
    "    id=\"67ed63e5b99b5006b4e789b5\", flexilims_session=flm_sess\n",
    ")\n",
    "ds"
   ]
  },
  {
   "cell_type": "code",
   "execution_count": null,
   "metadata": {},
   "outputs": [],
   "source": [
    "img = tifffile.imread(ds.path_full / ds.extra_attributes[\"tif_files\"][0])\n",
    "img.shape"
   ]
  },
  {
   "cell_type": "code",
   "execution_count": null,
   "metadata": {},
   "outputs": [],
   "source": [
    "flm_sess.delete(ds.id)"
   ]
  },
  {
   "cell_type": "code",
   "execution_count": null,
   "metadata": {},
   "outputs": [],
   "source": []
  }
 ],
 "metadata": {
  "kernelspec": {
   "display_name": "v1_depth_map",
   "language": "python",
   "name": "python3"
  },
  "language_info": {
   "codemirror_mode": {
    "name": "ipython",
    "version": 3
   },
   "file_extension": ".py",
   "mimetype": "text/x-python",
   "name": "python",
   "nbconvert_exporter": "python",
   "pygments_lexer": "ipython3",
   "version": "3.12.9"
  }
 },
 "nbformat": 4,
 "nbformat_minor": 2
}
