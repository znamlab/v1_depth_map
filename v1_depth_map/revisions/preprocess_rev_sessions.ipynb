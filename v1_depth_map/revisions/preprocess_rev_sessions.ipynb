{
 "cells": [
  {
   "cell_type": "markdown",
   "metadata": {},
   "source": [
    "# Preprocessing of revision experiments\n",
    "\n",
    "This notebook contains the preprocessing steps for the revision experiments. It lists\n",
    "the expected sessions and checks that they exists on flexilims"
   ]
  },
  {
   "cell_type": "code",
   "execution_count": null,
   "metadata": {},
   "outputs": [],
   "source": [
    "sessions = {\n",
    "    \"PZAG17.3a_S20250402\": \"motor\",\n",
    "    \"PZAG17.3a_S20250319\": \"multidepth\",\n",
    "    \"PZAG17.3a_S20250306\": \"spheretube_5\",\n",
    "    \"PZAG17.3a_S20250305\": \"spheretube_4\",\n",
    "    \"PZAG17.3a_S20250303\": \"spheretube_3\",\n",
    "    \"PZAG17.3a_S20250228\": \"spheretube_2\",\n",
    "    \"PZAG17.3a_S20250227\": \"spheretube_1\",\n",
    "    \"PZAG16.3c_S20250401\": \"motor\",\n",
    "    \"PZAG16.3c_S20250317\": \"multidepth\",\n",
    "    \"PZAG16.3c_S20250313\": \"spheretube_5\",\n",
    "    \"PZAG16.3c_S20250310\": \"spheretube_4\",\n",
    "    \"PZAG16.3c_S20250221\": \"spheretube_3\",\n",
    "    \"PZAG16.3c_S20250220\": \"spheretube_2\",\n",
    "    \"PZAG16.3c_S20250219\": \"spheretube_1\",\n",
    "    \"PZAG16.3b_S20250401\": \"motor\",\n",
    "    \"PZAG16.3b_S20250317\": \"multidepth\",\n",
    "    \"PZAG16.3b_S20250313\": \"spheretube_5\",\n",
    "    \"PZAG16.3b_S20250310\": \"spheretube_4\",\n",
    "    \"PZAG16.3b_S20250226\": \"spheretube_3\",\n",
    "    \"PZAG16.3b_S20250225\": \"spheretube_2\",\n",
    "    \"PZAG16.3b_S20250224\": \"spheretube_1\",\n",
    "    \"PZAH17.1e_S20250403\": \"motor\",\n",
    "    \"PZAH17.1e_S20250318\": \"multidepth\",\n",
    "    \"PZAH17.1e_S20250313\": \"multidepth\",\n",
    "    \"PZAH17.1e_S20250311\": \"spheretube_5\",\n",
    "    \"PZAH17.1e_S20250307\": \"spheretube_4\",\n",
    "    \"PZAH17.1e_S20250306\": \"spheretube_3\",\n",
    "    \"PZAH17.1e_S20250305\": \"spheretube_2\",\n",
    "    \"PZAH17.1e_S20250304\": \"spheretube_1\",\n",
    "}\n",
    "\n",
    "print(f\"{len(sessions)} sessions to analyze\")"
   ]
  },
  {
   "cell_type": "code",
   "execution_count": null,
   "metadata": {},
   "outputs": [],
   "source": [
    "import flexiznam as flz\n",
    "\n",
    "project = \"colasa_3d-vision_revisions\"\n",
    "\n",
    "flm_sess = flz.get_flexilims_session(project_id=project)\n",
    "\n",
    "valid_sessions = dict()\n",
    "for session, protocol in sessions.items():\n",
    "    sess = flz.get_entity(name=session, project_id=project, datatype=\"session\")\n",
    "    if sess is None:\n",
    "        print(f\"Session {session} doesn't exist\")\n",
    "        continue\n",
    "    valid_sessions[session] = [sess, protocol]\n",
    "print(f\"{len(valid_sessions)}/{len(sessions)} valid sessions to analyze\")"
   ]
  },
  {
   "cell_type": "code",
   "execution_count": null,
   "metadata": {},
   "outputs": [],
   "source": [
    "# Now check that we have the recordings we need\n",
    "for session_name, (session, protocol) in valid_sessions.items():\n",
    "    # Get recordings children of the session\n",
    "    recordings = flz.get_children(\n",
    "        session.id, children_datatype=\"recording\", flexilims_session=flm_sess\n",
    "    )\n",
    "    assert (\n",
    "        \"SpheresPermTubeReward\" in recordings.protocol.values\n",
    "    ), f\"Session {session_name} doesn't have the Sphere protocol\"\n",
    "    if protocol == \"motor\":\n",
    "        assert (\n",
    "            \"SpheresTubeMotor\" in recordings.protocol.values\n",
    "        ), f\"Session {session_name} doesn't have the motor protocol\"\n",
    "    elif protocol == \"multidepth\":\n",
    "        assert (\n",
    "            \"SpheresPermTubeReward_multidepth\" in recordings.protocol.values\n",
    "        ), f\"Session {session_name} doesn't have the multidepth protocol\""
   ]
  },
  {
   "cell_type": "code",
   "execution_count": null,
   "metadata": {},
   "outputs": [],
   "source": [
    "# There should be a suite2p dataset for each session\n",
    "bad_sessions = []\n",
    "for session_name, (session, protocol) in valid_sessions.items():\n",
    "    # Get recordings children of the session\n",
    "    suite2p_dataset = flz.get_entity(\n",
    "        project_id=project,\n",
    "        datatype=\"dataset\",\n",
    "        origin_id=session.id,\n",
    "        query_key=\"dataset_type\",\n",
    "        query_value=\"suite2p_rois\",\n",
    "    )\n",
    "    if suite2p_dataset is None:\n",
    "        print(f\"Session {session_name} doesn't have a suite2p dataset\")\n",
    "        bad_sessions.append(session_name)\n",
    "\n",
    "print(f\"{len(bad_sessions)} sessions don't have a suite2p dataset\")\n",
    "# remove them from valid_sessions\n",
    "for session_name in bad_sessions:\n",
    "    del valid_sessions[session_name]\n",
    "print(f\"{len(valid_sessions)} sessions to analyze after removing bad sessions\")"
   ]
  },
  {
   "cell_type": "code",
   "execution_count": null,
   "metadata": {},
   "outputs": [],
   "source": [
    "from cottage_analysis.pipelines import pipeline_utils\n",
    "\n",
    "running = [\"PZAG16.3b_S20250317\", \"PZAG16.3b_S20250401\", \"PZAG16.3c_S20250401\"]\n",
    "if False:\n",
    "    for session_name in valid_sessions:\n",
    "        if session_name in running:\n",
    "            print(f\"Session {session_name} is already running\")\n",
    "            continue\n",
    "        print(f\"Submitting session {session_name} to the pipeline\")\n",
    "        pipeline_utils.sbatch_session(\n",
    "            project=project,\n",
    "            session_name=session_name,\n",
    "            pipeline_filename=\"run_analysis_pipeline.sh\",\n",
    "            conflicts=\"skip\",\n",
    "            photodiode_protocol=5,\n",
    "        )"
   ]
  },
  {
   "cell_type": "code",
   "execution_count": null,
   "metadata": {},
   "outputs": [],
   "source": [
    "bad = \"PZAH17.1e_S20250318\"\n",
    "\n",
    "sess, protocol = valid_sessions[bad]\n",
    "sess"
   ]
  },
  {
   "cell_type": "code",
   "execution_count": null,
   "metadata": {},
   "outputs": [],
   "source": [
    "import tifffile\n",
    "\n",
    "ds = flz.Dataset.from_flexilims(id='67ed63e5b99b5006b4e789b5', flexilims_session=flm_sess)\n",
    "ds"
   ]
  },
  {
   "cell_type": "code",
   "execution_count": null,
   "metadata": {},
   "outputs": [],
   "source": [
    "img = tifffile.imread(ds.path_full / ds.extra_attributes['tif_files'][0])\n",
    "img.shape"
   ]
  },
  {
   "cell_type": "code",
   "execution_count": null,
   "metadata": {},
   "outputs": [],
   "source": [
    "flm_sess.delete(ds.id)"
   ]
  },
  {
   "cell_type": "code",
   "execution_count": null,
   "metadata": {},
   "outputs": [],
   "source": []
  }
 ],
 "metadata": {
  "kernelspec": {
   "language": "python"
  },
  "language_info": {
   "codemirror_mode": {
    "name": "ipython",
    "version": 3
   },
   "file_extension": ".py",
   "mimetype": "text/x-python",
   "name": "python",
   "nbconvert_exporter": "python",
   "pygments_lexer": "ipython3"
  }
 },
 "nbformat": 4,
 "nbformat_minor": 2
}
