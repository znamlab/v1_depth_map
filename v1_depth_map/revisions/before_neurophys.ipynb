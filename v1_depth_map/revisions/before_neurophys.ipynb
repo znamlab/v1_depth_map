{
 "cells": [
  {
   "cell_type": "markdown",
   "id": "ef1d21d7",
   "metadata": {},
   "source": [
    "# Quick analysis before neurophys meeting\n",
    "\n",
    "Before 21/05/25 neurophys meeting"
   ]
  },
  {
   "cell_type": "markdown",
   "id": "6f92943e",
   "metadata": {},
   "source": [
    "## Multi depth\n",
    "\n",
    "Find one session with some tuned cells in control"
   ]
  },
  {
   "cell_type": "code",
   "execution_count": null,
   "id": "eeeefb92",
   "metadata": {},
   "outputs": [],
   "source": [
    "%load_ext autoreload\n",
    "%autoreload 2"
   ]
  },
  {
   "cell_type": "code",
   "execution_count": null,
   "id": "8dd0c486",
   "metadata": {},
   "outputs": [],
   "source": [
    "project = \"colasa_3d-vision_revisions\"\n",
    "session_name = \"PZAG16.3c_S20250317\""
   ]
  },
  {
   "cell_type": "code",
   "execution_count": null,
   "id": "d5dca0ae",
   "metadata": {},
   "outputs": [],
   "source": [
    "\n",
    "# Load neurons df\n",
    "import flexiznam as flz\n",
    "import pandas as pd\n",
    "import numpy as np\n",
    "from cottage_analysis.analysis import spheres\n",
    "from cottage_analysis.pipelines import pipeline_utils\n",
    "from cottage_analysis.analysis.spheres import rf_fitting\n",
    "\n",
    "flexilims_session = flz.get_flexilims_session(project_id=project)"
   ]
  },
  {
   "cell_type": "code",
   "execution_count": null,
   "id": "4e118501",
   "metadata": {},
   "outputs": [],
   "source": [
    "\n",
    "neurons_ds = pipeline_utils.create_neurons_ds(\n",
    "            session_name=session_name,\n",
    "            flexilims_session=flexilims_session,\n",
    "            conflicts=\"skip\",\n",
    "        )"
   ]
  },
  {
   "cell_type": "code",
   "execution_count": null,
   "id": "898d9b7c",
   "metadata": {},
   "outputs": [],
   "source": [
    "protocol_base = \"SpheresPermTubeReward_multidepth\"\n",
    "# STEP BY STEP. Part 1 sync and load\n",
    "if True:\n",
    "    # here we do it step by step for debugging\n",
    "\n",
    "    flexilims_session = flz.get_flexilims_session(project)\n",
    "    print(\"---Start synchronisation...---\")\n",
    "    vs_df_all, trials_df_all = spheres.sync_all_recordings(\n",
    "        session_name=session_name,\n",
    "        flexilims_session=flexilims_session,\n",
    "        project=project,\n",
    "        filter_datasets={\"anatomical_only\": 3},\n",
    "        recording_type=\"two_photon\",\n",
    "        protocol_base=protocol_base,\n",
    "        photodiode_protocol=5,\n",
    "        return_volumes=True,\n",
    "        conflicts=\"skip\",\n",
    "    )\n",
    "\n",
    "    # Add trial number to flexilims\n",
    "    trial_no_closedloop = len(trials_df_all[trials_df_all[\"closed_loop\"] == 1])\n",
    "    trial_no_openloop = len(trials_df_all[trials_df_all[\"closed_loop\"] == 0])\n",
    "    ndepths = len(trials_df_all[\"depth\"].unique())\n",
    "    flz.update_entity(\n",
    "        \"session\",\n",
    "        name=session_name,\n",
    "        mode=\"update\",\n",
    "        attributes={\n",
    "            \"closedloop_trials\": trial_no_closedloop,\n",
    "            \"openloop_trials\": trial_no_openloop,\n",
    "            \"ndepths\": ndepths,\n",
    "        },\n",
    "        flexilims_session=flexilims_session,\n",
    "    )\n",
    "\n",
    "    suite2p_datasets = flz.get_datasets(\n",
    "        origin_name=session_name,\n",
    "        dataset_type=\"suite2p_rois\",\n",
    "        project_id=project,\n",
    "        flexilims_session=flexilims_session,\n",
    "        return_dataseries=False,\n",
    "        filter_datasets={\"anatomical_only\": 3},\n",
    "    )\n",
    "    suite2p_dataset = suite2p_datasets[0]\n",
    "    frame_rate = suite2p_dataset.extra_attributes[\"fs\"]\n",
    "\n",
    "    is_multidepth = \"multidepth\" in protocol_base\n"
   ]
  },
  {
   "cell_type": "code",
   "execution_count": null,
   "id": "f0d995f1",
   "metadata": {},
   "outputs": [],
   "source": [
    "np.geomspace(2.5, 10240, 13)"
   ]
  },
  {
   "cell_type": "code",
   "execution_count": null,
   "id": "670bd957",
   "metadata": {},
   "outputs": [],
   "source": [
    "np.geomspace(2.5, 10240, 13)"
   ]
  },
  {
   "cell_type": "code",
   "execution_count": null,
   "id": "aef342c9",
   "metadata": {},
   "outputs": [],
   "source": [
    "target = neurons_ds.path_full.parent\n",
    "print(target)\n",
    "import os\n",
    "[f for f in os.listdir(target) if f.endswith('.npy')]"
   ]
  },
  {
   "cell_type": "code",
   "execution_count": null,
   "id": "a933cdc1",
   "metadata": {},
   "outputs": [],
   "source": [
    "coeffs = np.load(target / 'coef_subset.npy')\n",
    "print(coeffs.shape)"
   ]
  },
  {
   "cell_type": "code",
   "execution_count": null,
   "id": "c89eb85b",
   "metadata": {},
   "outputs": [],
   "source": [
    "ndepths=8\n",
    "frame_shape=(16, 24)\n",
    "position=[0, 0, 1, 1]\n",
    "plot_prop=0.99\n",
    "xlabel=\"Azimuth (deg)\"\n",
    "ylabel=\"Elevation (deg)\"\n",
    "fontsize_dict={\"title\": 15, \"label\": 10, \"tick\": 5, \"legend\":6}\n",
    "resolution=5\n",
    "azimuth_limits=(-120, 120)\n",
    "elevation_limits=(-40, 40)\n",
    "\n",
    "frame_shape = (16,24)\n",
    "\n"
   ]
  },
  {
   "cell_type": "code",
   "execution_count": null,
   "id": "a3b1d9b0",
   "metadata": {},
   "outputs": [],
   "source": [
    "print(coeffs.shape[-1])"
   ]
  },
  {
   "cell_type": "code",
   "execution_count": null,
   "id": "9130631a",
   "metadata": {},
   "outputs": [],
   "source": []
  },
  {
   "cell_type": "code",
   "execution_count": null,
   "id": "28fa58fd",
   "metadata": {},
   "outputs": [],
   "source": [
    "import matplotlib.pyplot as plt\n",
    "\n",
    "for roi in range(10):\n",
    "    fig=plt.figure()\n",
    "    fig.suptitle(f\"ROI {roi}\")\n",
    "\n",
    "    coef = coeffs[...,roi][:, :-1]\n",
    "    coef = coef.reshape(coef.shape[0], ndepths, frame_shape[0], frame_shape[1])\n",
    "    coef_mean = np.mean(coef, axis=0)\n",
    "    coef_max = np.nanmax(coef_mean)\n",
    "    plot_x, plot_y, plot_width, plot_height = position\n",
    "\n",
    "    for i in range(ndepths):\n",
    "        ax = plt.gcf().add_axes(\n",
    "            [\n",
    "                plot_x,\n",
    "                plot_y - plot_height / ndepths * i,\n",
    "                plot_width,\n",
    "                plot_height / ndepths * plot_prop,\n",
    "            ]\n",
    "        )\n",
    "        im = plt.imshow(\n",
    "            coef_mean[i, :, :],\n",
    "            origin=\"lower\",\n",
    "            cmap=\"bwr\",\n",
    "            extent=[0, 120, -40, 40],\n",
    "            vmin=-np.round(coef_max, 1),\n",
    "            vmax=np.round(coef_max, 1),\n",
    "        )\n",
    "        if i != ndepths - 1:\n",
    "            plt.gca().set_xticklabels([])\n",
    "        if i == ndepths // 2:\n",
    "            ax.set_ylabel(ylabel, fontsize=fontsize_dict[\"label\"])\n",
    "        if i == ndepths - 1:\n",
    "            ax.set_xlabel(xlabel, fontsize=fontsize_dict[\"label\"])\n",
    "        ax.tick_params(axis=\"both\", labelsize=fontsize_dict[\"tick\"], length=1.5)\n",
    "        ax.set_xticks([0, 60, 120])\n",
    "\n",
    "        if i == ndepths - 1:\n",
    "            ax_pos = ax.get_position()\n",
    "            ax2 = plt.gcf().add_axes(\n",
    "                [\n",
    "                    ax_pos.x1 + ax_pos.width * 0.05,\n",
    "                    ax_pos.y0,\n",
    "                    0.005,\n",
    "                    ax_pos.height / 2,\n",
    "                ]\n",
    "            )\n",
    "            cbar = plt.colorbar(mappable=im, cax=ax2)\n",
    "            # cbar.set_label(\"Z-score\", fontsize=fontsize_dict[\"legend\"])\n",
    "            cbar.ax.tick_params(labelsize=fontsize_dict[\"legend\"], length=2, pad=1)\n",
    "            cbar.set_ticks([-np.round(coef_max, 1), 0, np.round(coef_max, 1)])"
   ]
  },
  {
   "cell_type": "code",
   "execution_count": null,
   "id": "896508e7",
   "metadata": {},
   "outputs": [],
   "source": [
    "vs_df_example, trials_df_example = spheres.sync_all_recordings(\n",
    "    session_name=session_name,\n",
    "    flexilims_session=flexilims_session,\n",
    "    project=project,\n",
    "    filter_datasets={\"anatomical_only\": 3},\n",
    "    recording_type=\"two_photon\",\n",
    "    protocol_base=\"SpheresPermTubeReward\",\n",
    "    photodiode_protocol=5,\n",
    "    return_volumes=True,\n",
    ")\n",
    "suite2p_ds = flz.get_datasets_recursively(\n",
    "    flexilims_session=flexilims_session,\n",
    "    origin_name=session_name,\n",
    "    dataset_type=\"suite2p_traces\",\n",
    ")\n",
    "fs = list(suite2p_ds.values())[0][-1].extra_attributes[\"fs\"]\n",
    "\n",
    "rs_arr = np.array([j for i in trials_df_example.RS_stim.values for j in i]) * 100\n",
    "of_arr = np.degrees([j for i in trials_df_example.OF_stim.values for j in i])"
   ]
  },
  {
   "cell_type": "code",
   "execution_count": null,
   "id": "e2c9d92b",
   "metadata": {},
   "outputs": [],
   "source": [
    "neurons_ds = pipeline_utils.create_neurons_ds(\n",
    "        session_name=session_name,\n",
    "        flexilims_session=flexilims_session,\n",
    "        conflicts=\"skip\",\n",
    "    )\n",
    "neurons_df = pd.read_pickle(neurons_ds.path_full)"
   ]
  },
  {
   "cell_type": "code",
   "execution_count": null,
   "id": "0c901547",
   "metadata": {},
   "outputs": [],
   "source": [
    "\n",
    "txt = f\"{len(neurons_df)} neurons\"\n",
    "good_neurons = neurons_df.query(\"is_depth_neuron == True\")\n",
    "txt += f\", {len(good_neurons)} depth selective\"\n",
    "good_neurons = good_neurons.query(\"depth_tuning_test_spearmanr_rval_closedloop > 0.4\")\n",
    "txt += f\", {len(good_neurons)} spearman R >0.4\"\n",
    "good_neurons = good_neurons.query(\"depth_tuning_test_spearmanr_pval_closedloop < 0.05\")\n",
    "txt += f\", {len(good_neurons)} spearman p <0.05\"\n",
    "good_neurons[\"max_fit\"] = good_neurons.depth_tuning_popt_closedloop_running.map(\n",
    "    lambda x: np.exp(x[0])\n",
    ")\n",
    "good_neurons = good_neurons.query(\"max_fit < 10\")\n",
    "good_neurons = good_neurons.query(\"max_fit > 0.5\")\n",
    "txt += f\", {len(good_neurons)} with large peak dff\"\n",
    "print(txt)\n",
    "photodiode_protocol = 5"
   ]
  },
  {
   "cell_type": "code",
   "execution_count": null,
   "id": "50ee364a",
   "metadata": {},
   "outputs": [],
   "source": []
  },
  {
   "cell_type": "code",
   "execution_count": null,
   "id": "703317c8",
   "metadata": {},
   "outputs": [],
   "source": [
    "# Range of \"normal\" figure\n",
    "log_range = {\n",
    "    \"rs_bin_log_min\": 0,\n",
    "    \"rs_bin_log_max\": 2.5,\n",
    "    \"rs_bin_num\": 6,\n",
    "    \"of_bin_log_min\": -1.5,\n",
    "    \"of_bin_log_max\": 3.5,\n",
    "    \"of_bin_num\": 11,\n",
    "    \"log_base\": 10,\n",
    "}\n",
    "rs_bins = (\n",
    "    np.logspace(\n",
    "        log_range[\"rs_bin_log_min\"],\n",
    "        log_range[\"rs_bin_log_max\"],\n",
    "        num=log_range[\"rs_bin_num\"],\n",
    "        base=log_range[\"log_base\"],\n",
    "    )\n",
    "    # / 100\n",
    ")\n",
    "rs_bins = np.insert(rs_bins, 0, 0)\n",
    "\n",
    "of_bins = np.logspace(\n",
    "    log_range[\"of_bin_log_min\"],\n",
    "    log_range[\"of_bin_log_max\"],\n",
    "    num=log_range[\"of_bin_num\"],\n",
    "    base=log_range[\"log_base\"],\n",
    ")\n",
    "of_bins = np.insert(of_bins, 0, 0)\n",
    "\n",
    "\n",
    "def rs2pos(x):\n",
    "    return np.log10(x + 1) / np.log10(rs_bins.max() + 1) * (len(rs_bins)) - 1\n",
    "\n",
    "\n",
    "def of2pos(x):\n",
    "    rng = np.log10(of_bins.max() / of_bins[1])\n",
    "    return np.log10(x / of_bins[1]) / (rng) * (len(of_bins) - 1)"
   ]
  },
  {
   "cell_type": "code",
   "execution_count": null,
   "id": "26d296b6",
   "metadata": {},
   "outputs": [],
   "source": [
    "import scipy\n",
    "roi = good_neurons.iloc[6].name\n",
    "ax0 = plt.subplot(1,1,1)\n",
    "dff_arr = np.vstack(trials_df_example.dff_stim.values)[:, roi]\n",
    "cmap='Reds'\n",
    "bin_means, rs_edges, of_edges, _ = scipy.stats.binned_statistic_2d(\n",
    "    x=rs_arr,\n",
    "    y=of_arr,\n",
    "    values=dff_arr,\n",
    "    statistic=\"mean\",\n",
    "    bins=[rs_bins, of_bins],\n",
    ")\n",
    "vmax = max(np.nanmax(bin_means[1:, 1:]), 0.1)\n",
    "im = ax0.imshow(\n",
    "    bin_means[1:, 1:].T,\n",
    "    origin=\"lower\",\n",
    "    aspect=\"equal\",\n",
    "    cmap=cmap,\n",
    "    vmin=0,\n",
    "    vmax=vmax,\n",
    "    extent=np.log10(\n",
    "        (rs_edges[1], rs_edges[-1], of_edges[1], of_edges[-1])\n",
    "    ),\n",
    ")"
   ]
  },
  {
   "cell_type": "code",
   "execution_count": null,
   "id": "84b13fbd",
   "metadata": {},
   "outputs": [],
   "source": [
    "\n",
    "import numpy as np\n",
    "import pandas as pd\n",
    "import matplotlib\n",
    "matplotlib.rcParams['pdf.fonttype'] = 42 # for pdfs\n",
    "matplotlib.rcParams['svg.fonttype'] = 'none' # for svgs\n",
    "import warnings\n",
    "warnings.filterwarnings(\"ignore\", category=RuntimeWarning)\n",
    "warnings.filterwarnings(\"ignore\", category=FutureWarning)\n",
    "import matplotlib.pyplot as plt\n",
    "import seaborn as sns\n",
    "from pathlib import Path\n",
    "import flexiznam as flz\n",
    "from cottage_analysis.analysis import spheres, common_utils\n",
    "from cottage_analysis.pipelines import pipeline_utils\n",
    "from cottage_analysis.summary_analysis import depth_responses, summary_utils, get_session_list, depth_decoder_stats\n",
    "from cottage_analysis.plotting import depth_selectivity_plots, depth_decoder_plots, plotting_utils"
   ]
  },
  {
   "cell_type": "code",
   "execution_count": null,
   "id": "594c6e17",
   "metadata": {},
   "outputs": [],
   "source": [
    "depth_tuning_kwargs = dict(\n",
    "    rs_thr=None,\n",
    "    plot_fit=True,\n",
    "    plot_smooth=False,\n",
    "    linewidth=1.5,\n",
    "    linecolor=\"royalblue\",\n",
    "    closed_loop=1,\n",
    "    fontsize_dict=fontsize_dict,\n",
    "    markersize=8,\n",
    "    markeredgecolor='w',\n",
    ")\n",
    "roi_num=1\n",
    "ax = plt.subplot(1,1,1)\n",
    "depth_selectivity_plots.plot_running_stationary_depth_tuning(roi=roi, roi_num=roi_num, i=roi, \n",
    "                                                           neurons_df=neurons_df,\n",
    "                                                           trials_df=trials_df_example,\n",
    "                                                           ax=ax, fov_ax=fov_ax, ops=ops, stat=stat,\n",
    "                                        depth_tuning_kwargs=depth_tuning_kwargs, \n",
    "                                        fontsize_dict=fontsize_dict, legend_loc=\"upper right\", text_pos=label_pos)"
   ]
  },
  {
   "cell_type": "code",
   "execution_count": null,
   "id": "17f1d761",
   "metadata": {},
   "outputs": [],
   "source": []
  }
 ],
 "metadata": {
  "kernelspec": {
   "language": "python"
  },
  "language_info": {
   "codemirror_mode": {
    "name": "ipython",
    "version": 3
   },
   "file_extension": ".py",
   "mimetype": "text/x-python",
   "name": "python",
   "nbconvert_exporter": "python",
   "pygments_lexer": "ipython3"
  }
 },
 "nbformat": 4,
 "nbformat_minor": 5
}
